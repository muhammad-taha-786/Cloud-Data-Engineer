{
 "cells": [
  {
   "cell_type": "code",
   "execution_count": 1,
   "id": "4275394e-9c70-4e05-8234-1bf97c4f2595",
   "metadata": {},
   "outputs": [
    {
     "name": "stdout",
     "output_type": "stream",
     "text": [
      "1\n",
      "2\n",
      "3\n",
      "4\n",
      "5\n"
     ]
    }
   ],
   "source": [
    "for temp in [1,2,3,4,5]:\n",
    "    print(temp)\n",
    "    "
   ]
  },
  {
   "cell_type": "code",
   "execution_count": 2,
   "id": "65c5e8b4-b384-4116-a145-909a9d8cd5f9",
   "metadata": {},
   "outputs": [
    {
     "name": "stdout",
     "output_type": "stream",
     "text": [
      "Muhammad Taha\n",
      "25\n",
      "50.55\n"
     ]
    }
   ],
   "source": [
    "for bio_info in ('Muhammad Taha', 25,50.55):\n",
    "    print(bio_info)"
   ]
  },
  {
   "cell_type": "code",
   "execution_count": 9,
   "id": "984e473c-3184-416b-905d-18cd8dd78037",
   "metadata": {},
   "outputs": [
    {
     "name": "stdout",
     "output_type": "stream",
     "text": [
      "Happy Birthday\n",
      "Happy Birthday\n",
      "Happy Birthday\n",
      "Happy Birthday\n",
      "Happy Birthday\n"
     ]
    }
   ],
   "source": [
    "for i in [1,2,3,4,5]: \n",
    "    print(\"Happy Birthday\")"
   ]
  },
  {
   "cell_type": "code",
   "execution_count": 10,
   "id": "823e225d-c8e1-4b6d-86d7-8cf9d0b1ca46",
   "metadata": {},
   "outputs": [
    {
     "name": "stdout",
     "output_type": "stream",
     "text": [
      "Happy Birthday\n",
      "Happy Birthday\n",
      "Happy Birthday\n",
      "Happy Birthday\n",
      "Happy Birthday\n"
     ]
    }
   ],
   "source": [
    "for i in range(5): \n",
    "    print(\"Happy Birthday\")"
   ]
  },
  {
   "cell_type": "code",
   "execution_count": 29,
   "id": "77dee13c-e0b7-4ebc-a975-33764220092f",
   "metadata": {},
   "outputs": [
    {
     "name": "stdin",
     "output_type": "stream",
     "text": [
      "Enter a number  2\n"
     ]
    },
    {
     "name": "stdout",
     "output_type": "stream",
     "text": [
      "The first number is 2 terms of the series are :\n",
      "2\n"
     ]
    }
   ],
   "source": [
    "user = int(input(\"Enter a number \"))\n",
    "for i in (user):\n",
    "    print(\"The first number is\", user, \"terms of the series are :\")\n",
    "    print(i)\n",
    "    "
   ]
  },
  {
   "cell_type": "code",
   "execution_count": null,
   "id": "9acd9f64-ef43-4281-b83c-b67ecf008d75",
   "metadata": {},
   "outputs": [],
   "source": []
  }
 ],
 "metadata": {
  "kernelspec": {
   "display_name": "Python [conda env:base] *",
   "language": "python",
   "name": "conda-base-py"
  },
  "language_info": {
   "codemirror_mode": {
    "name": "ipython",
    "version": 3
   },
   "file_extension": ".py",
   "mimetype": "text/x-python",
   "name": "python",
   "nbconvert_exporter": "python",
   "pygments_lexer": "ipython3",
   "version": "3.13.5"
  }
 },
 "nbformat": 4,
 "nbformat_minor": 5
}
