{
 "cells": [
  {
   "cell_type": "code",
   "execution_count": 1,
   "id": "4275394e-9c70-4e05-8234-1bf97c4f2595",
   "metadata": {},
   "outputs": [
    {
     "name": "stdout",
     "output_type": "stream",
     "text": [
      "1\n",
      "2\n",
      "3\n",
      "4\n",
      "5\n"
     ]
    }
   ],
   "source": [
    "for temp in [1,2,3,4,5]:\n",
    "    print(temp)\n",
    "    "
   ]
  },
  {
   "cell_type": "code",
   "execution_count": 2,
   "id": "65c5e8b4-b384-4116-a145-909a9d8cd5f9",
   "metadata": {},
   "outputs": [
    {
     "name": "stdout",
     "output_type": "stream",
     "text": [
      "Muhammad Taha\n",
      "25\n",
      "50.55\n"
     ]
    }
   ],
   "source": [
    "for bio_info in ('Muhammad Taha', 25,50.55):\n",
    "    print(bio_info)"
   ]
  },
  {
   "cell_type": "code",
   "execution_count": 9,
   "id": "984e473c-3184-416b-905d-18cd8dd78037",
   "metadata": {},
   "outputs": [
    {
     "name": "stdout",
     "output_type": "stream",
     "text": [
      "Happy Birthday\n",
      "Happy Birthday\n",
      "Happy Birthday\n",
      "Happy Birthday\n",
      "Happy Birthday\n"
     ]
    }
   ],
   "source": [
    "for i in [1,2,3,4,5]: \n",
    "    print(\"Happy Birthday\")"
   ]
  },
  {
   "cell_type": "code",
   "execution_count": 10,
   "id": "823e225d-c8e1-4b6d-86d7-8cf9d0b1ca46",
   "metadata": {},
   "outputs": [
    {
     "name": "stdout",
     "output_type": "stream",
     "text": [
      "Happy Birthday\n",
      "Happy Birthday\n",
      "Happy Birthday\n",
      "Happy Birthday\n",
      "Happy Birthday\n"
     ]
    }
   ],
   "source": [
    "for i in range(5): \n",
    "    print(\"Happy Birthday\")"
   ]
  },
  {
   "cell_type": "code",
   "execution_count": 32,
   "id": "77dee13c-e0b7-4ebc-a975-33764220092f",
   "metadata": {},
   "outputs": [
    {
     "name": "stdin",
     "output_type": "stream",
     "text": [
      "Enter a number  5\n"
     ]
    },
    {
     "name": "stdout",
     "output_type": "stream",
     "text": [
      "1\n",
      "4\n",
      "9\n",
      "16\n",
      "25\n"
     ]
    }
   ],
   "source": [
    "user = int(input(\"Enter a number \"))\n",
    "for temp in range(user):\n",
    "    print((temp+1)**2)\n",
    "    "
   ]
  },
  {
   "cell_type": "code",
   "execution_count": 36,
   "id": "9acd9f64-ef43-4281-b83c-b67ecf008d75",
   "metadata": {},
   "outputs": [
    {
     "name": "stdin",
     "output_type": "stream",
     "text": [
      "Enter a Table Number 2\n",
      "How many times to print table 5\n"
     ]
    },
    {
     "name": "stdout",
     "output_type": "stream",
     "text": [
      "2 * 1 = 2\n",
      "2 * 2 = 4\n",
      "2 * 3 = 6\n",
      "2 * 4 = 8\n",
      "2 * 5 = 10\n"
     ]
    }
   ],
   "source": [
    "table = int(input(\"Enter a Table Number\"))\n",
    "times = int(input(\"How many times to print table\"))\n",
    "for temp in range(times):\n",
    "    print(f\"{table} * {temp+1} = {table * (temp+1)}\")"
   ]
  },
  {
   "cell_type": "code",
   "execution_count": 37,
   "id": "da3c1209-f69c-4003-b9c4-b00399edb2ca",
   "metadata": {},
   "outputs": [
    {
     "name": "stdin",
     "output_type": "stream",
     "text": [
      "Enter a table number 5\n",
      "How many times to print table 5\n"
     ]
    },
    {
     "name": "stdout",
     "output_type": "stream",
     "text": [
      "5 * 1 = 5\n",
      "5 * 2 = 10\n",
      "5 * 3 = 15\n",
      "5 * 4 = 20\n",
      "5 * 5 = 25\n"
     ]
    }
   ],
   "source": [
    "table = int(input(\"Enter a table number\"))\n",
    "times = int(input(\"How many times to print table\"))\n",
    "for temp in range(times):\n",
    "    print(f\"{table} * {temp+1} = {table * (temp+1)}\")"
   ]
  },
  {
   "cell_type": "code",
   "execution_count": 41,
   "id": "76480500-f7c9-483d-a02b-40104210d489",
   "metadata": {},
   "outputs": [
    {
     "name": "stdout",
     "output_type": "stream",
     "text": [
      "2 * 1 = 2\n",
      "-------------\n",
      "2 * 2 = 4\n",
      "-------------\n",
      "2 * 3 = 6\n",
      "-------------\n",
      "2 * 4 = 8\n",
      "-------------\n",
      "2 * 5 = 10\n",
      "-------------\n",
      "2 * 6 = 12\n",
      "-------------\n",
      "2 * 7 = 14\n",
      "-------------\n",
      "2 * 8 = 16\n",
      "-------------\n",
      "2 * 9 = 18\n",
      "-------------\n",
      "2 * 10 = 20\n",
      "-------------\n"
     ]
    }
   ],
   "source": [
    "num = 11\n",
    "for i in [2,3,4,5]:\n",
    "    for j in range(1,num):\n",
    "        print(f\"{i} * {j} = {i*j}\")\n",
    "        num = -1\n",
    "        print(f\"-------------\")"
   ]
  },
  {
   "cell_type": "code",
   "execution_count": 39,
   "id": "77fa0560-a630-4588-81ff-a5d059d97bad",
   "metadata": {},
   "outputs": [
    {
     "name": "stdout",
     "output_type": "stream",
     "text": [
      "2\n",
      "3\n",
      "4\n"
     ]
    }
   ],
   "source": [
    "for table in range(2,5):\n",
    "    for temp in range(times):\n",
    "        print(f)"
   ]
  },
  {
   "cell_type": "markdown",
   "id": "9232ccf2-1824-443c-baa7-31b5cc9f4061",
   "metadata": {},
   "source": [
    "### Dictionaries:\n"
   ]
  },
  {
   "cell_type": "code",
   "execution_count": 71,
   "id": "7b0fae5b-1cff-4f66-a7dd-2eceb8dccd0c",
   "metadata": {},
   "outputs": [],
   "source": [
    "bio_data = {\n",
    "    \"f_name\": \"Muhammad\",\n",
    "    \"l_name\": \"Taha\",\n",
    "    \"age\": 21,\n",
    "    \"weight\": 5.55,\n",
    "    \"is_present\":  True\n",
    "}"
   ]
  },
  {
   "cell_type": "code",
   "execution_count": 72,
   "id": "b62c70ad-24bd-4525-8eb6-9fd00caf27b6",
   "metadata": {},
   "outputs": [
    {
     "name": "stdout",
     "output_type": "stream",
     "text": [
      "{'f_name': 'Muhammad', 'l_name': 'Taha', 'age': 21, 'weight': 5.55, 'is_present': True}\n"
     ]
    }
   ],
   "source": [
    "print(bio_data)"
   ]
  },
  {
   "cell_type": "code",
   "execution_count": 73,
   "id": "6f1d4a09-cc92-4d89-9d1d-3a70dd1ce4e2",
   "metadata": {},
   "outputs": [
    {
     "data": {
      "text/plain": [
       "dict_values(['Muhammad', 'Taha', 21, 5.55, True])"
      ]
     },
     "execution_count": 73,
     "metadata": {},
     "output_type": "execute_result"
    }
   ],
   "source": [
    "bio_data.values()"
   ]
  },
  {
   "cell_type": "code",
   "execution_count": 74,
   "id": "fcca0eb0-fcc4-4c19-b394-b80985e27902",
   "metadata": {},
   "outputs": [
    {
     "data": {
      "text/plain": [
       "dict_keys(['f_name', 'l_name', 'age', 'weight', 'is_present'])"
      ]
     },
     "execution_count": 74,
     "metadata": {},
     "output_type": "execute_result"
    }
   ],
   "source": [
    "bio_data.keys()"
   ]
  },
  {
   "cell_type": "code",
   "execution_count": 77,
   "id": "ec7c7fad-5070-41d6-a19b-bad0a44b3e74",
   "metadata": {},
   "outputs": [
    {
     "data": {
      "text/plain": [
       "('Muhammad', None)"
      ]
     },
     "execution_count": 77,
     "metadata": {},
     "output_type": "execute_result"
    }
   ],
   "source": [
    "bio_data.get(\"f_name\"),bio_data.get(\"f_namel\")"
   ]
  },
  {
   "cell_type": "code",
   "execution_count": 81,
   "id": "8f8509d9-03ac-40c5-bdcb-cd2710db7432",
   "metadata": {},
   "outputs": [],
   "source": [
    "bio_data.update()"
   ]
  },
  {
   "cell_type": "code",
   "execution_count": 82,
   "id": "5e23cce6-14ca-4409-b2db-ddacde90ce7f",
   "metadata": {},
   "outputs": [
    {
     "name": "stdout",
     "output_type": "stream",
     "text": [
      "{'f_name': 'Muhammad', 'l_name': 'Taha', 'age': 21, 'weight': 5.55, 'is_present': True}\n"
     ]
    }
   ],
   "source": [
    "print(bio_data)"
   ]
  },
  {
   "cell_type": "code",
   "execution_count": 87,
   "id": "bb4be28e-1a7f-4077-8edc-99a0ca3c3af6",
   "metadata": {},
   "outputs": [
    {
     "data": {
      "text/plain": [
       "'Muhammad'"
      ]
     },
     "execution_count": 87,
     "metadata": {},
     "output_type": "execute_result"
    }
   ],
   "source": [
    "bio_data.pop(\"f_name\")"
   ]
  },
  {
   "cell_type": "code",
   "execution_count": 88,
   "id": "e1aa8373-e652-42eb-856d-325650fb9425",
   "metadata": {},
   "outputs": [
    {
     "data": {
      "text/plain": [
       "{'l_name': 'Taha', 'age': 21, 'weight': 5.55, 'is_present': True}"
      ]
     },
     "execution_count": 88,
     "metadata": {},
     "output_type": "execute_result"
    }
   ],
   "source": [
    "bio_data"
   ]
  },
  {
   "cell_type": "code",
   "execution_count": 89,
   "id": "e250256f-97bb-4235-af40-44097d20a954",
   "metadata": {},
   "outputs": [
    {
     "data": {
      "text/plain": [
       "('is_present', True)"
      ]
     },
     "execution_count": 89,
     "metadata": {},
     "output_type": "execute_result"
    }
   ],
   "source": [
    "bio_data.popitem()"
   ]
  },
  {
   "cell_type": "code",
   "execution_count": 90,
   "id": "0cb7e7f2-bc27-4bdc-b173-757db274a070",
   "metadata": {},
   "outputs": [
    {
     "data": {
      "text/plain": [
       "{'l_name': 'Taha', 'age': 21, 'weight': 5.55}"
      ]
     },
     "execution_count": 90,
     "metadata": {},
     "output_type": "execute_result"
    }
   ],
   "source": [
    "bio_data"
   ]
  },
  {
   "cell_type": "code",
   "execution_count": 91,
   "id": "b9cc7db6-c5ab-4591-a09c-8f6c9872fc5b",
   "metadata": {},
   "outputs": [
    {
     "data": {
      "text/plain": [
       "('weight', 5.55)"
      ]
     },
     "execution_count": 91,
     "metadata": {},
     "output_type": "execute_result"
    }
   ],
   "source": [
    "bio_data.popitem()"
   ]
  },
  {
   "cell_type": "code",
   "execution_count": 92,
   "id": "5aec5be7-9bc8-4c59-b52d-5760306db295",
   "metadata": {},
   "outputs": [
    {
     "data": {
      "text/plain": [
       "{'l_name': 'Taha', 'age': 21}"
      ]
     },
     "execution_count": 92,
     "metadata": {},
     "output_type": "execute_result"
    }
   ],
   "source": [
    "bio_data"
   ]
  },
  {
   "cell_type": "code",
   "execution_count": 100,
   "id": "518541c4-e462-48f6-9129-77934576e052",
   "metadata": {},
   "outputs": [],
   "source": [
    "bio_data.setdefault(\"f_name\")"
   ]
  },
  {
   "cell_type": "code",
   "execution_count": 98,
   "id": "f89eaca7-d119-4ec9-a60c-8077fc3d53c2",
   "metadata": {},
   "outputs": [
    {
     "data": {
      "text/plain": [
       "{'l_name': 'Taha', 'age': 21, 'f_name': None}"
      ]
     },
     "execution_count": 98,
     "metadata": {},
     "output_type": "execute_result"
    }
   ],
   "source": [
    "bio_data"
   ]
  },
  {
   "cell_type": "code",
   "execution_count": 105,
   "id": "f231d8d9-5086-4660-b696-dc298033a23b",
   "metadata": {},
   "outputs": [
    {
     "data": {
      "text/plain": [
       "{'l_name': 'Taha', 'age': 21, 'f_name': None}"
      ]
     },
     "execution_count": 105,
     "metadata": {},
     "output_type": "execute_result"
    }
   ],
   "source": [
    "bio_data"
   ]
  },
  {
   "cell_type": "code",
   "execution_count": null,
   "id": "6bf3c348-fb7c-4b1c-97ac-2e0b8badfbc7",
   "metadata": {},
   "outputs": [],
   "source": [
    "bio_data "
   ]
  },
  {
   "cell_type": "code",
   "execution_count": null,
   "id": "f4ffe2f9-bd91-4df6-a15a-611dfd8aa047",
   "metadata": {},
   "outputs": [],
   "source": []
  }
 ],
 "metadata": {
  "kernelspec": {
   "display_name": "Python [conda env:base] *",
   "language": "python",
   "name": "conda-base-py"
  },
  "language_info": {
   "codemirror_mode": {
    "name": "ipython",
    "version": 3
   },
   "file_extension": ".py",
   "mimetype": "text/x-python",
   "name": "python",
   "nbconvert_exporter": "python",
   "pygments_lexer": "ipython3",
   "version": "3.13.5"
  }
 },
 "nbformat": 4,
 "nbformat_minor": 5
}
