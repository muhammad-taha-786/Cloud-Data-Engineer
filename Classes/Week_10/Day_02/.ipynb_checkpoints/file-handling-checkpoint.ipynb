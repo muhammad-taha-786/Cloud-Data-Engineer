{
 "cells": [
  {
   "cell_type": "markdown",
   "id": "624c1ef1-f7e5-4037-a4d4-94744e559c0e",
   "metadata": {},
   "source": [
    "### CSV File Handling "
   ]
  },
  {
   "cell_type": "code",
   "execution_count": 47,
   "id": "6c0a5e1d-7a5f-40a1-abda-e73eef9333e9",
   "metadata": {},
   "outputs": [],
   "source": [
    "import csv"
   ]
  },
  {
   "cell_type": "code",
   "execution_count": 48,
   "id": "0f932668-8195-4bf2-88ed-75c345905d49",
   "metadata": {},
   "outputs": [],
   "source": [
    "compittions = []\n",
    "with open('./compittions.csv', 'r') as f:\n",
    "    content = csv.reader(f)\n",
    "    # print(content)\n",
    "    for line in content:\n",
    "        compittions.append(line)"
   ]
  },
  {
   "cell_type": "code",
   "execution_count": 49,
   "id": "b1803cc2-07c7-4040-9952-152f8f824a75",
   "metadata": {},
   "outputs": [
    {
     "data": {
      "text/plain": [
       "[['Year\\tEvent\\tWinner'],\n",
       " ['1995\\tBest\\tNone'],\n",
       " ['1996\\tGoesstorm \\tWelch National'],\n",
       " ['2006\\tWorld Cup\\tBurkina foe']]"
      ]
     },
     "execution_count": 49,
     "metadata": {},
     "output_type": "execute_result"
    }
   ],
   "source": [
    "compittions"
   ]
  },
  {
   "cell_type": "code",
   "execution_count": 50,
   "id": "89a63f56-bd7b-48f1-a582-c81d63a23f72",
   "metadata": {},
   "outputs": [
    {
     "name": "stdout",
     "output_type": "stream",
     "text": [
      "['1995\\tBest\\tNone']\n",
      "['1996\\tGoesstorm \\tWelch National']\n",
      "['2006\\tWorld Cup\\tBurkina foe']\n"
     ]
    }
   ],
   "source": [
    "year = []\n",
    "events = []\n",
    "winners = []\n",
    "for line in compittions[1:]:\n",
    "    print(line)\n",
    "    year.append(line[0])\n",
    "    events.append(line[0])\n",
    "    winners.append(line[0])\n",
    "    "
   ]
  },
  {
   "cell_type": "code",
   "execution_count": 51,
   "id": "01530803-29bb-4cd5-93de-58966bd1b05e",
   "metadata": {},
   "outputs": [
    {
     "name": "stdout",
     "output_type": "stream",
     "text": [
      "['1995\\tBest\\tNone', '1996\\tGoesstorm \\tWelch National', '2006\\tWorld Cup\\tBurkina foe']\n",
      "['1995\\tBest\\tNone', '1996\\tGoesstorm \\tWelch National', '2006\\tWorld Cup\\tBurkina foe']\n",
      "['1995\\tBest\\tNone', '1996\\tGoesstorm \\tWelch National', '2006\\tWorld Cup\\tBurkina foe']\n"
     ]
    }
   ],
   "source": [
    "print(year, events, winners, sep='\\n')"
   ]
  },
  {
   "cell_type": "code",
   "execution_count": 60,
   "id": "fe658cb8-900e-449b-9cc6-085e257b7495",
   "metadata": {},
   "outputs": [],
   "source": [
    "import csv\n",
    "with open(file='./comptitions.csv', mode='a', newline='') as f:  # Changed mode to 'w'\n",
    "    write_handler = csv.writer(f, delimiter=\",\")\n",
    "    write_handler.writerow(['2025', 'World Cup', 'Pakistan'])\n",
    "    write_handler.writerow(['2025', 'World Cup', 'Pakistan'])\n"
   ]
  },
  {
   "cell_type": "markdown",
   "id": "6f5314e6-f032-4aed-8284-48a4df5cd22f",
   "metadata": {},
   "source": [
    "### Json Handling \n"
   ]
  },
  {
   "cell_type": "code",
   "execution_count": 62,
   "id": "8a003e0d-4530-45e7-a1c6-6f3fe87fd775",
   "metadata": {},
   "outputs": [],
   "source": [
    "import json "
   ]
  },
  {
   "cell_type": "code",
   "execution_count": 63,
   "id": "28ebed3b-cb5d-422c-a4c1-cc1393e13861",
   "metadata": {},
   "outputs": [],
   "source": [
    "with open('./json_file.json', 'w') as f:\n",
    "    json.dump(['a', 'b', 'c'], f)"
   ]
  },
  {
   "cell_type": "code",
   "execution_count": 67,
   "id": "f6ea0bb5-f1ff-4322-802e-a6ce76611299",
   "metadata": {},
   "outputs": [],
   "source": [
    "with open('./data.json', 'r') as f:\n",
    "    content = json.load(f) "
   ]
  },
  {
   "cell_type": "code",
   "execution_count": 68,
   "id": "872a2d6e-2bdb-4036-8c59-f8b59b043982",
   "metadata": {},
   "outputs": [
    {
     "data": {
      "text/plain": [
       "{'name': 'Muhammad Taha',\n",
       " 'age': 15,\n",
       " 'city': 'Chicago',\n",
       " 'skills': ['Python', 'Flutter', 'SEO'],\n",
       " 'DOB': '2008-01-15'}"
      ]
     },
     "execution_count": 68,
     "metadata": {},
     "output_type": "execute_result"
    }
   ],
   "source": [
    "content"
   ]
  },
  {
   "cell_type": "code",
   "execution_count": 72,
   "id": "33470f5e-ef1b-4f05-b989-a2c57d2d0835",
   "metadata": {},
   "outputs": [],
   "source": [
    "with open('./data.json', 'r') as f:\n",
    "    content = json.load(f) \n",
    "    content['Weight'] = 70"
   ]
  },
  {
   "cell_type": "code",
   "execution_count": 73,
   "id": "30ea10fc-5c15-4754-8cfb-7723c180cb37",
   "metadata": {},
   "outputs": [
    {
     "data": {
      "text/plain": [
       "{'name': 'Muhammad Taha',\n",
       " 'age': 15,\n",
       " 'city': 'Chicago',\n",
       " 'skills': ['Python', 'Flutter', 'SEO'],\n",
       " 'DOB': '2008-01-15',\n",
       " 'Weight': 70}"
      ]
     },
     "execution_count": 73,
     "metadata": {},
     "output_type": "execute_result"
    }
   ],
   "source": [
    "content"
   ]
  },
  {
   "cell_type": "code",
   "execution_count": 79,
   "id": "1f7be477-0108-4056-b1bb-c231d8009df7",
   "metadata": {},
   "outputs": [],
   "source": [
    "with open('./data.json', 'w') as file:\n",
    "    json.dump(content, file)"
   ]
  },
  {
   "cell_type": "markdown",
   "id": "3e516d00-99f8-4f45-aab4-e4e3f3396bf2",
   "metadata": {},
   "source": [
    "### Error Handling "
   ]
  },
  {
   "cell_type": "code",
   "execution_count": 80,
   "id": "6ecf5b91-d619-489f-bf79-ff3b3e182f2b",
   "metadata": {},
   "outputs": [
    {
     "ename": "IndentationError",
     "evalue": "expected an indented block after 'try' statement on line 1 (3927043431.py, line 3)",
     "output_type": "error",
     "traceback": [
      "\u001b[1;36m  Cell \u001b[1;32mIn[80], line 3\u001b[1;36m\u001b[0m\n\u001b[1;33m    except:\u001b[0m\n\u001b[1;37m    ^\u001b[0m\n\u001b[1;31mIndentationError\u001b[0m\u001b[1;31m:\u001b[0m expected an indented block after 'try' statement on line 1\n"
     ]
    }
   ],
   "source": [
    "try :\n",
    "\n",
    "except: \n",
    "    "
   ]
  },
  {
   "cell_type": "code",
   "execution_count": null,
   "id": "fff1bd43-ced8-47a4-84f9-61bd2472081f",
   "metadata": {},
   "outputs": [],
   "source": []
  }
 ],
 "metadata": {
  "kernelspec": {
   "display_name": "Python [conda env:base] *",
   "language": "python",
   "name": "conda-base-py"
  },
  "language_info": {
   "codemirror_mode": {
    "name": "ipython",
    "version": 3
   },
   "file_extension": ".py",
   "mimetype": "text/x-python",
   "name": "python",
   "nbconvert_exporter": "python",
   "pygments_lexer": "ipython3",
   "version": "3.13.5"
  }
 },
 "nbformat": 4,
 "nbformat_minor": 5
}
