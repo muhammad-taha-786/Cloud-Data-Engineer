{
 "cells": [
  {
   "cell_type": "markdown",
   "id": "dfe4bac5-05b3-454e-859a-5b8d2b350309",
   "metadata": {},
   "source": [
    "### Object Oriented Programming "
   ]
  },
  {
   "cell_type": "code",
   "execution_count": 30,
   "id": "fdd7680e-9646-4a62-8013-37a294e0a70f",
   "metadata": {},
   "outputs": [],
   "source": [
    "class shapes():\n",
    "\n",
    "    def slide(self):\n",
    "        print(\"A shape can have many slides\")"
   ]
  },
  {
   "cell_type": "code",
   "execution_count": 31,
   "id": "6e492b03-8699-4ebb-bb38-d945a4c951b5",
   "metadata": {},
   "outputs": [],
   "source": [
    "class square(shapes):\n",
    "    def slide(self):\n",
    "        print(\"Square has 4 Slides\")"
   ]
  },
  {
   "cell_type": "code",
   "execution_count": 32,
   "id": "79f3feef-df6a-481b-a512-5b9c75828125",
   "metadata": {},
   "outputs": [
    {
     "name": "stdout",
     "output_type": "stream",
     "text": [
      "Square has 4 Slides\n"
     ]
    }
   ],
   "source": [
    "sq_obj = square()\n",
    "sq_obj.slide()"
   ]
  },
  {
   "cell_type": "code",
   "execution_count": 35,
   "id": "7f5a224e-66e4-46c3-b57e-13efc6c977ef",
   "metadata": {},
   "outputs": [],
   "source": [
    "class circle(shapes):\n",
    "    def slide(self):\n",
    "        print(\"Circle has 0 slides (it is round)\")"
   ]
  },
  {
   "cell_type": "code",
   "execution_count": 36,
   "id": "7cc58292-408b-4c21-898f-f74c53199897",
   "metadata": {},
   "outputs": [],
   "source": [
    "class rectangular(shapes):\n",
    "    def slide(self):\n",
    "        print(\"Rectangle has 4 slides\")"
   ]
  },
  {
   "cell_type": "code",
   "execution_count": 37,
   "id": "a7a2902b-ea3e-4df0-927d-89450d049cb4",
   "metadata": {},
   "outputs": [],
   "source": [
    "class triangle(shapes):\n",
    "    def slide(self):\n",
    "        print(\"Triangle has 3 slides\")"
   ]
  },
  {
   "cell_type": "code",
   "execution_count": 40,
   "id": "89dfe514-e8cc-44a5-8925-30d6a92ce649",
   "metadata": {},
   "outputs": [],
   "source": [
    "sq = square()\n",
    "rect = rectangular()\n",
    "tri = triangle()\n",
    "circ = circle()"
   ]
  },
  {
   "cell_type": "code",
   "execution_count": 41,
   "id": "82d05dc4-5b92-45b1-89b0-211195cb21c1",
   "metadata": {},
   "outputs": [
    {
     "name": "stdout",
     "output_type": "stream",
     "text": [
      "Square has 4 Slides\n",
      "Rectangle has 4 slides\n",
      "Triangle has 3 slides\n",
      "Circle has 0 slides (it is round)\n"
     ]
    }
   ],
   "source": [
    "sq.slide()\n",
    "rect.slide()\n",
    "tri.slide()\n",
    "circ.slide()"
   ]
  },
  {
   "cell_type": "markdown",
   "id": "b658f670-8c75-4f92-ac88-e0852588e52d",
   "metadata": {},
   "source": [
    "### Polymorphism with Classes"
   ]
  },
  {
   "cell_type": "code",
   "execution_count": 48,
   "id": "605ce6f5-18d2-43ca-b535-e3ca93c7d724",
   "metadata": {},
   "outputs": [],
   "source": [
    "class Shape:\n",
    "    def slide(self):\n",
    "        print(\"A shape has slides\")\n",
    "\n",
    "class Square(Shape):\n",
    "    def slide(self):\n",
    "        print(\"Square has 4 slides\")\n",
    "\n",
    "class Rectangle(Shape):\n",
    "    def slide(self):\n",
    "        print(\"Rectangle has 4 slides\")\n",
    "\n",
    "class Triangle(Shape):\n",
    "    def slide(self):\n",
    "        print(\"Triangle has 3 slides\")\n",
    "\n",
    "class Circle(Shape):\n",
    "    def slide(self):\n",
    "        print(\"Circle has 0 slides (it is round)\")\n"
   ]
  },
  {
   "cell_type": "code",
   "execution_count": 49,
   "id": "ff683635-212f-43fe-8e21-f2d1aac541ee",
   "metadata": {},
   "outputs": [
    {
     "name": "stdout",
     "output_type": "stream",
     "text": [
      "Square has 4 slides\n",
      "Rectangle has 4 slides\n",
      "Triangle has 3 slides\n",
      "Circle has 0 slides (it is round)\n"
     ]
    }
   ],
   "source": [
    "# Create different shape objects\n",
    "shapes = [Square(), Rectangle(), Triangle(), Circle()]\n",
    "\n",
    "# Loop through them\n",
    "for s in shapes:\n",
    "    s.slide()   # Polymorphism in action\n"
   ]
  },
  {
   "cell_type": "markdown",
   "id": "79524162-2758-4b30-87be-376e2e840030",
   "metadata": {},
   "source": [
    "### Encapsulation "
   ]
  },
  {
   "cell_type": "code",
   "execution_count": 50,
   "id": "95ad5cc2-a60d-42f8-a1c3-627b7b55528d",
   "metadata": {},
   "outputs": [],
   "source": [
    "class MAJU():\n",
    "    def __init__(self):\n",
    "        self.branch = \"Karachi\"\n",
    "        self._batch = \"Sprint 2025\"\n",
    "        self.__program = \"BSCS\""
   ]
  },
  {
   "cell_type": "code",
   "execution_count": 51,
   "id": "1481901b-c840-4706-a141-11de3e10b8fc",
   "metadata": {},
   "outputs": [],
   "source": [
    "my_obj = MAJU()"
   ]
  },
  {
   "cell_type": "code",
   "execution_count": 52,
   "id": "e8090b8c-63b6-4bed-bfa9-5aed1a63c95b",
   "metadata": {},
   "outputs": [
    {
     "data": {
      "text/plain": [
       "'Karachi'"
      ]
     },
     "execution_count": 52,
     "metadata": {},
     "output_type": "execute_result"
    }
   ],
   "source": [
    "my_obj.branch"
   ]
  },
  {
   "cell_type": "code",
   "execution_count": 53,
   "id": "275d2fd2-5a1f-43f8-abf3-6fcd92e60718",
   "metadata": {},
   "outputs": [
    {
     "data": {
      "text/plain": [
       "'Sprint 2025'"
      ]
     },
     "execution_count": 53,
     "metadata": {},
     "output_type": "execute_result"
    }
   ],
   "source": [
    "my_obj._batch"
   ]
  },
  {
   "cell_type": "code",
   "execution_count": 54,
   "id": "8486133b-12e7-4653-990b-4ad660eb79f3",
   "metadata": {},
   "outputs": [
    {
     "data": {
      "text/plain": [
       "'BSCS'"
      ]
     },
     "execution_count": 54,
     "metadata": {},
     "output_type": "execute_result"
    }
   ],
   "source": [
    "my_obj._MAJU__program"
   ]
  },
  {
   "cell_type": "code",
   "execution_count": 55,
   "id": "4acf95e3-5407-43d9-93e8-832e5076d517",
   "metadata": {},
   "outputs": [],
   "source": [
    "class StudentLogin():\n",
    "    def __init__(self):\n",
    "        self.name = \"Syed Taha\"\n",
    "        self._id = 447701\n",
    "        self.__password = \"Login\""
   ]
  },
  {
   "cell_type": "code",
   "execution_count": 56,
   "id": "9fe31c82-4b1d-486a-a501-aa46ab1a724a",
   "metadata": {},
   "outputs": [],
   "source": [
    "my_obj = StudentLogin()"
   ]
  },
  {
   "cell_type": "code",
   "execution_count": 57,
   "id": "dbc8094d-05eb-44ba-8be7-aaa1a6204077",
   "metadata": {},
   "outputs": [
    {
     "data": {
      "text/plain": [
       "'Syed Taha'"
      ]
     },
     "execution_count": 57,
     "metadata": {},
     "output_type": "execute_result"
    }
   ],
   "source": [
    "my_obj.name"
   ]
  },
  {
   "cell_type": "code",
   "execution_count": 58,
   "id": "08e5ca73-efff-4730-a7e2-d9b7352b5283",
   "metadata": {},
   "outputs": [
    {
     "data": {
      "text/plain": [
       "447701"
      ]
     },
     "execution_count": 58,
     "metadata": {},
     "output_type": "execute_result"
    }
   ],
   "source": [
    "my_obj._id"
   ]
  },
  {
   "cell_type": "code",
   "execution_count": 59,
   "id": "9acd5233-fe18-4535-a118-008b2c518edb",
   "metadata": {},
   "outputs": [
    {
     "data": {
      "text/plain": [
       "'Login'"
      ]
     },
     "execution_count": 59,
     "metadata": {},
     "output_type": "execute_result"
    }
   ],
   "source": [
    "my_obj._StudentLogin__password"
   ]
  },
  {
   "cell_type": "code",
   "execution_count": 61,
   "id": "5e370bbd-ea9a-4971-a98c-df40ec2188b9",
   "metadata": {},
   "outputs": [],
   "source": [
    "class StudentLogin:\n",
    "    __username = \"taha\"\n",
    "    __password = \"Login\"\n",
    "\n",
    "    def dbconnectivity(self, username, password):\n",
    "        if username == StudentLogin.__username and password == StudentLogin.__password:\n",
    "            print(\"Valid User\")\n",
    "\n",
    "        else:\n",
    "            print(\"Not Valid User\")\n",
    "\n",
    "    def login(self, username, password):\n",
    "        self.__dbconnectivity(username, password)\n",
    "\n",
    "    def updatePassword(self, old_password, new_password):\n",
    "        if old_password == StudentLogin.__password:\n",
    "            StudentLogin.__password = new_password\n",
    "            print(\"Password Update Successfully\")\n",
    "        else: \n",
    "            print(\"Password is not correct, Please try again \")\n",
    "        \n",
    "        "
   ]
  },
  {
   "cell_type": "code",
   "execution_count": 62,
   "id": "72f7d6db-289a-46b7-af52-12843484e74b",
   "metadata": {},
   "outputs": [],
   "source": [
    "user1 = StudentLogin()"
   ]
  },
  {
   "cell_type": "code",
   "execution_count": 65,
   "id": "5b6138b4-8690-4481-9ac6-9d1155fcbcf8",
   "metadata": {},
   "outputs": [
    {
     "ename": "AttributeError",
     "evalue": "'StudentLogin' object has no attribute '_StudentLogin__dbconnectivity'",
     "output_type": "error",
     "traceback": [
      "\u001b[1;31m---------------------------------------------------------------------------\u001b[0m",
      "\u001b[1;31mAttributeError\u001b[0m                            Traceback (most recent call last)",
      "Cell \u001b[1;32mIn[65], line 1\u001b[0m\n\u001b[1;32m----> 1\u001b[0m user1\u001b[38;5;241m.\u001b[39mlogin(\u001b[38;5;124m\"\u001b[39m\u001b[38;5;124madmin\u001b[39m\u001b[38;5;124m\"\u001b[39m, \u001b[38;5;124m\"\u001b[39m\u001b[38;5;124madmin\u001b[39m\u001b[38;5;124m\"\u001b[39m)\n",
      "Cell \u001b[1;32mIn[61], line 13\u001b[0m, in \u001b[0;36mStudentLogin.login\u001b[1;34m(self, username, password)\u001b[0m\n\u001b[0;32m     12\u001b[0m \u001b[38;5;28;01mdef\u001b[39;00m\u001b[38;5;250m \u001b[39m\u001b[38;5;21mlogin\u001b[39m(\u001b[38;5;28mself\u001b[39m, username, password):\n\u001b[1;32m---> 13\u001b[0m     \u001b[38;5;28mself\u001b[39m\u001b[38;5;241m.\u001b[39m__dbconnectivity(username, password)\n",
      "\u001b[1;31mAttributeError\u001b[0m: 'StudentLogin' object has no attribute '_StudentLogin__dbconnectivity'"
     ]
    }
   ],
   "source": [
    "user1.login(\"admin\", \"admin\")"
   ]
  },
  {
   "cell_type": "code",
   "execution_count": 66,
   "id": "95fcb8fe-dd1d-44b4-834f-43700675f62e",
   "metadata": {},
   "outputs": [
    {
     "ename": "AttributeError",
     "evalue": "'StudentLogin' object has no attribute '_StudentLogin__dbconnectivity'",
     "output_type": "error",
     "traceback": [
      "\u001b[1;31m---------------------------------------------------------------------------\u001b[0m",
      "\u001b[1;31mAttributeError\u001b[0m                            Traceback (most recent call last)",
      "Cell \u001b[1;32mIn[66], line 1\u001b[0m\n\u001b[1;32m----> 1\u001b[0m user1\u001b[38;5;241m.\u001b[39mlogin(\u001b[38;5;124m\"\u001b[39m\u001b[38;5;124mtaha\u001b[39m\u001b[38;5;124m\"\u001b[39m, \u001b[38;5;124m\"\u001b[39m\u001b[38;5;124mLogin\u001b[39m\u001b[38;5;124m\"\u001b[39m)\n",
      "Cell \u001b[1;32mIn[61], line 13\u001b[0m, in \u001b[0;36mStudentLogin.login\u001b[1;34m(self, username, password)\u001b[0m\n\u001b[0;32m     12\u001b[0m \u001b[38;5;28;01mdef\u001b[39;00m\u001b[38;5;250m \u001b[39m\u001b[38;5;21mlogin\u001b[39m(\u001b[38;5;28mself\u001b[39m, username, password):\n\u001b[1;32m---> 13\u001b[0m     \u001b[38;5;28mself\u001b[39m\u001b[38;5;241m.\u001b[39m__dbconnectivity(username, password)\n",
      "\u001b[1;31mAttributeError\u001b[0m: 'StudentLogin' object has no attribute '_StudentLogin__dbconnectivity'"
     ]
    }
   ],
   "source": [
    "user1.login(\"taha\", \"Login\")"
   ]
  },
  {
   "cell_type": "code",
   "execution_count": 78,
   "id": "1a3bbe4e-af18-4cc9-93e8-abc7e40e70c6",
   "metadata": {},
   "outputs": [],
   "source": [
    "class StudentLogin1():\n",
    "\n",
    "    def __init__(self):\n",
    "        self.__username = \"taha\"\n",
    "        self.__password = \"login\"\n",
    "\n",
    "    def __dbconnectivity(self, username, password):\n",
    "        if (self.__username == username and self.__password == password):\n",
    "            print(\"valid User\")\n",
    "\n",
    "        else: \n",
    "            print(\"Not Valid\")\n",
    "\n",
    "    def login(self, username, password):\n",
    "        self.__dbconnectivity(username, password)\n",
    "\n",
    "    def update_password(self, password):\n",
    "        self.__password = password "
   ]
  },
  {
   "cell_type": "code",
   "execution_count": 79,
   "id": "e1792de6-bea0-42bd-b629-90636489f41d",
   "metadata": {},
   "outputs": [],
   "source": [
    "student_obj = StudentLogin1()"
   ]
  },
  {
   "cell_type": "code",
   "execution_count": 81,
   "id": "35258607-1462-4b02-a184-f96c4d14e8ef",
   "metadata": {},
   "outputs": [
    {
     "name": "stdout",
     "output_type": "stream",
     "text": [
      "Not Valid\n"
     ]
    }
   ],
   "source": [
    "student_obj.login(\"taha\", \"taha\")"
   ]
  },
  {
   "cell_type": "code",
   "execution_count": 82,
   "id": "9b851a7e-3849-4553-ad41-568232635be2",
   "metadata": {},
   "outputs": [
    {
     "name": "stdout",
     "output_type": "stream",
     "text": [
      "valid User\n"
     ]
    }
   ],
   "source": [
    "student_obj.login(\"taha\", \"login\")"
   ]
  },
  {
   "cell_type": "code",
   "execution_count": 84,
   "id": "14c8a33f-4838-4424-af63-aa4880ac35ca",
   "metadata": {},
   "outputs": [],
   "source": [
    "student_obj.update_password(\"taha\")"
   ]
  },
  {
   "cell_type": "code",
   "execution_count": 85,
   "id": "7314372a-7adc-405f-b69f-c6385229313d",
   "metadata": {},
   "outputs": [
    {
     "name": "stdout",
     "output_type": "stream",
     "text": [
      "valid User\n"
     ]
    }
   ],
   "source": [
    "student_obj.login(\"taha\", \"taha\")"
   ]
  },
  {
   "cell_type": "markdown",
   "id": "8499ce83-8242-423d-9a6f-b49cf0f4179f",
   "metadata": {},
   "source": [
    "### Data Files \n",
    "\n",
    "- Read -> 'r'\n",
    "- Write -> 'w'\n",
    "- Append -> 'a'\n",
    "- Read/Write -> 'rw'"
   ]
  },
  {
   "cell_type": "code",
   "execution_count": 87,
   "id": "7b6658a5-2423-4abd-ac8a-64ec1eeb463d",
   "metadata": {},
   "outputs": [],
   "source": [
    "f = open('file.txt', 'w')"
   ]
  },
  {
   "cell_type": "code",
   "execution_count": 88,
   "id": "2335da5d-2d8a-4b83-a35f-77231f3d3c6d",
   "metadata": {},
   "outputs": [],
   "source": [
    "f.write(\"This file is create a Write\")\n",
    "f.close()"
   ]
  },
  {
   "cell_type": "code",
   "execution_count": 91,
   "id": "3645ad66-c1c6-4ee1-a2b4-402740744252",
   "metadata": {},
   "outputs": [],
   "source": [
    "with open('file.txt', 'w') as f:\n",
    "    f.write('This file automatically close \\n')\n",
    "    "
   ]
  },
  {
   "cell_type": "code",
   "execution_count": 92,
   "id": "c0c8a30e-7b6c-4ac3-bdbe-12b70a9cbeb4",
   "metadata": {},
   "outputs": [],
   "source": [
    "with open('file.txt', 'a') as f:\n",
    "    f.write('This file Read')\n",
    "    "
   ]
  },
  {
   "cell_type": "code",
   "execution_count": 93,
   "id": "4ca1e7db-a2b3-4d19-b833-30d8380031b6",
   "metadata": {},
   "outputs": [],
   "source": [
    "with open('file.txt', 'w+') as f:\n",
    "    f.write(\"This file is write +\")"
   ]
  },
  {
   "cell_type": "markdown",
   "id": "f8d7db07-f291-43e3-8d03-81ea2929ad9c",
   "metadata": {},
   "source": [
    "### Module\n"
   ]
  },
  {
   "cell_type": "code",
   "execution_count": 98,
   "id": "36cbef7c-a138-41e5-b957-dfd998cab0fa",
   "metadata": {},
   "outputs": [],
   "source": [
    "import module as m"
   ]
  },
  {
   "cell_type": "code",
   "execution_count": 99,
   "id": "4bb465b4-2cd2-4500-acca-204377d4a1ed",
   "metadata": {},
   "outputs": [
    {
     "data": {
      "text/plain": [
       "7"
      ]
     },
     "execution_count": 99,
     "metadata": {},
     "output_type": "execute_result"
    }
   ],
   "source": [
    "m.perform_addition(2,5)"
   ]
  },
  {
   "cell_type": "code",
   "execution_count": null,
   "id": "122ca661-61a9-4c7e-b4be-915b41c7dfb4",
   "metadata": {},
   "outputs": [],
   "source": []
  }
 ],
 "metadata": {
  "kernelspec": {
   "display_name": "Python [conda env:base] *",
   "language": "python",
   "name": "conda-base-py"
  },
  "language_info": {
   "codemirror_mode": {
    "name": "ipython",
    "version": 3
   },
   "file_extension": ".py",
   "mimetype": "text/x-python",
   "name": "python",
   "nbconvert_exporter": "python",
   "pygments_lexer": "ipython3",
   "version": "3.13.5"
  }
 },
 "nbformat": 4,
 "nbformat_minor": 5
}
