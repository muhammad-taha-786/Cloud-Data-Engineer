{
 "cells": [
  {
   "cell_type": "markdown",
   "id": "3b6011a3-6d81-4c90-855e-e32d14f33a30",
   "metadata": {},
   "source": [
    "###  list of dictionaries"
   ]
  },
  {
   "cell_type": "code",
   "execution_count": 47,
   "id": "b237e8d0-7d22-4173-99b4-dc53eef7bd36",
   "metadata": {},
   "outputs": [],
   "source": [
    "customer_29876 = [\n",
    "{\n",
    "\"first name\": \"David\",\n",
    "\"last name\": \"Elliott\",\n",
    "\"address\": \"4803 Wellesley St.\",\n",
    "},\n",
    "{\n",
    "\"first name\": \"Taha\",\n",
    "\"last name\": \"Elliott\",\n",
    "\"address\": \"4803 Wellesley St.\",\n",
    "},\n",
    "{\n",
    "\"first name\": \"Saim\",\n",
    "\"last name\": \"Elliott\",\n",
    "\"address\": \"4803 Wellesley St.\",\n",
    "}\n",
    "]"
   ]
  },
  {
   "cell_type": "code",
   "execution_count": 48,
   "id": "d259d91d-9036-4c4d-992b-95623156dfb0",
   "metadata": {},
   "outputs": [
    {
     "data": {
      "text/plain": [
       "[{'first name': 'David',\n",
       "  'last name': 'Elliott',\n",
       "  'address': '4803 Wellesley St.'},\n",
       " {'first name': 'Taha',\n",
       "  'last name': 'Elliott',\n",
       "  'address': '4803 Wellesley St.'},\n",
       " {'first name': 'Saim',\n",
       "  'last name': 'Elliott',\n",
       "  'address': '4803 Wellesley St.'}]"
      ]
     },
     "execution_count": 48,
     "metadata": {},
     "output_type": "execute_result"
    }
   ],
   "source": [
    "customer_29876"
   ]
  },
  {
   "cell_type": "code",
   "execution_count": 18,
   "id": "57424c0f-a5b9-468a-b4bc-c60d95095dbf",
   "metadata": {},
   "outputs": [
    {
     "ename": "KeyError",
     "evalue": "0",
     "output_type": "error",
     "traceback": [
      "\u001b[1;31m---------------------------------------------------------------------------\u001b[0m",
      "\u001b[1;31mKeyError\u001b[0m                                  Traceback (most recent call last)",
      "Cell \u001b[1;32mIn[18], line 1\u001b[0m\n\u001b[1;32m----> 1\u001b[0m customer_29876[\u001b[38;5;241m0\u001b[39m]\n",
      "\u001b[1;31mKeyError\u001b[0m: 0"
     ]
    }
   ],
   "source": [
    "customer_29876[0]"
   ]
  },
  {
   "cell_type": "code",
   "execution_count": 22,
   "id": "1ee69e36-980a-458e-a428-649c8adfafc8",
   "metadata": {},
   "outputs": [
    {
     "data": {
      "text/plain": [
       "{'first name': 'David',\n",
       " 'last name': 'Elliott',\n",
       " 'address': '4803 Wellesley St.'}"
      ]
     },
     "execution_count": 22,
     "metadata": {},
     "output_type": "execute_result"
    }
   ],
   "source": [
    "customer_29876"
   ]
  },
  {
   "cell_type": "markdown",
   "id": "b237c307-eeed-4578-a4b8-08de2d46c4d3",
   "metadata": {},
   "source": [
    "### How to append a Dictionaris `"
   ]
  },
  {
   "cell_type": "code",
   "execution_count": 50,
   "id": "cf3726e0-ed4d-4c14-8be5-1403f36c6a21",
   "metadata": {},
   "outputs": [
    {
     "data": {
      "text/plain": [
       "[{'first name': 'David',\n",
       "  'last name': 'Elliott',\n",
       "  'address': '4803 Wellesley St.'},\n",
       " {'first name': 'Taha',\n",
       "  'last name': 'Elliott',\n",
       "  'address': '4803 Wellesley St.'},\n",
       " {'first name': 'Saim',\n",
       "  'last name': 'Elliott',\n",
       "  'address': '4803 Wellesley St.'}]"
      ]
     },
     "execution_count": 50,
     "metadata": {},
     "output_type": "execute_result"
    }
   ],
   "source": [
    "customer_29876"
   ]
  },
  {
   "cell_type": "code",
   "execution_count": 37,
   "id": "2d97ec9b-c87d-41a9-97a0-c9b60560bce5",
   "metadata": {},
   "outputs": [],
   "source": [
    "dict_customer = {\n",
    "    'customer_id': 1,\n",
    "    'customer_name': 'Taha',\n",
    "    'discounts': ['Standard', 'Volume', 'Loyalty']\n",
    "}"
   ]
  },
  {
   "cell_type": "code",
   "execution_count": 49,
   "id": "10321821-e7cc-4403-b7d2-7c60ed362297",
   "metadata": {},
   "outputs": [
    {
     "data": {
      "text/plain": [
       "{'customer_id': 1,\n",
       " 'customer_name': 'Taha',\n",
       " 'discounts': ['Standard', 'Volume', 'Loyalty']}"
      ]
     },
     "execution_count": 49,
     "metadata": {},
     "output_type": "execute_result"
    }
   ],
   "source": [
    "dict_customer"
   ]
  },
  {
   "cell_type": "code",
   "execution_count": 39,
   "id": "cd1b629b-cf5f-48cf-9ded-8d8345e69787",
   "metadata": {},
   "outputs": [
    {
     "data": {
      "text/plain": [
       "['Standard', 'Volume', 'Loyalty']"
      ]
     },
     "execution_count": 39,
     "metadata": {},
     "output_type": "execute_result"
    }
   ],
   "source": [
    "dict_customer['discounts']"
   ]
  },
  {
   "cell_type": "code",
   "execution_count": 40,
   "id": "343601aa-c3a8-42ff-b0a6-3cb4fcf4b133",
   "metadata": {},
   "outputs": [
    {
     "data": {
      "text/plain": [
       "'Volume'"
      ]
     },
     "execution_count": 40,
     "metadata": {},
     "output_type": "execute_result"
    }
   ],
   "source": [
    "dict_customer['discounts'][1]"
   ]
  },
  {
   "cell_type": "code",
   "execution_count": 41,
   "id": "131497e4-e067-4e21-ab94-4f3604fcae82",
   "metadata": {},
   "outputs": [],
   "source": [
    "lst = ['Taha', 'Owais', 'Saim']"
   ]
  },
  {
   "cell_type": "code",
   "execution_count": 42,
   "id": "8a376933-5e06-4c93-b805-53d6ebdc691f",
   "metadata": {},
   "outputs": [
    {
     "data": {
      "text/plain": [
       "['Taha', 'Owais', 'Saim']"
      ]
     },
     "execution_count": 42,
     "metadata": {},
     "output_type": "execute_result"
    }
   ],
   "source": [
    "lst"
   ]
  },
  {
   "cell_type": "code",
   "execution_count": 43,
   "id": "a46009b4-ec80-4523-9931-d91c2b2458b4",
   "metadata": {},
   "outputs": [],
   "source": [
    "set1 = set(lst)"
   ]
  },
  {
   "cell_type": "code",
   "execution_count": 44,
   "id": "1aa291c2-91cd-4ff3-8493-82aae36f6bdf",
   "metadata": {},
   "outputs": [
    {
     "data": {
      "text/plain": [
       "{'Owais', 'Saim', 'Taha'}"
      ]
     },
     "execution_count": 44,
     "metadata": {},
     "output_type": "execute_result"
    }
   ],
   "source": [
    "set1"
   ]
  },
  {
   "cell_type": "code",
   "execution_count": 52,
   "id": "51fb1be0-7be8-426c-ab73-4e8b7f9987be",
   "metadata": {},
   "outputs": [],
   "source": [
    "customer_29876 = {\n",
    "'customer_1': {\n",
    "\"first name\": \"David\",\n",
    "\"last name\": \"Elliott\",\n",
    "\"address\": \"4803 Wellesley St.\",\n",
    "},\n",
    "'customer_2': {\n",
    "\"first name\": \"Taha\",\n",
    "\"last name\": \"Elliott\",\n",
    "\"address\": \"4803 Wellesley St.\",\n",
    "},\n",
    "'customer_3': {\n",
    "\"first name\": \"Saim\",\n",
    "\"last name\": \"Elliott\",\n",
    "\"address\": \"4803 Wellesley St.\",\n",
    "}\n",
    "}"
   ]
  },
  {
   "cell_type": "code",
   "execution_count": 53,
   "id": "56d24217-4fa2-4555-b0d6-841395be967e",
   "metadata": {},
   "outputs": [
    {
     "data": {
      "text/plain": [
       "{'customer_1': {'first name': 'David',\n",
       "  'last name': 'Elliott',\n",
       "  'address': '4803 Wellesley St.'},\n",
       " 'customer_2': {'first name': 'Taha',\n",
       "  'last name': 'Elliott',\n",
       "  'address': '4803 Wellesley St.'},\n",
       " 'customer_3': {'first name': 'Saim',\n",
       "  'last name': 'Elliott',\n",
       "  'address': '4803 Wellesley St.'}}"
      ]
     },
     "execution_count": 53,
     "metadata": {},
     "output_type": "execute_result"
    }
   ],
   "source": [
    "customer_29876"
   ]
  },
  {
   "cell_type": "code",
   "execution_count": 54,
   "id": "f755314e-2b96-436c-94f9-9569b5668908",
   "metadata": {},
   "outputs": [
    {
     "data": {
      "text/plain": [
       "{'first name': 'David',\n",
       " 'last name': 'Elliott',\n",
       " 'address': '4803 Wellesley St.'}"
      ]
     },
     "execution_count": 54,
     "metadata": {},
     "output_type": "execute_result"
    }
   ],
   "source": [
    "customer_29876['customer_1']"
   ]
  },
  {
   "cell_type": "code",
   "execution_count": 56,
   "id": "80bd7a7d-e901-42f3-a260-bed63aeca209",
   "metadata": {},
   "outputs": [
    {
     "data": {
      "text/plain": [
       "'David'"
      ]
     },
     "execution_count": 56,
     "metadata": {},
     "output_type": "execute_result"
    }
   ],
   "source": [
    "customer_29876['customer_1']['first name']"
   ]
  },
  {
   "cell_type": "markdown",
   "id": "7e17b72c-ed54-484c-83b6-0a643c80e4e3",
   "metadata": {},
   "source": [
    "## Function "
   ]
  },
  {
   "cell_type": "code",
   "execution_count": 57,
   "id": "5921cfa2-b6ab-41cd-804d-f1b3b7264920",
   "metadata": {},
   "outputs": [],
   "source": [
    "num1 = 5\n",
    "num2 = 10 \n",
    "total = num1 + num2 "
   ]
  },
  {
   "cell_type": "code",
   "execution_count": 58,
   "id": "6be27da6-caee-4204-ab5b-9514fdfa9906",
   "metadata": {},
   "outputs": [
    {
     "data": {
      "text/plain": [
       "15"
      ]
     },
     "execution_count": 58,
     "metadata": {},
     "output_type": "execute_result"
    }
   ],
   "source": [
    "total "
   ]
  },
  {
   "cell_type": "code",
   "execution_count": 59,
   "id": "104fc36b-3a94-4cdd-91e5-cf0af4803246",
   "metadata": {},
   "outputs": [],
   "source": [
    "def addition ():\n",
    "    num1 = int(input(\"Enter First Number\"))\n",
    "    num2 = int(input(\"Enter Second Number\"))\n",
    "    print(num1 + num2)\n"
   ]
  },
  {
   "cell_type": "code",
   "execution_count": 60,
   "id": "9e53331a-b1b2-4823-a2bf-c366c19dd7f6",
   "metadata": {},
   "outputs": [
    {
     "name": "stdin",
     "output_type": "stream",
     "text": [
      "Enter First Number 5\n",
      "Enter Second Number 10\n"
     ]
    },
    {
     "name": "stdout",
     "output_type": "stream",
     "text": [
      "15\n"
     ]
    }
   ],
   "source": [
    "addition()"
   ]
  },
  {
   "cell_type": "code",
   "execution_count": 80,
   "id": "cf4eddbf-285e-4145-8f04-88b458a132ac",
   "metadata": {},
   "outputs": [],
   "source": [
    "def calculator ():\n",
    "    num1 = int(input(\"Enter First Number\"))\n",
    "    num2 = int(input(\"Enter Second Number\"))\n",
    "    user = input(\"Enter Operator +, -, *, /\")\n",
    "\n",
    "    if user == \"+\":\n",
    "        print(\"Results\", num1 + num2)\n",
    "    elif user == \"-\":\n",
    "        print(\"Results\", num1 - num2)\n",
    "    elif user == \"*\":\n",
    "        print(\"Results\", num1 * num2)\n",
    "    elif user == \"/\":\n",
    "        print(\"Results\", num1 / num2)\n",
    "    else:\n",
    "        print(\"Sorry, try again\")\n",
    "\n",
    "    \n"
   ]
  },
  {
   "cell_type": "code",
   "execution_count": 82,
   "id": "9c0d55af-e428-4f80-8b83-8c922b93527e",
   "metadata": {},
   "outputs": [
    {
     "name": "stdin",
     "output_type": "stream",
     "text": [
      "Enter First Number 5\n",
      "Enter Second Number 5\n",
      "Enter Operator +, -, *, / *\n"
     ]
    },
    {
     "name": "stdout",
     "output_type": "stream",
     "text": [
      "Results 25\n"
     ]
    }
   ],
   "source": [
    "calculator()"
   ]
  },
  {
   "cell_type": "code",
   "execution_count": 86,
   "id": "c35a2b78-5d4d-457f-98f5-3ad3695305f1",
   "metadata": {},
   "outputs": [],
   "source": [
    "def calculator1 (num1, num2, user): #-> parameters\n",
    "\n",
    "    if user == \"+\":\n",
    "        print(\"Results\", num1 + num2)\n",
    "    elif user == \"-\":\n",
    "        print(\"Results\", num1 - num2)\n",
    "    elif user == \"*\":\n",
    "        print(\"Results\", num1 * num2)\n",
    "    elif user == \"/\":\n",
    "        print(\"Results\", num1 / num2)\n",
    "    else:\n",
    "        print(\"Sorry, try again\")\n",
    "\n",
    "    \n"
   ]
  },
  {
   "cell_type": "code",
   "execution_count": 88,
   "id": "e27d0945-47fa-42d5-8e18-e43fed671c74",
   "metadata": {},
   "outputs": [
    {
     "name": "stdout",
     "output_type": "stream",
     "text": [
      "Results 12\n"
     ]
    }
   ],
   "source": [
    "calculator1(5,7,'+') #-> Arguments"
   ]
  },
  {
   "cell_type": "code",
   "execution_count": 113,
   "id": "1649618f-be4b-4d98-b65e-f908e22cb10e",
   "metadata": {},
   "outputs": [],
   "source": [
    "lists = []\n",
    "def Register(name, email, password):\n",
    "    lists.append(name)\n",
    "    lists.append(email)\n",
    "    lists.append(password)\n",
    "    print(lists)\n",
    "\n",
    "    Register(\"Syed Taha\", \"tsyed6804@gmail.com\", \"taha12345\")\n",
    "    "
   ]
  },
  {
   "cell_type": "code",
   "execution_count": 108,
   "id": "84780de8-b501-4a66-aa7b-9d032e48291d",
   "metadata": {},
   "outputs": [
    {
     "ename": "TypeError",
     "evalue": "Register() missing 3 required positional arguments: 'name', 'email', and 'password'",
     "output_type": "error",
     "traceback": [
      "\u001b[1;31m---------------------------------------------------------------------------\u001b[0m",
      "\u001b[1;31mTypeError\u001b[0m                                 Traceback (most recent call last)",
      "Cell \u001b[1;32mIn[108], line 1\u001b[0m\n\u001b[1;32m----> 1\u001b[0m Register()\n",
      "\u001b[1;31mTypeError\u001b[0m: Register() missing 3 required positional arguments: 'name', 'email', and 'password'"
     ]
    }
   ],
   "source": []
  },
  {
   "cell_type": "code",
   "execution_count": 119,
   "id": "723b6f6a-f3a4-4711-af73-afea90d3849a",
   "metadata": {},
   "outputs": [],
   "source": [
    "lists = []\n",
    "def Register(name, email, password):\n",
    "    \n",
    "    lists.append(name)\n",
    "    lists.append(email)\n",
    "    lists.append(password)\n",
    "    print(lists)\n",
    "\n",
    "    Register(\"Syed Taha\", \"tsyed6804@gmail.com\", \"taha12345\")\n",
    "    "
   ]
  },
  {
   "cell_type": "code",
   "execution_count": 121,
   "id": "c96e6a01-821f-4c70-83ed-9b296f308a9e",
   "metadata": {},
   "outputs": [
    {
     "ename": "TypeError",
     "evalue": "Register() missing 3 required positional arguments: 'name', 'email', and 'password'",
     "output_type": "error",
     "traceback": [
      "\u001b[1;31m---------------------------------------------------------------------------\u001b[0m",
      "\u001b[1;31mTypeError\u001b[0m                                 Traceback (most recent call last)",
      "Cell \u001b[1;32mIn[121], line 1\u001b[0m\n\u001b[1;32m----> 1\u001b[0m Register()\n",
      "\u001b[1;31mTypeError\u001b[0m: Register() missing 3 required positional arguments: 'name', 'email', and 'password'"
     ]
    }
   ],
   "source": [
    "Register()"
   ]
  },
  {
   "cell_type": "code",
   "execution_count": 118,
   "id": "6e24831c-923a-4abd-bf9d-a775f3e7cc05",
   "metadata": {},
   "outputs": [
    {
     "ename": "IndexError",
     "evalue": "list index out of range",
     "output_type": "error",
     "traceback": [
      "\u001b[1;31m---------------------------------------------------------------------------\u001b[0m",
      "\u001b[1;31mIndexError\u001b[0m                                Traceback (most recent call last)",
      "Cell \u001b[1;32mIn[118], line 7\u001b[0m\n\u001b[0;32m      4\u001b[0m     \u001b[38;5;28;01melse\u001b[39;00m:\n\u001b[0;32m      5\u001b[0m         \u001b[38;5;28mprint\u001b[39m (\u001b[38;5;124m\"\u001b[39m\u001b[38;5;124mRegister First\u001b[39m\u001b[38;5;124m\"\u001b[39m)\n\u001b[1;32m----> 7\u001b[0m Login(\u001b[38;5;124m\"\u001b[39m\u001b[38;5;124mtsyed6804\u001b[39m\u001b[38;5;124m\"\u001b[39m, \u001b[38;5;124m\"\u001b[39m\u001b[38;5;124mtaha12345\u001b[39m\u001b[38;5;124m\"\u001b[39m)\n",
      "Cell \u001b[1;32mIn[118], line 2\u001b[0m, in \u001b[0;36mLogin\u001b[1;34m(email, password)\u001b[0m\n\u001b[0;32m      1\u001b[0m \u001b[38;5;28;01mdef\u001b[39;00m\u001b[38;5;250m \u001b[39m\u001b[38;5;21mLogin\u001b[39m(email, password): \n\u001b[1;32m----> 2\u001b[0m     \u001b[38;5;28;01mif\u001b[39;00m(lists[\u001b[38;5;241m1\u001b[39m] \u001b[38;5;241m==\u001b[39m email \u001b[38;5;129;01mand\u001b[39;00m lists[\u001b[38;5;241m2\u001b[39m] \u001b[38;5;241m==\u001b[39m password):\n\u001b[0;32m      3\u001b[0m         \u001b[38;5;28mprint\u001b[39m (\u001b[38;5;124m\"\u001b[39m\u001b[38;5;124mWelcome\u001b[39m\u001b[38;5;124m\"\u001b[39m)\n\u001b[0;32m      4\u001b[0m     \u001b[38;5;28;01melse\u001b[39;00m:\n",
      "\u001b[1;31mIndexError\u001b[0m: list index out of range"
     ]
    }
   ],
   "source": [
    "def Login(email, password): \n",
    "    if(lists[1] == email and lists[2] == password):\n",
    "        print (\"Welcome\")\n",
    "    else:\n",
    "        print (\"Register First\")\n",
    "\n",
    "Login(\"tsyed6804\", \"taha12345\")"
   ]
  },
  {
   "cell_type": "code",
   "execution_count": 125,
   "id": "bb2cff3e-45b3-42d6-929b-c0f72e247cc0",
   "metadata": {},
   "outputs": [],
   "source": [
    "def display_result(winner, score, **other_args):\n",
    "    print(\"The winner was\" + winner)\n",
    "    print(\"The score was\" + score)\n",
    "    print(\"Other Args\" + other_args)"
   ]
  },
  {
   "cell_type": "code",
   "execution_count": 127,
   "id": "8b0407c0-c871-49c6-95b3-1e8db21efe83",
   "metadata": {},
   "outputs": [
    {
     "name": "stdout",
     "output_type": "stream",
     "text": [
      "The winner wasTaha\n",
      "The score was100\n"
     ]
    },
    {
     "ename": "TypeError",
     "evalue": "can only concatenate str (not \"dict\") to str",
     "output_type": "error",
     "traceback": [
      "\u001b[1;31m---------------------------------------------------------------------------\u001b[0m",
      "\u001b[1;31mTypeError\u001b[0m                                 Traceback (most recent call last)",
      "Cell \u001b[1;32mIn[127], line 1\u001b[0m\n\u001b[1;32m----> 1\u001b[0m display_result(winner\u001b[38;5;241m=\u001b[39m\u001b[38;5;124m\"\u001b[39m\u001b[38;5;124mTaha\u001b[39m\u001b[38;5;124m\"\u001b[39m, score\u001b[38;5;241m=\u001b[39m\u001b[38;5;124m\"\u001b[39m\u001b[38;5;124m100\u001b[39m\u001b[38;5;124m\"\u001b[39m)\n",
      "Cell \u001b[1;32mIn[125], line 4\u001b[0m, in \u001b[0;36mdisplay_result\u001b[1;34m(winner, score, **other_args)\u001b[0m\n\u001b[0;32m      2\u001b[0m \u001b[38;5;28mprint\u001b[39m(\u001b[38;5;124m\"\u001b[39m\u001b[38;5;124mThe winner was\u001b[39m\u001b[38;5;124m\"\u001b[39m \u001b[38;5;241m+\u001b[39m winner)\n\u001b[0;32m      3\u001b[0m \u001b[38;5;28mprint\u001b[39m(\u001b[38;5;124m\"\u001b[39m\u001b[38;5;124mThe score was\u001b[39m\u001b[38;5;124m\"\u001b[39m \u001b[38;5;241m+\u001b[39m score)\n\u001b[1;32m----> 4\u001b[0m \u001b[38;5;28mprint\u001b[39m(\u001b[38;5;124m\"\u001b[39m\u001b[38;5;124mOther Args\u001b[39m\u001b[38;5;124m\"\u001b[39m \u001b[38;5;241m+\u001b[39m other_args)\n",
      "\u001b[1;31mTypeError\u001b[0m: can only concatenate str (not \"dict\") to str"
     ]
    }
   ],
   "source": [
    "display_result(winner=\"Taha\", score=\"100\", overtime=\"Yes\")"
   ]
  },
  {
   "cell_type": "code",
   "execution_count": null,
   "id": "e7298804-f7b5-42ab-a80a-13ac3d6dc4c3",
   "metadata": {},
   "outputs": [],
   "source": []
  }
 ],
 "metadata": {
  "kernelspec": {
   "display_name": "Python [conda env:base] *",
   "language": "python",
   "name": "conda-base-py"
  },
  "language_info": {
   "codemirror_mode": {
    "name": "ipython",
    "version": 3
   },
   "file_extension": ".py",
   "mimetype": "text/x-python",
   "name": "python",
   "nbconvert_exporter": "python",
   "pygments_lexer": "ipython3",
   "version": "3.13.5"
  }
 },
 "nbformat": 4,
 "nbformat_minor": 5
}
