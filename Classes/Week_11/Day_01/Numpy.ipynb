{
 "cells": [
  {
   "cell_type": "markdown",
   "id": "9a482cd7-4f13-4bf4-9dd7-d33b64c128d4",
   "metadata": {},
   "source": [
    "### NumPy"
   ]
  },
  {
   "cell_type": "code",
   "execution_count": 1,
   "id": "3d808408-d678-46cc-8c48-1c8d18ebd66a",
   "metadata": {},
   "outputs": [],
   "source": [
    "import numpy as np "
   ]
  },
  {
   "cell_type": "code",
   "execution_count": 4,
   "id": "3f6556c1-1bd3-4201-b8b2-8b8305ef1bf7",
   "metadata": {},
   "outputs": [],
   "source": [
    "weight = np.array([45,55,67,23,67])\n",
    "height = np.array([5,3,5.6,7,4])\n"
   ]
  },
  {
   "cell_type": "code",
   "execution_count": 11,
   "id": "86c8754c-e04b-4253-87a6-49cb512a266e",
   "metadata": {},
   "outputs": [
    {
     "data": {
      "text/plain": [
       "numpy.ndarray"
      ]
     },
     "execution_count": 11,
     "metadata": {},
     "output_type": "execute_result"
    }
   ],
   "source": [
    "type(weight)"
   ]
  },
  {
   "cell_type": "code",
   "execution_count": 12,
   "id": "31d0d858-5dfe-42ac-8ae1-9538f6499e27",
   "metadata": {},
   "outputs": [
    {
     "data": {
      "text/plain": [
       "5"
      ]
     },
     "execution_count": 12,
     "metadata": {},
     "output_type": "execute_result"
    }
   ],
   "source": [
    "len(weight)"
   ]
  },
  {
   "cell_type": "code",
   "execution_count": 13,
   "id": "376e500a-8a05-4290-bafe-ffb97b263241",
   "metadata": {},
   "outputs": [],
   "source": [
    "array_2d = np.array([[45,55,67,23,67],\n",
    "                     [5,3,5.6,7,4 ]])\n",
    "\n"
   ]
  },
  {
   "cell_type": "code",
   "execution_count": 14,
   "id": "3e3c67ba-360c-49c1-8668-691bd6347571",
   "metadata": {},
   "outputs": [
    {
     "data": {
      "text/plain": [
       "numpy.ndarray"
      ]
     },
     "execution_count": 14,
     "metadata": {},
     "output_type": "execute_result"
    }
   ],
   "source": [
    "type(array_2d)"
   ]
  },
  {
   "cell_type": "markdown",
   "id": "a18f0af3-052b-47ab-b793-d87d94708c8e",
   "metadata": {},
   "source": [
    "### 2D "
   ]
  },
  {
   "cell_type": "code",
   "execution_count": 15,
   "id": "38525ef8-6057-43b7-8e81-ac1cb88a5653",
   "metadata": {},
   "outputs": [
    {
     "data": {
      "text/plain": [
       "np.float64(55.0)"
      ]
     },
     "execution_count": 15,
     "metadata": {},
     "output_type": "execute_result"
    }
   ],
   "source": [
    "array_2d[0][1]"
   ]
  },
  {
   "cell_type": "markdown",
   "id": "3239b04b-a43b-46ac-b86d-79db27651d3f",
   "metadata": {},
   "source": [
    "### Task"
   ]
  },
  {
   "cell_type": "code",
   "execution_count": 16,
   "id": "fa8c6ca8-d83a-4aeb-9a80-9fb774da7860",
   "metadata": {},
   "outputs": [],
   "source": [
    "task = np.array([[45,55,67,23,67],\n",
    "                     [5,3,5.6,7,4 ]])"
   ]
  },
  {
   "cell_type": "code",
   "execution_count": 20,
   "id": "f187374b-79da-408f-8631-c5054f663e74",
   "metadata": {},
   "outputs": [
    {
     "data": {
      "text/plain": [
       "np.float64(67.0)"
      ]
     },
     "execution_count": 20,
     "metadata": {},
     "output_type": "execute_result"
    }
   ],
   "source": [
    "task[0][2]"
   ]
  },
  {
   "cell_type": "code",
   "execution_count": 21,
   "id": "f31ed0de-d603-40fa-a323-28dc8f7364d7",
   "metadata": {},
   "outputs": [
    {
     "data": {
      "text/plain": [
       "array([[55. , 67. ],\n",
       "       [ 3. ,  5.6]])"
      ]
     },
     "execution_count": 21,
     "metadata": {},
     "output_type": "execute_result"
    }
   ],
   "source": [
    "task[:, 1:3]"
   ]
  },
  {
   "cell_type": "code",
   "execution_count": 22,
   "id": "324390ce-f82c-452f-963c-daf6ba343320",
   "metadata": {},
   "outputs": [],
   "source": [
    "np_city = np.array([[1.64, 71.78],[1.37, 63.35], [1.76, 55.09],[2.04, 74.85],[2.04, 68.72],[2.01, 73.57],\n",
    "                   [2.64, 73.78],[3.37, 65.35], [4.76, 65.09],[5.04, 76.85],[6.04, 68.72],[7.01, 73.67],\n",
    "                   [1.64, 71.78],[1.37, 63.35], [1.76, 55.09],[2.04, 74.85],[2.04, 68.72],[2.01, 73.57]])\n",
    "\n",
    "#np_city"
   ]
  },
  {
   "cell_type": "code",
   "execution_count": 23,
   "id": "38ce0fa7-afec-4535-a617-bff6ab59bc78",
   "metadata": {},
   "outputs": [
    {
     "data": {
      "text/plain": [
       "np.float64(2.81)"
      ]
     },
     "execution_count": 23,
     "metadata": {},
     "output_type": "execute_result"
    }
   ],
   "source": [
    "np.mean(np_city[:,0])"
   ]
  },
  {
   "cell_type": "code",
   "execution_count": 24,
   "id": "b093ddf8-9d1d-4bc3-92cf-3af794cdcbde",
   "metadata": {},
   "outputs": [
    {
     "data": {
      "text/plain": [
       "np.float64(2.04)"
      ]
     },
     "execution_count": 24,
     "metadata": {},
     "output_type": "execute_result"
    }
   ],
   "source": [
    "np.median(np_city[:,0])"
   ]
  },
  {
   "cell_type": "code",
   "execution_count": 25,
   "id": "7088096b-e565-481e-9c5f-e8f6186abbbd",
   "metadata": {},
   "outputs": [
    {
     "data": {
      "text/plain": [
       "np.float64(70.25)"
      ]
     },
     "execution_count": 25,
     "metadata": {},
     "output_type": "execute_result"
    }
   ],
   "source": [
    "np.median(np_city[:,1])"
   ]
  },
  {
   "cell_type": "code",
   "execution_count": 26,
   "id": "c412402f-8a2f-4c61-a3a0-7a337d31d41c",
   "metadata": {},
   "outputs": [
    {
     "data": {
      "text/plain": [
       "array([71.78, 63.35, 55.09, 74.85, 68.72, 73.57, 73.78, 65.35, 65.09,\n",
       "       76.85, 68.72, 73.67, 71.78, 63.35, 55.09, 74.85, 68.72, 73.57])"
      ]
     },
     "execution_count": 26,
     "metadata": {},
     "output_type": "execute_result"
    }
   ],
   "source": [
    "np_city[:,1]"
   ]
  },
  {
   "cell_type": "code",
   "execution_count": 27,
   "id": "b8cd0d67-2646-4a9c-8b6b-a922a13b35ce",
   "metadata": {},
   "outputs": [
    {
     "data": {
      "text/plain": [
       "array([55.09, 55.09, 63.35, 63.35, 65.09, 65.35, 68.72, 68.72, 68.72,\n",
       "       71.78, 71.78, 73.57, 73.57, 73.67, 73.78, 74.85, 74.85, 76.85])"
      ]
     },
     "execution_count": 27,
     "metadata": {},
     "output_type": "execute_result"
    }
   ],
   "source": [
    "np.sort(np_city[:,1])"
   ]
  },
  {
   "cell_type": "markdown",
   "id": "4517504f-fb8f-4cb1-a831-86ca59b51c87",
   "metadata": {},
   "source": [
    "### Generate Randon Number"
   ]
  },
  {
   "cell_type": "code",
   "execution_count": 28,
   "id": "85fa8db9-d685-4648-b4a9-7833903b821c",
   "metadata": {},
   "outputs": [
    {
     "data": {
      "text/plain": [
       "array([1.74635447e-01, 5.13419902e-01, 6.31667644e-01, 8.37230131e-01,\n",
       "       6.46513491e-01, 8.72835925e-01, 5.83438865e-01, 7.02671794e-01,\n",
       "       2.43266789e-04, 9.64796362e-01])"
      ]
     },
     "execution_count": 28,
     "metadata": {},
     "output_type": "execute_result"
    }
   ],
   "source": [
    "np.random.random(10)"
   ]
  },
  {
   "cell_type": "code",
   "execution_count": 31,
   "id": "887afbbf-61cb-4d7b-bdf7-8f9dbbf13e33",
   "metadata": {},
   "outputs": [
    {
     "name": "stderr",
     "output_type": "stream",
     "text": [
      "C:\\Users\\HP\\AppData\\Local\\Temp\\ipykernel_3772\\4122116529.py:1: DeprecationWarning: This function is deprecated. Please call randint(1, 9 + 1) instead\n",
      "  np.random.random_integers(1, 9, 10)\n"
     ]
    },
    {
     "data": {
      "text/plain": [
       "array([3, 7, 8, 5, 9, 6, 9, 6, 6, 6], dtype=int32)"
      ]
     },
     "execution_count": 31,
     "metadata": {},
     "output_type": "execute_result"
    }
   ],
   "source": [
    "np.random.random_integers(1, 9, 10)"
   ]
  },
  {
   "cell_type": "code",
   "execution_count": 32,
   "id": "3a14e53e-d6e3-444c-834c-ad56c19f0aa0",
   "metadata": {},
   "outputs": [],
   "source": [
    "height = np.round(np.random.normal(1.75, 0.20, 5000), 2)\n",
    "weight = np.round(np.random.normal(60.32, 15, 5000), 2)"
   ]
  },
  {
   "cell_type": "code",
   "execution_count": 33,
   "id": "759cc023-59b0-4fe6-9bbf-6a0cec871721",
   "metadata": {},
   "outputs": [
    {
     "data": {
      "text/plain": [
       "array([1.75, 1.7 , 1.75, ..., 1.89, 1.61, 1.71])"
      ]
     },
     "execution_count": 33,
     "metadata": {},
     "output_type": "execute_result"
    }
   ],
   "source": [
    "height"
   ]
  },
  {
   "cell_type": "code",
   "execution_count": 34,
   "id": "8f15534f-5c9b-4ce7-9a7a-f7c3b86e6405",
   "metadata": {},
   "outputs": [
    {
     "data": {
      "text/plain": [
       "5000"
      ]
     },
     "execution_count": 34,
     "metadata": {},
     "output_type": "execute_result"
    }
   ],
   "source": [
    "len(height)"
   ]
  },
  {
   "cell_type": "code",
   "execution_count": 35,
   "id": "e5e3efca-7d40-4048-a701-2f44e4e552d6",
   "metadata": {},
   "outputs": [
    {
     "data": {
      "text/plain": [
       "array([54.88, 90.2 , 63.87, ..., 57.17, 56.01, 60.18])"
      ]
     },
     "execution_count": 35,
     "metadata": {},
     "output_type": "execute_result"
    }
   ],
   "source": [
    "weight"
   ]
  },
  {
   "cell_type": "code",
   "execution_count": 36,
   "id": "908e6e1e-0a6f-4bb8-a63f-9b1614ccfc7a",
   "metadata": {},
   "outputs": [
    {
     "data": {
      "text/plain": [
       "5000"
      ]
     },
     "execution_count": 36,
     "metadata": {},
     "output_type": "execute_result"
    }
   ],
   "source": [
    "len(weight)"
   ]
  },
  {
   "cell_type": "markdown",
   "id": "7bb3370a-849a-4117-adf5-f0e22e3d8a03",
   "metadata": {},
   "source": [
    "### Stack"
   ]
  },
  {
   "cell_type": "code",
   "execution_count": 37,
   "id": "0205241f-7762-4377-ace9-e8bdd8a2b6e8",
   "metadata": {},
   "outputs": [
    {
     "data": {
      "text/plain": [
       "array([[1, 2],\n",
       "       [2, 3],\n",
       "       [3, 4]])"
      ]
     },
     "execution_count": 37,
     "metadata": {},
     "output_type": "execute_result"
    }
   ],
   "source": [
    "a = np.array((1,2,3))\n",
    "b = np.array((2,3,4))\n",
    "np.column_stack((a,b))"
   ]
  },
  {
   "cell_type": "code",
   "execution_count": 39,
   "id": "d7a01a5b-302c-4a94-afc1-76a238897fd7",
   "metadata": {},
   "outputs": [
    {
     "data": {
      "text/plain": [
       "array([[54.88,  1.75],\n",
       "       [90.2 ,  1.7 ],\n",
       "       [63.87,  1.75],\n",
       "       ...,\n",
       "       [57.17,  1.89],\n",
       "       [56.01,  1.61],\n",
       "       [60.18,  1.71]])"
      ]
     },
     "execution_count": 39,
     "metadata": {},
     "output_type": "execute_result"
    }
   ],
   "source": [
    "data = np.column_stack((weight, height))\n",
    "data"
   ]
  },
  {
   "cell_type": "markdown",
   "id": "496c079e-b52d-42dd-9b2e-f13fb79b9e76",
   "metadata": {},
   "source": [
    "### TASK 01 :"
   ]
  },
  {
   "cell_type": "code",
   "execution_count": 45,
   "id": "726a8801-884f-43ed-8ba7-cb96eaf6844a",
   "metadata": {},
   "outputs": [
    {
     "name": "stdout",
     "output_type": "stream",
     "text": [
      "[55 67 67]\n"
     ]
    }
   ],
   "source": [
    "weight = np.array([45,55,67,23,67])\n",
    "height = np.array([5,3,5.6,7,4])\n",
    "idx = np.where (weight > 50) \n",
    "\n",
    "filter_weight = weight[idx]\n",
    "print(filter_weight)"
   ]
  },
  {
   "cell_type": "code",
   "execution_count": 46,
   "id": "0d97c5ef-64fe-4bda-97b9-66773176bbcf",
   "metadata": {},
   "outputs": [
    {
     "name": "stdout",
     "output_type": "stream",
     "text": [
      "[5.6 7. ]\n"
     ]
    }
   ],
   "source": [
    "filter_height = height[np.where(height > 5)]\n",
    "print(filter_height)"
   ]
  },
  {
   "cell_type": "markdown",
   "id": "738bc8a2-6cbf-4268-9aec-e91511db3fb7",
   "metadata": {},
   "source": [
    "### Task 02"
   ]
  },
  {
   "cell_type": "code",
   "execution_count": 57,
   "id": "38c86a32-add5-40ba-bfd7-def2df2a1436",
   "metadata": {},
   "outputs": [
    {
     "name": "stdout",
     "output_type": "stream",
     "text": [
      "Before \n",
      "  [[1 2 3]\n",
      " [4 5 6]\n",
      " [7 8 9]]\n",
      "After \n",
      " [[0 2 3]\n",
      " [4 0 6]\n",
      " [7 8 0]]\n"
     ]
    }
   ],
   "source": [
    "def zero(arr):\n",
    "    if arr.shape[0] != arr.shape[1]:\n",
    "        raise valueError(\"Array must be square (same number of rows and columns).\")\n",
    "    np.fill_diagonal(arr, 0)\n",
    "    return arr\n",
    "\n",
    "a = np.array([[1,2,3],\n",
    "              [4,5,6],\n",
    "              [7,8,9]])\n",
    "print(\"Before \\n \",a)\n",
    "a = zero(a)\n",
    "print(\"After \\n\",a)"
   ]
  },
  {
   "cell_type": "markdown",
   "id": "408cc4d9-a1ea-4e19-b92d-8bfd1022a70a",
   "metadata": {},
   "source": [
    "### TASK 02"
   ]
  },
  {
   "cell_type": "code",
   "execution_count": 58,
   "id": "10152018-42d9-4a58-96a5-2a855f1089ae",
   "metadata": {},
   "outputs": [],
   "source": [
    "arr = np.array([[23,24,45,67], [31,32,45,65]])"
   ]
  },
  {
   "cell_type": "code",
   "execution_count": 59,
   "id": "308b041b-9b0d-4ff6-8dd4-971656b82fb5",
   "metadata": {},
   "outputs": [],
   "source": [
    "sel_element = np.fill_diagonal(arr, 0)"
   ]
  },
  {
   "cell_type": "code",
   "execution_count": 60,
   "id": "f2779530-6937-4e4a-bef2-88f201dfa3b9",
   "metadata": {},
   "outputs": [
    {
     "data": {
      "text/plain": [
       "array([[ 0, 24, 45, 67],\n",
       "       [31,  0, 45, 65]])"
      ]
     },
     "execution_count": 60,
     "metadata": {},
     "output_type": "execute_result"
    }
   ],
   "source": [
    "arr"
   ]
  },
  {
   "cell_type": "markdown",
   "id": "4b582b1d-2bdc-4d26-9092-a71e50ca3ba4",
   "metadata": {},
   "source": [
    "### Task 03 "
   ]
  },
  {
   "cell_type": "code",
   "execution_count": 61,
   "id": "cbc11a03-fcb4-4823-9f25-860985f27350",
   "metadata": {},
   "outputs": [],
   "source": [
    "arr1 = np.array((1,2,3,4,5,6,7))"
   ]
  },
  {
   "cell_type": "code",
   "execution_count": 62,
   "id": "c401bce2-639f-46bc-8f47-1f3f575ea847",
   "metadata": {},
   "outputs": [],
   "source": [
    "min_ind = np.argmin(arr1)"
   ]
  },
  {
   "cell_type": "code",
   "execution_count": 66,
   "id": "228882b4-318a-4f72-afdf-42ca93ce3cb0",
   "metadata": {},
   "outputs": [],
   "source": [
    "maz_ind = np.argmax(arr1)"
   ]
  },
  {
   "cell_type": "code",
   "execution_count": 67,
   "id": "076c71ab-5ded-4dca-b700-1320ddfbb666",
   "metadata": {},
   "outputs": [
    {
     "data": {
      "text/plain": [
       "np.int64(6)"
      ]
     },
     "execution_count": 67,
     "metadata": {},
     "output_type": "execute_result"
    }
   ],
   "source": [
    "maz_ind"
   ]
  },
  {
   "cell_type": "code",
   "execution_count": 68,
   "id": "3c9c7bee-a6ba-4712-b810-9b34eac58c7c",
   "metadata": {},
   "outputs": [
    {
     "data": {
      "text/plain": [
       "np.int64(0)"
      ]
     },
     "execution_count": 68,
     "metadata": {},
     "output_type": "execute_result"
    }
   ],
   "source": [
    "min_ind"
   ]
  },
  {
   "cell_type": "markdown",
   "id": "bc481a93-8626-49c3-85f1-c063b835e1e3",
   "metadata": {},
   "source": [
    "### Dry Run Practice"
   ]
  },
  {
   "cell_type": "code",
   "execution_count": 70,
   "id": "9635632c-2298-479a-9e25-37a820b95400",
   "metadata": {},
   "outputs": [
    {
     "name": "stdout",
     "output_type": "stream",
     "text": [
      "[[11 22 33]\n",
      " [14 25 36]]\n"
     ]
    }
   ],
   "source": [
    "a = np.array([[1,2,3], [4,5,6]])\n",
    "b = np.array([10,20,30])\n",
    "result = a + b\n",
    "print(result)"
   ]
  },
  {
   "cell_type": "code",
   "execution_count": null,
   "id": "c4a5e264-433b-4057-b0e6-78b481a37cc8",
   "metadata": {},
   "outputs": [],
   "source": []
  },
  {
   "cell_type": "code",
   "execution_count": null,
   "id": "457286dc-ad6b-44e8-9727-652d4d5192bf",
   "metadata": {},
   "outputs": [],
   "source": []
  },
  {
   "cell_type": "markdown",
   "id": "04713606-7f01-4b48-8d52-235001bfbc91",
   "metadata": {},
   "source": [
    "### Matplotlib"
   ]
  },
  {
   "cell_type": "code",
   "execution_count": 71,
   "id": "620a8ead-2392-4518-ba43-a1de473f7d3f",
   "metadata": {},
   "outputs": [
    {
     "name": "stdout",
     "output_type": "stream",
     "text": [
      "Requirement already satisfied: matplotlib in c:\\users\\hp\\anaconda3\\lib\\site-packages (3.10.0)\n",
      "Requirement already satisfied: contourpy>=1.0.1 in c:\\users\\hp\\anaconda3\\lib\\site-packages (from matplotlib) (1.3.1)\n",
      "Requirement already satisfied: cycler>=0.10 in c:\\users\\hp\\anaconda3\\lib\\site-packages (from matplotlib) (0.11.0)\n",
      "Requirement already satisfied: fonttools>=4.22.0 in c:\\users\\hp\\anaconda3\\lib\\site-packages (from matplotlib) (4.55.3)\n",
      "Requirement already satisfied: kiwisolver>=1.3.1 in c:\\users\\hp\\anaconda3\\lib\\site-packages (from matplotlib) (1.4.8)\n",
      "Requirement already satisfied: numpy>=1.23 in c:\\users\\hp\\anaconda3\\lib\\site-packages (from matplotlib) (2.1.3)\n",
      "Requirement already satisfied: packaging>=20.0 in c:\\users\\hp\\anaconda3\\lib\\site-packages (from matplotlib) (24.2)\n",
      "Requirement already satisfied: pillow>=8 in c:\\users\\hp\\anaconda3\\lib\\site-packages (from matplotlib) (11.1.0)\n",
      "Requirement already satisfied: pyparsing>=2.3.1 in c:\\users\\hp\\anaconda3\\lib\\site-packages (from matplotlib) (3.2.0)\n",
      "Requirement already satisfied: python-dateutil>=2.7 in c:\\users\\hp\\anaconda3\\lib\\site-packages (from matplotlib) (2.9.0.post0)\n",
      "Requirement already satisfied: six>=1.5 in c:\\users\\hp\\anaconda3\\lib\\site-packages (from python-dateutil>=2.7->matplotlib) (1.17.0)\n",
      "Note: you may need to restart the kernel to use updated packages.\n"
     ]
    }
   ],
   "source": [
    "pip install matplotlib"
   ]
  },
  {
   "cell_type": "code",
   "execution_count": 72,
   "id": "1fb89dc5-e3d4-497b-adda-d0d5f575905b",
   "metadata": {},
   "outputs": [],
   "source": [
    "import matplotlib.pyplot as plt"
   ]
  },
  {
   "cell_type": "code",
   "execution_count": 83,
   "id": "a0daf828-a836-4e4f-9058-38e3da59d04e",
   "metadata": {},
   "outputs": [
    {
     "data": {
      "image/png": "[encoded data removed]",
      "text/plain": [
       "<Figure size 640x480 with 1 Axes>"
      ]
     },
     "metadata": {},
     "output_type": "display_data"
    }
   ],
   "source": [
    "year = [1950, 1970, 1990, 2010]\n",
    "pop = [2.519, 3.692, 5.263, 6.972]\n",
    "# plt.figure(fiplizer (4,3))\n",
    "plt.plot(year, pop)\n",
    "plt.title(\"Year VS Population \")\n",
    "plt.show()"
   ]
  },
  {
   "cell_type": "markdown",
   "id": "09023a59-790f-4919-9234-a2f65779d6ca",
   "metadata": {},
   "source": [
    "### Scatter Plot "
   ]
  },
  {
   "cell_type": "code",
   "execution_count": 85,
   "id": "fec72286-90d2-40b3-adbb-e23bc929adda",
   "metadata": {},
   "outputs": [
    {
     "data": {
      "image/png": "[encoded data removed]",
      "text/plain": [
       "<Figure size 640x480 with 1 Axes>"
      ]
     },
     "metadata": {},
     "output_type": "display_data"
    }
   ],
   "source": [
    "year = [1950, 1970, 1990, 2010]\n",
    "pop = [2.519, 3.692, 5.263, 6.972]\n",
    "# plt.figure(fiplizer (4,3))\n",
    "plt.scatter(year, pop)\n",
    "plt.title(\"Year VS Population \")\n",
    "plt.show()"
   ]
  },
  {
   "cell_type": "markdown",
   "id": "b116928d-00d0-4ab8-bc6c-aeb354f70768",
   "metadata": {},
   "source": [
    "### Bar Plot "
   ]
  },
  {
   "cell_type": "code",
   "execution_count": 86,
   "id": "3895cf43-d557-4162-ae7e-457976b6d996",
   "metadata": {},
   "outputs": [
    {
     "data": {
      "image/png": "[encoded data removed]",
      "text/plain": [
       "<Figure size 640x480 with 1 Axes>"
      ]
     },
     "metadata": {},
     "output_type": "display_data"
    }
   ],
   "source": [
    "year = [1950, 1970, 1990, 2010]\n",
    "pop = [2.519, 3.692, 5.263, 6.972]\n",
    "# plt.figure(fiplizer (4,3))\n",
    "plt.bar(year, pop)\n",
    "plt.title(\"Year VS Population \")\n",
    "plt.show()"
   ]
  },
  {
   "cell_type": "code",
   "execution_count": 94,
   "id": "20b0d2f5-552b-47b0-9041-a417d3941009",
   "metadata": {},
   "outputs": [
    {
     "name": "stdout",
     "output_type": "stream",
     "text": [
      "6 0\n",
      "[0, 0.6, 1.4, 1.6, 2.2, 2.5, 2.6, 3.2, 3.5, 3.9, 4.2, 6]\n",
      "12\n"
     ]
    }
   ],
   "source": [
    "values = [0,0.6,1.4,1.6,2.2,2.5,2.6,3.2,3.5,3.9,4.2,6]\n",
    "print(max(values), min(values))\n",
    "print(sorted(values))\n",
    "print(len(values))"
   ]
  },
  {
   "cell_type": "code",
   "execution_count": null,
   "id": "710c14df-ad8f-43ea-b2d5-c76061cc4a87",
   "metadata": {},
   "outputs": [],
   "source": []
  }
 ],
 "metadata": {
  "kernelspec": {
   "display_name": "Python [conda env:base] *",
   "language": "python",
   "name": "conda-base-py"
  },
  "language_info": {
   "codemirror_mode": {
    "name": "ipython",
    "version": 3
   },
   "file_extension": ".py",
   "mimetype": "text/x-python",
   "name": "python",
   "nbconvert_exporter": "python",
   "pygments_lexer": "ipython3",
   "version": "3.13.5"
  }
 },
 "nbformat": 4,
 "nbformat_minor": 5
}
