{
 "cells": [
  {
   "cell_type": "code",
   "execution_count": null,
   "id": "c4128350-bff6-477e-a024-6d505994881e",
   "metadata": {},
   "outputs": [],
   "source": []
  }
 ],
 "metadata": {
  "kernelspec": {
   "display_name": "",
   "name": ""
  },
  "language_info": {
   "name": ""
  }
 },
 "nbformat": 4,
 "nbformat_minor": 5
}
