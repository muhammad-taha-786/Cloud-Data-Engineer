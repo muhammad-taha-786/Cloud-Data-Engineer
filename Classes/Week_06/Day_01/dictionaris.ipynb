{
 "cells": [
  {
   "cell_type": "markdown",
   "id": "d38fd8ab-5015-4cd6-89eb-35cb8d99a1fc",
   "metadata": {},
   "source": [
    "### Dictionary\n"
   ]
  },
  {
   "cell_type": "code",
   "execution_count": 1,
   "id": "16acce5e-ebf9-4d64-b59c-d20a4497490b",
   "metadata": {},
   "outputs": [],
   "source": [
    "customer = {\n",
    "    \"customer_id\" : 0,\n",
    "    \"First_name\" : \"Syed\",\n",
    "    \"Last_name\" : \"Taha\",\n",
    "    \"address\" : \"Pakistan, Karachi\"\n",
    "}"
   ]
  },
  {
   "cell_type": "code",
   "execution_count": 2,
   "id": "e51327cd-612c-42be-92d6-a20abdd55470",
   "metadata": {},
   "outputs": [
    {
     "data": {
      "text/plain": [
       "{'customer_id': 0,\n",
       " 'First_name': 'Syed',\n",
       " 'Last_name': 'Taha',\n",
       " 'address': 'Pakistan, Karachi'}"
      ]
     },
     "execution_count": 2,
     "metadata": {},
     "output_type": "execute_result"
    }
   ],
   "source": [
    "customer"
   ]
  },
  {
   "cell_type": "markdown",
   "id": "f6c30c5a-5214-4ee1-9d90-7630c3014eb7",
   "metadata": {},
   "source": [
    "#### Add New Value without get method"
   ]
  },
  {
   "cell_type": "code",
   "execution_count": 3,
   "id": "6e89f14a-f2b3-4f39-9c9a-0053c9ddcb0e",
   "metadata": {},
   "outputs": [],
   "source": [
    "customer['Phone_number'] = \"093497534\""
   ]
  },
  {
   "cell_type": "code",
   "execution_count": 4,
   "id": "f37a4e1e-e6f3-4b07-81c8-9b9f3acf9113",
   "metadata": {},
   "outputs": [
    {
     "data": {
      "text/plain": [
       "{'customer_id': 0,\n",
       " 'First_name': 'Syed',\n",
       " 'Last_name': 'Taha',\n",
       " 'address': 'Pakistan, Karachi',\n",
       " 'Phone_number': '093497534'}"
      ]
     },
     "execution_count": 4,
     "metadata": {},
     "output_type": "execute_result"
    }
   ],
   "source": [
    "customer"
   ]
  },
  {
   "cell_type": "markdown",
   "id": "593658f2-31b7-44b7-b5c3-d4bb89c5a975",
   "metadata": {},
   "source": [
    "#### Add New Value with get method"
   ]
  },
  {
   "cell_type": "code",
   "execution_count": 6,
   "id": "7b55b033-0bb6-48d6-b763-1aef16bda63f",
   "metadata": {},
   "outputs": [
    {
     "data": {
      "text/plain": [
       "'Invalid key'"
      ]
     },
     "execution_count": 6,
     "metadata": {},
     "output_type": "execute_result"
    }
   ],
   "source": [
    "customer.get('first name', 'Invalid key')"
   ]
  },
  {
   "cell_type": "markdown",
   "id": "e5041b38-e24b-4cb1-8a98-a959d94ad649",
   "metadata": {},
   "source": [
    "- .key()\n",
    "- .values()\n",
    "- .items()\n",
    "- setdefaults()\n",
    "- pop()\n",
    "- popitems()"
   ]
  },
  {
   "cell_type": "code",
   "execution_count": 8,
   "id": "f7193dd0-7612-4cba-84d9-ff21d8d77604",
   "metadata": {},
   "outputs": [
    {
     "data": {
      "text/plain": [
       "'093497534'"
      ]
     },
     "execution_count": 8,
     "metadata": {},
     "output_type": "execute_result"
    }
   ],
   "source": [
    "customer.setdefault('Phone_number')"
   ]
  },
  {
   "cell_type": "code",
   "execution_count": 9,
   "id": "b352b2e1-6b42-4da0-a06e-1beb5e05c1f7",
   "metadata": {},
   "outputs": [
    {
     "data": {
      "text/plain": [
       "{'customer_id': 0,\n",
       " 'First_name': 'Syed',\n",
       " 'Last_name': 'Taha',\n",
       " 'address': 'Pakistan, Karachi',\n",
       " 'Phone_number': '093497534',\n",
       " 'phone_number': None}"
      ]
     },
     "execution_count": 9,
     "metadata": {},
     "output_type": "execute_result"
    }
   ],
   "source": [
    "customer"
   ]
  },
  {
   "cell_type": "code",
   "execution_count": 10,
   "id": "6e5487fe-4f22-4b51-a62d-e4a29b6a7fe0",
   "metadata": {},
   "outputs": [
    {
     "data": {
      "text/plain": [
       "('phone_number', None)"
      ]
     },
     "execution_count": 10,
     "metadata": {},
     "output_type": "execute_result"
    }
   ],
   "source": [
    "customer.popitem()"
   ]
  },
  {
   "cell_type": "code",
   "execution_count": 11,
   "id": "fbba24e1-49e3-4844-b8d5-5feb80e4d44c",
   "metadata": {},
   "outputs": [
    {
     "data": {
      "text/plain": [
       "{'customer_id': 0,\n",
       " 'First_name': 'Syed',\n",
       " 'Last_name': 'Taha',\n",
       " 'address': 'Pakistan, Karachi',\n",
       " 'Phone_number': '093497534'}"
      ]
     },
     "execution_count": 11,
     "metadata": {},
     "output_type": "execute_result"
    }
   ],
   "source": [
    "customer"
   ]
  },
  {
   "cell_type": "markdown",
   "id": "4af8d3b5-70a7-4493-aed8-de4f9a4c8ca7",
   "metadata": {},
   "source": [
    "### List of dictoinaries "
   ]
  },
  {
   "cell_type": "code",
   "execution_count": 17,
   "id": "e8235825-6e1d-4213-91ee-19f0935b9892",
   "metadata": {},
   "outputs": [],
   "source": [
    "lst_dict = [\n",
    "    {\n",
    " 'customer_id': 0,\n",
    " 'First_name': 'Syed',\n",
    " 'Last_name': 'Taha',\n",
    " 'address': 'Pakistan, Karachi',\n",
    " 'Phone_number': '093497534'},\n",
    "    {\n",
    " 'customer_id': 1,\n",
    " 'First_name': 'Syed',\n",
    " 'Last_name': 'Taha',\n",
    " 'address': 'Pakistan, Karachi',\n",
    " 'Phone_number': '093497534'}\n",
    "]"
   ]
  },
  {
   "cell_type": "code",
   "execution_count": 18,
   "id": "65cf52b5-066f-4dce-a960-640fc28cd040",
   "metadata": {},
   "outputs": [
    {
     "data": {
      "text/plain": [
       "[{'customer_id': 0,\n",
       "  'First_name': 'Syed',\n",
       "  'Last_name': 'Taha',\n",
       "  'address': 'Pakistan, Karachi',\n",
       "  'Phone_number': '093497534'},\n",
       " {'customer_id': 1,\n",
       "  'First_name': 'Syed',\n",
       "  'Last_name': 'Taha',\n",
       "  'address': 'Pakistan, Karachi',\n",
       "  'Phone_number': '093497534'}]"
      ]
     },
     "execution_count": 18,
     "metadata": {},
     "output_type": "execute_result"
    }
   ],
   "source": [
    "lst_dict"
   ]
  },
  {
   "cell_type": "code",
   "execution_count": 19,
   "id": "e3c0166c-1bcb-48d4-8761-273a7d488b83",
   "metadata": {},
   "outputs": [
    {
     "data": {
      "text/plain": [
       "{'customer_id': 0,\n",
       " 'First_name': 'Syed',\n",
       " 'Last_name': 'Taha',\n",
       " 'address': 'Pakistan, Karachi',\n",
       " 'Phone_number': '093497534'}"
      ]
     },
     "execution_count": 19,
     "metadata": {},
     "output_type": "execute_result"
    }
   ],
   "source": [
    "lst_dict[0]"
   ]
  },
  {
   "cell_type": "code",
   "execution_count": 20,
   "id": "0d424b0e-fe03-4f53-b444-6863b941cc19",
   "metadata": {},
   "outputs": [],
   "source": [
    "lst_dict[0]['age'] = 25"
   ]
  },
  {
   "cell_type": "code",
   "execution_count": 21,
   "id": "0889231c-58ec-4dc7-aed9-57ab968177d5",
   "metadata": {},
   "outputs": [
    {
     "data": {
      "text/plain": [
       "[{'customer_id': 0,\n",
       "  'First_name': 'Syed',\n",
       "  'Last_name': 'Taha',\n",
       "  'address': 'Pakistan, Karachi',\n",
       "  'Phone_number': '093497534',\n",
       "  'age': 25},\n",
       " {'customer_id': 1,\n",
       "  'First_name': 'Syed',\n",
       "  'Last_name': 'Taha',\n",
       "  'address': 'Pakistan, Karachi',\n",
       "  'Phone_number': '093497534'}]"
      ]
     },
     "execution_count": 21,
     "metadata": {},
     "output_type": "execute_result"
    }
   ],
   "source": [
    "lst_dict"
   ]
  },
  {
   "cell_type": "markdown",
   "id": "17891342-181d-4ff2-a983-33c44687b115",
   "metadata": {},
   "source": [
    "## Task :\n"
   ]
  },
  {
   "cell_type": "code",
   "execution_count": 22,
   "id": "95e635d0-00c2-4f0e-8542-778df2d9bd14",
   "metadata": {},
   "outputs": [],
   "source": [
    "customers = [\n",
    "    {     \n",
    "    \"customer id\": 0,\n",
    "    \"first name\":\"John\",\n",
    "    \"last name\": \"Ogden\",\n",
    "    \"address\": \"301 Arbor Rd.\",\n",
    "     },\n",
    "     {\n",
    "     \"customer id\": 1,\n",
    "     \"first name\":\"Ann\",\n",
    "     \"last name\": \"Sattermyer\",\n",
    "     \"address\": \"PO Box 1145\",\n",
    "     },\n",
    "     {\n",
    "     \"customer id\": 2,\n",
    "    \"first name\":\"Jill\",\n",
    "    \"last name\": \"Somers\",\n",
    "    \"address\": \"3 Main St.\",\n",
    "    },\n",
    "]"
   ]
  },
  {
   "cell_type": "code",
   "execution_count": 48,
   "id": "1d42232d-2595-4a63-8e65-4d8cfc8f7c8c",
   "metadata": {},
   "outputs": [
    {
     "data": {
      "text/plain": [
       "list"
      ]
     },
     "execution_count": 48,
     "metadata": {},
     "output_type": "execute_result"
    }
   ],
   "source": [
    "type(customers)"
   ]
  },
  {
   "cell_type": "code",
   "execution_count": 54,
   "id": "de6b02cb-250c-4c35-b893-2c1b654c16ec",
   "metadata": {},
   "outputs": [],
   "source": [
    "age = 0\n",
    "for i in customers:\n",
    "    if customer == \"first name\" :\n",
    "        print(customers.get('age', 25))"
   ]
  },
  {
   "cell_type": "code",
   "execution_count": 55,
   "id": "d41260b5-a157-4772-a13b-261bf7f8fd4e",
   "metadata": {},
   "outputs": [
    {
     "data": {
      "text/plain": [
       "[{'customer id': 0,\n",
       "  'first name': 'John',\n",
       "  'last name': 'Ogden',\n",
       "  'address': '301 Arbor Rd.'},\n",
       " {'customer id': 1,\n",
       "  'first name': 'Ann',\n",
       "  'last name': 'Sattermyer',\n",
       "  'address': 'PO Box 1145'},\n",
       " {'customer id': 2,\n",
       "  'first name': 'Jill',\n",
       "  'last name': 'Somers',\n",
       "  'address': '3 Main St.'}]"
      ]
     },
     "execution_count": 55,
     "metadata": {},
     "output_type": "execute_result"
    }
   ],
   "source": [
    "customers"
   ]
  },
  {
   "cell_type": "markdown",
   "id": "a249f81c-17f4-4d98-8a86-df6d7c9c7e2c",
   "metadata": {},
   "source": [
    "new_customers = list(customers)"
   ]
  },
  {
   "cell_type": "code",
   "execution_count": 47,
   "id": "7dc95fdb-b5fa-45bc-89f7-beb5bcadc27c",
   "metadata": {},
   "outputs": [
    {
     "data": {
      "text/plain": [
       "list"
      ]
     },
     "execution_count": 47,
     "metadata": {},
     "output_type": "execute_result"
    }
   ],
   "source": [
    "type(new_customers)"
   ]
  },
  {
   "cell_type": "code",
   "execution_count": 56,
   "id": "e372f4b7-2fc8-4979-ada0-d3463f0f90e3",
   "metadata": {},
   "outputs": [
    {
     "data": {
      "text/plain": [
       "[{'customer id': 0,\n",
       "  'first name': 'John',\n",
       "  'last name': 'Ogden',\n",
       "  'address': '301 Arbor Rd.'},\n",
       " {'customer id': 1,\n",
       "  'first name': 'Ann',\n",
       "  'last name': 'Sattermyer',\n",
       "  'address': 'PO Box 1145'},\n",
       " {'customer id': 2,\n",
       "  'first name': 'Jill',\n",
       "  'last name': 'Somers',\n",
       "  'address': '3 Main St.'}]"
      ]
     },
     "execution_count": 56,
     "metadata": {},
     "output_type": "execute_result"
    }
   ],
   "source": [
    "customers"
   ]
  },
  {
   "cell_type": "code",
   "execution_count": 7,
   "id": "4c1aac65-f433-44c2-bb22-8939d4fe754f",
   "metadata": {},
   "outputs": [],
   "source": [
    "customers1 = [\n",
    "    {     \n",
    "    \"customer id\": 0,\n",
    "    \"first name\":\"John\",\n",
    "    \"last name\": \"Ogden\",\n",
    "    \"address\": \"301 Arbor Rd.\",\n",
    "     },\n",
    "     {\n",
    "     \"customer id\": 1,\n",
    "     \"first name\":\"Ann\",\n",
    "     \"last name\": \"Sattermyer\",\n",
    "     \"address\": \"PO Box 1145\",\n",
    "     },\n",
    "     {\n",
    "     \"customer id\": 2,\n",
    "    \"first name\":\"Jill\",\n",
    "    \"last name\": \"Somers\",\n",
    "    \"address\": \"3 Main St.\",\n",
    "    },\n",
    "]"
   ]
  },
  {
   "cell_type": "code",
   "execution_count": 59,
   "id": "7daf35ad-4f25-4d8b-864b-f11bdd9309eb",
   "metadata": {},
   "outputs": [
    {
     "data": {
      "text/plain": [
       "[{'customer id': 0,\n",
       "  'first name': 'John',\n",
       "  'last name': 'Ogden',\n",
       "  'address': '301 Arbor Rd.'},\n",
       " {'customer id': 1,\n",
       "  'first name': 'Ann',\n",
       "  'last name': 'Sattermyer',\n",
       "  'address': 'PO Box 1145'},\n",
       " {'customer id': 2,\n",
       "  'first name': 'Jill',\n",
       "  'last name': 'Somers',\n",
       "  'address': '3 Main St.'}]"
      ]
     },
     "execution_count": 59,
     "metadata": {},
     "output_type": "execute_result"
    }
   ],
   "source": [
    "customers1"
   ]
  },
  {
   "cell_type": "code",
   "execution_count": null,
   "id": "2854eba1-753e-417e-a837-64591b7fed98",
   "metadata": {},
   "outputs": [],
   "source": []
  },
  {
   "cell_type": "code",
   "execution_count": 8,
   "id": "3bf7993f-cbf0-4d9b-8051-91dcb5beaab9",
   "metadata": {},
   "outputs": [
    {
     "data": {
      "text/plain": [
       "[{'customer id': 0,\n",
       "  'first name': 'John',\n",
       "  'last name': 'Ogden',\n",
       "  'address': '301 Arbor Rd.'},\n",
       " {'customer id': 1,\n",
       "  'first name': 'Ann',\n",
       "  'last name': 'Sattermyer',\n",
       "  'address': 'PO Box 1145'},\n",
       " {'customer id': 2,\n",
       "  'first name': 'Jill',\n",
       "  'last name': 'Somers',\n",
       "  'address': '3 Main St.'}]"
      ]
     },
     "execution_count": 8,
     "metadata": {},
     "output_type": "execute_result"
    }
   ],
   "source": [
    "customers1"
   ]
  },
  {
   "cell_type": "markdown",
   "id": "26cab2b3-8243-4ff0-901b-ec0e1d957730",
   "metadata": {},
   "source": [
    "### Functions "
   ]
  },
  {
   "cell_type": "code",
   "execution_count": 1,
   "id": "f0bcd912-ac11-4771-afcd-de428ad2f878",
   "metadata": {},
   "outputs": [],
   "source": [
    "def bmi(weight, height):\n",
    "    bmii = weight/(height**2)\n",
    "    return bmii"
   ]
  },
  {
   "cell_type": "code",
   "execution_count": 3,
   "id": "10af8958-fe65-43fc-b988-791d3a51f5da",
   "metadata": {},
   "outputs": [
    {
     "name": "stdin",
     "output_type": "stream",
     "text": [
      "Enter Weight 46\n",
      "Enter Height 5.6\n"
     ]
    },
    {
     "data": {
      "text/plain": [
       "1.322314049586777"
      ]
     },
     "execution_count": 3,
     "metadata": {},
     "output_type": "execute_result"
    }
   ],
   "source": [
    "weight = float(input(\"Enter Weight\"))\n",
    "height = float(input(\"Enter Height\"))\n",
    "bmi(40,5.5)"
   ]
  },
  {
   "cell_type": "code",
   "execution_count": null,
   "id": "9fabfe3b-6052-48b2-b0e5-8eef9b8b1701",
   "metadata": {},
   "outputs": [],
   "source": []
  }
 ],
 "metadata": {
  "kernelspec": {
   "display_name": "Python [conda env:base] *",
   "language": "python",
   "name": "conda-base-py"
  },
  "language_info": {
   "codemirror_mode": {
    "name": "ipython",
    "version": 3
   },
   "file_extension": ".py",
   "mimetype": "text/x-python",
   "name": "python",
   "nbconvert_exporter": "python",
   "pygments_lexer": "ipython3",
   "version": "3.13.5"
  }
 },
 "nbformat": 4,
 "nbformat_minor": 5
}
