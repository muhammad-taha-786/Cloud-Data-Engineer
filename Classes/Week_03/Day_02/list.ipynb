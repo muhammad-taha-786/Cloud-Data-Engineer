{
 "cells": [
  {
   "cell_type": "markdown",
   "id": "4428dc1e-5b2c-4fe5-a75c-36dc6b03b0c2",
   "metadata": {},
   "source": [
    "### Value by Reference\n"
   ]
  },
  {
   "cell_type": "code",
   "execution_count": 9,
   "id": "5fcbcbaf-4031-4824-8525-4a82648bf1f7",
   "metadata": {},
   "outputs": [
    {
     "data": {
      "text/plain": [
       "(13, 12)"
      ]
     },
     "execution_count": 9,
     "metadata": {},
     "output_type": "execute_result"
    }
   ],
   "source": [
    "a = [1,2,3,4]\n",
    "a[0] = 20\n",
    "b = 12\n",
    "c = b \n",
    "c+=1\n",
    "c,b"
   ]
  },
  {
   "cell_type": "code",
   "execution_count": 3,
   "id": "e05d736a-dea2-4810-b214-64416bd97802",
   "metadata": {},
   "outputs": [
    {
     "data": {
      "text/plain": [
       "[20, 2, 3, 4]"
      ]
     },
     "execution_count": 3,
     "metadata": {},
     "output_type": "execute_result"
    }
   ],
   "source": [
    "a"
   ]
  },
  {
   "cell_type": "markdown",
   "id": "48c179e6-551a-408e-a602-7830d8bb53bc",
   "metadata": {},
   "source": [
    "#### Shallow and Deep Copy\n"
   ]
  },
  {
   "cell_type": "code",
   "execution_count": 10,
   "id": "383289c8-6b4b-468f-9bf1-68b2a45821da",
   "metadata": {},
   "outputs": [],
   "source": [
    "z = [\"Karachi\", [\"Islamabad\"], \"Lahore\"]"
   ]
  },
  {
   "cell_type": "code",
   "execution_count": 11,
   "id": "4955745c-e8f8-4d04-9182-3ec8d1c7d0b0",
   "metadata": {},
   "outputs": [
    {
     "data": {
      "text/plain": [
       "['Karachi', ['Islamabad'], 'Lahore']"
      ]
     },
     "execution_count": 11,
     "metadata": {},
     "output_type": "execute_result"
    }
   ],
   "source": [
    "z"
   ]
  },
  {
   "cell_type": "code",
   "execution_count": 12,
   "id": "5164767d-7b5b-4c3c-9e54-b698b67dd26a",
   "metadata": {},
   "outputs": [],
   "source": [
    "z[0] = \"Maxico\""
   ]
  },
  {
   "cell_type": "code",
   "execution_count": 13,
   "id": "938adfcb-bdea-4ac1-bf03-0edba2cf69dc",
   "metadata": {},
   "outputs": [
    {
     "data": {
      "text/plain": [
       "['Maxico', ['Islamabad'], 'Lahore']"
      ]
     },
     "execution_count": 13,
     "metadata": {},
     "output_type": "execute_result"
    }
   ],
   "source": [
    "z"
   ]
  },
  {
   "cell_type": "code",
   "execution_count": 15,
   "id": "f1a1fc63-ba6a-405a-9a58-98b56c37d84f",
   "metadata": {},
   "outputs": [],
   "source": [
    "import copy \n",
    "z = ['Karachi', ['Islamabad'], 'Lahore']\n",
    "x = copy.deepcopy(z)"
   ]
  },
  {
   "cell_type": "code",
   "execution_count": 16,
   "id": "09e69ebe-fd45-4327-a497-dd1e5c22b5c6",
   "metadata": {},
   "outputs": [
    {
     "data": {
      "text/plain": [
       "['Karachi', ['Islamabad'], 'Lahore']"
      ]
     },
     "execution_count": 16,
     "metadata": {},
     "output_type": "execute_result"
    }
   ],
   "source": [
    "x"
   ]
  },
  {
   "cell_type": "code",
   "execution_count": null,
   "id": "c48b719f-05fb-4a3a-a1c9-9e199cd58f50",
   "metadata": {},
   "outputs": [],
   "source": []
  }
 ],
 "metadata": {
  "kernelspec": {
   "display_name": "Python [conda env:base] *",
   "language": "python",
   "name": "conda-base-py"
  },
  "language_info": {
   "codemirror_mode": {
    "name": "ipython",
    "version": 3
   },
   "file_extension": ".py",
   "mimetype": "text/x-python",
   "name": "python",
   "nbconvert_exporter": "python",
   "pygments_lexer": "ipython3",
   "version": "3.13.5"
  }
 },
 "nbformat": 4,
 "nbformat_minor": 5
}
