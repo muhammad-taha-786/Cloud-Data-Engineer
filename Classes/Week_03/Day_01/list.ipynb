{
 "cells": [
  {
   "cell_type": "code",
   "execution_count": 4,
   "id": "fc2ee7e8-fd97-42b7-b711-438058e5e1c7",
   "metadata": {},
   "outputs": [],
   "source": [
    "city_0 = \"Atlanta\"\n",
    "city_1 = \"Baltimore\"\n",
    "city_2 = \"Chicago\"\n",
    "city_3 = \"Denver\"\n",
    "city_4 = \"Los Angeles\"\n",
    "city_5 = \"Seattle\"\n"
   ]
  },
  {
   "cell_type": "code",
   "execution_count": 5,
   "id": "ab14fcea-f9fb-43dd-99ca-9f7a9064d79b",
   "metadata": {},
   "outputs": [
    {
     "data": {
      "text/plain": [
       "2725849461072"
      ]
     },
     "execution_count": 5,
     "metadata": {},
     "output_type": "execute_result"
    }
   ],
   "source": [
    "id(city0)"
   ]
  },
  {
   "cell_type": "code",
   "execution_count": 6,
   "id": "37f9de55-305d-4136-88a5-8051cf3ac0de",
   "metadata": {},
   "outputs": [
    {
     "data": {
      "text/plain": [
       "(2725849461072, 2725849460256)"
      ]
     },
     "execution_count": 6,
     "metadata": {},
     "output_type": "execute_result"
    }
   ],
   "source": [
    "id(city0), id(city1)"
   ]
  },
  {
   "cell_type": "markdown",
   "id": "f9262300-603d-416d-a016-c1effbc599ec",
   "metadata": {},
   "source": [
    "### Managing Collection of values\n",
    "### Slower \n",
    "### Solution Data Structure for collection of values list"
   ]
  },
  {
   "cell_type": "code",
   "execution_count": 8,
   "id": "9c5531cc-59e8-4986-959e-4168ddd3de5e",
   "metadata": {},
   "outputs": [],
   "source": [
    "cities = [\"Atlanta\", \"Baltimore\", \"Chicago\", \"Denver\", \"Los Angeles\", \"Seattle\"]"
   ]
  },
  {
   "cell_type": "code",
   "execution_count": 10,
   "id": "a8195299-313b-4f34-995d-c60a4ad3598d",
   "metadata": {},
   "outputs": [
    {
     "name": "stdout",
     "output_type": "stream",
     "text": [
      "<class 'list'>\n"
     ]
    },
    {
     "data": {
      "text/plain": [
       "(None, 2725849942720)"
      ]
     },
     "execution_count": 10,
     "metadata": {},
     "output_type": "execute_result"
    }
   ],
   "source": [
    "print(type(cities)), id(cities)"
   ]
  },
  {
   "cell_type": "code",
   "execution_count": 11,
   "id": "dbae1a4f-6c39-45ec-bb83-7a0b8d1b6ee1",
   "metadata": {},
   "outputs": [],
   "source": [
    "cities.append(\"Karachi\")"
   ]
  },
  {
   "cell_type": "code",
   "execution_count": 12,
   "id": "4888e487-16e8-4bdc-b225-0d154beadf8a",
   "metadata": {},
   "outputs": [
    {
     "data": {
      "text/plain": [
       "['Atlanta',\n",
       " 'Baltimore',\n",
       " 'Chicago',\n",
       " 'Denver',\n",
       " 'Los Angeles',\n",
       " 'Seattle',\n",
       " 'Karachi']"
      ]
     },
     "execution_count": 12,
     "metadata": {},
     "output_type": "execute_result"
    }
   ],
   "source": [
    "cities"
   ]
  },
  {
   "cell_type": "code",
   "execution_count": 16,
   "id": "41a6df9f-6c43-4269-9c12-273b165070b9",
   "metadata": {},
   "outputs": [
    {
     "data": {
      "text/plain": [
       "1"
      ]
     },
     "execution_count": 16,
     "metadata": {},
     "output_type": "execute_result"
    }
   ],
   "source": [
    "cities.count(\"Chicago\")"
   ]
  },
  {
   "cell_type": "code",
   "execution_count": 18,
   "id": "8158a485-01b3-42ce-8014-5000707c9461",
   "metadata": {},
   "outputs": [],
   "source": [
    "cities.extend([\"Isalamabad\"])"
   ]
  },
  {
   "cell_type": "code",
   "execution_count": 19,
   "id": "689b7952-eb77-49d6-b12e-ef2471762018",
   "metadata": {},
   "outputs": [
    {
     "data": {
      "text/plain": [
       "['Atlanta',\n",
       " 'Baltimore',\n",
       " 'Chicago',\n",
       " 'Denver',\n",
       " 'Los Angeles',\n",
       " 'Seattle',\n",
       " 'Isalamabad']"
      ]
     },
     "execution_count": 19,
     "metadata": {},
     "output_type": "execute_result"
    }
   ],
   "source": [
    "cities"
   ]
  },
  {
   "cell_type": "code",
   "execution_count": 23,
   "id": "87abeccd-9ac8-472b-a5c1-c585fb465105",
   "metadata": {},
   "outputs": [
    {
     "data": {
      "text/plain": [
       "2"
      ]
     },
     "execution_count": 23,
     "metadata": {},
     "output_type": "execute_result"
    }
   ],
   "source": [
    "cities.index(\"Chicago\")"
   ]
  },
  {
   "cell_type": "code",
   "execution_count": 28,
   "id": "ba520c9c-daf8-4992-afbb-f9c9262a7f1d",
   "metadata": {},
   "outputs": [],
   "source": [
    "cities.remove('Chicago')"
   ]
  },
  {
   "cell_type": "code",
   "execution_count": 29,
   "id": "645350cd-0cb8-452c-aba6-983d690f8544",
   "metadata": {},
   "outputs": [
    {
     "data": {
      "text/plain": [
       "['Atlanta', 'Baltimore', 'Denver', 'Los Angeles', 'Seattle', 'Isalamabad']"
      ]
     },
     "execution_count": 29,
     "metadata": {},
     "output_type": "execute_result"
    }
   ],
   "source": [
    "cities "
   ]
  },
  {
   "cell_type": "code",
   "execution_count": 30,
   "id": "3ff1b77f-424c-4ece-a6eb-1ad5b51d7b28",
   "metadata": {},
   "outputs": [],
   "source": [
    "cities.reverse()"
   ]
  },
  {
   "cell_type": "code",
   "execution_count": 31,
   "id": "d86109ee-083e-49de-a848-3805c4477be8",
   "metadata": {},
   "outputs": [
    {
     "data": {
      "text/plain": [
       "['Isalamabad', 'Seattle', 'Los Angeles', 'Denver', 'Baltimore', 'Atlanta']"
      ]
     },
     "execution_count": 31,
     "metadata": {},
     "output_type": "execute_result"
    }
   ],
   "source": [
    "cities"
   ]
  },
  {
   "cell_type": "code",
   "execution_count": 32,
   "id": "26c937e4-ec3a-4487-8094-46cfb707f662",
   "metadata": {},
   "outputs": [],
   "source": [
    "cities.sort()"
   ]
  },
  {
   "cell_type": "code",
   "execution_count": 33,
   "id": "707e50d6-3969-4cb2-975c-e667757839c0",
   "metadata": {},
   "outputs": [
    {
     "data": {
      "text/plain": [
       "['Atlanta', 'Baltimore', 'Denver', 'Isalamabad', 'Los Angeles', 'Seattle']"
      ]
     },
     "execution_count": 33,
     "metadata": {},
     "output_type": "execute_result"
    }
   ],
   "source": [
    "cities"
   ]
  },
  {
   "cell_type": "code",
   "execution_count": 34,
   "id": "f80a561d-aaec-426f-8626-56316490274d",
   "metadata": {},
   "outputs": [],
   "source": [
    "cities.clear()"
   ]
  },
  {
   "cell_type": "code",
   "execution_count": 35,
   "id": "518d4109-3068-4f61-ab1b-b8f0fbd5f99a",
   "metadata": {},
   "outputs": [
    {
     "data": {
      "text/plain": [
       "[]"
      ]
     },
     "execution_count": 35,
     "metadata": {},
     "output_type": "execute_result"
    }
   ],
   "source": [
    "cities"
   ]
  },
  {
   "cell_type": "code",
   "execution_count": 36,
   "id": "60d11e10-f216-4ccf-b560-42f638cac1c8",
   "metadata": {},
   "outputs": [
    {
     "data": {
      "text/plain": [
       "[]"
      ]
     },
     "execution_count": 36,
     "metadata": {},
     "output_type": "execute_result"
    }
   ],
   "source": [
    "cities.copy()"
   ]
  },
  {
   "cell_type": "markdown",
   "id": "6611a6c1-a45e-4fa3-9faa-158c9e37ca9b",
   "metadata": {},
   "source": [
    "#### Shallow/Deep Copy"
   ]
  },
  {
   "cell_type": "code",
   "execution_count": 46,
   "id": "4be4c8a9-3b9c-4feb-a298-38f74ac4c280",
   "metadata": {},
   "outputs": [],
   "source": [
    "city_0 = \"Atlanta\"\n",
    "city_1 = \"Baltimore\"\n",
    "city_2 = \"Chicago\"\n",
    "city_3 = \"Denver\"\n",
    "city_4 = \"Los Angeles\"\n",
    "city_5 = \"Seattle\"\n"
   ]
  },
  {
   "cell_type": "code",
   "execution_count": 40,
   "id": "e58e727f-1aba-467a-af1c-6d64c8435718",
   "metadata": {},
   "outputs": [],
   "source": [
    "cities_new = cities.copy()"
   ]
  },
  {
   "cell_type": "code",
   "execution_count": 41,
   "id": "799ada66-01e8-4340-997e-4142960b4636",
   "metadata": {},
   "outputs": [
    {
     "name": "stdout",
     "output_type": "stream",
     "text": [
      "<class 'list'> 2725908091520\n"
     ]
    }
   ],
   "source": [
    "print(type(cities_new), id(cities_new))"
   ]
  },
  {
   "cell_type": "code",
   "execution_count": 43,
   "id": "e9090d4d-419f-4312-9252-3bfc505cb716",
   "metadata": {},
   "outputs": [],
   "source": [
    "cities_new.append(\"Karachi\")"
   ]
  },
  {
   "cell_type": "code",
   "execution_count": 45,
   "id": "bd644048-ccf9-457e-a9d2-8a75392895b9",
   "metadata": {},
   "outputs": [
    {
     "data": {
      "text/plain": [
       "['Karachi']"
      ]
     },
     "execution_count": 45,
     "metadata": {},
     "output_type": "execute_result"
    }
   ],
   "source": [
    "cities_new"
   ]
  },
  {
   "cell_type": "code",
   "execution_count": 47,
   "id": "c40de107-687c-45f0-8411-560396b64b8c",
   "metadata": {},
   "outputs": [],
   "source": [
    "cities_new = [\"Atlanta\", \"Baltimore\", \"Chicago\", \"Denver\", \"Los Angeles\", \"Seattle\"]"
   ]
  },
  {
   "cell_type": "code",
   "execution_count": 48,
   "id": "a272f52d-1bfa-4045-95a5-4c338288a200",
   "metadata": {},
   "outputs": [
    {
     "data": {
      "text/plain": [
       "['Atlanta', 'Baltimore', 'Chicago', 'Denver', 'Los Angeles', 'Seattle']"
      ]
     },
     "execution_count": 48,
     "metadata": {},
     "output_type": "execute_result"
    }
   ],
   "source": [
    "cities_new"
   ]
  },
  {
   "cell_type": "code",
   "execution_count": 49,
   "id": "9c8e06b3-91ec-4111-aca2-d757a26031db",
   "metadata": {},
   "outputs": [],
   "source": [
    "cities_new.append(\"Karachi\")"
   ]
  },
  {
   "cell_type": "code",
   "execution_count": 50,
   "id": "188ddcce-5227-49c2-9c58-2a1c6fd24496",
   "metadata": {},
   "outputs": [
    {
     "data": {
      "text/plain": [
       "['Atlanta',\n",
       " 'Baltimore',\n",
       " 'Chicago',\n",
       " 'Denver',\n",
       " 'Los Angeles',\n",
       " 'Seattle',\n",
       " 'Karachi']"
      ]
     },
     "execution_count": 50,
     "metadata": {},
     "output_type": "execute_result"
    }
   ],
   "source": [
    "cities_new"
   ]
  },
  {
   "cell_type": "markdown",
   "id": "cf6bb83c-793e-42c7-8966-9616bcf0de2d",
   "metadata": {},
   "source": [
    "#### Task \n",
    "- Implement Deep Copy Concept on list\n",
    "- Adding Values at defferent index without method .insert() method"
   ]
  },
  {
   "cell_type": "code",
   "execution_count": 52,
   "id": "b7d1c4e4-dc4f-4724-8823-8c9bcd2092e9",
   "metadata": {},
   "outputs": [],
   "source": [
    "cities_new1 = [\"Atlanta\", \"Baltimore\", \"Chicago\", \"Denver\", \"Los Angeles\", \"Seattle\"]"
   ]
  },
  {
   "cell_type": "code",
   "execution_count": 53,
   "id": "46f6fd1d-5692-48bd-bae4-3bd8dbee2949",
   "metadata": {},
   "outputs": [
    {
     "data": {
      "text/plain": [
       "['Atlanta', 'Baltimore', 'Chicago', 'Denver', 'Los Angeles', 'Seattle']"
      ]
     },
     "execution_count": 53,
     "metadata": {},
     "output_type": "execute_result"
    }
   ],
   "source": [
    "cities_new1"
   ]
  },
  {
   "cell_type": "code",
   "execution_count": 54,
   "id": "556bc15a-e268-4f2f-9790-547c61f96ecb",
   "metadata": {},
   "outputs": [],
   "source": [
    "cities_new1.append(\"Karachi\")"
   ]
  },
  {
   "cell_type": "code",
   "execution_count": 55,
   "id": "1f8440e4-06d7-49b6-b002-0ff82d43f2ce",
   "metadata": {},
   "outputs": [
    {
     "data": {
      "text/plain": [
       "['Atlanta',\n",
       " 'Baltimore',\n",
       " 'Chicago',\n",
       " 'Denver',\n",
       " 'Los Angeles',\n",
       " 'Seattle',\n",
       " 'Karachi']"
      ]
     },
     "execution_count": 55,
     "metadata": {},
     "output_type": "execute_result"
    }
   ],
   "source": [
    "cities_new1"
   ]
  },
  {
   "cell_type": "code",
   "execution_count": 56,
   "id": "14589682-4186-486e-811b-48f25ee3b1d5",
   "metadata": {},
   "outputs": [],
   "source": [
    "cities_new1 [0] = \"Lahore\""
   ]
  },
  {
   "cell_type": "code",
   "execution_count": 57,
   "id": "c29326f2-7e8b-4dac-b826-31c166ac2bbc",
   "metadata": {},
   "outputs": [
    {
     "data": {
      "text/plain": [
       "['Lahore',\n",
       " 'Baltimore',\n",
       " 'Chicago',\n",
       " 'Denver',\n",
       " 'Los Angeles',\n",
       " 'Seattle',\n",
       " 'Karachi']"
      ]
     },
     "execution_count": 57,
     "metadata": {},
     "output_type": "execute_result"
    }
   ],
   "source": [
    "cities_new1"
   ]
  },
  {
   "cell_type": "code",
   "execution_count": 58,
   "id": "ce32412c-107f-4333-b57f-d885218d69a5",
   "metadata": {},
   "outputs": [
    {
     "data": {
      "text/plain": [
       "(['Lahore',\n",
       "  'Baltimore',\n",
       "  'Chicago',\n",
       "  'Denver',\n",
       "  'Los Angeles',\n",
       "  'Seattle',\n",
       "  'Karachi'],\n",
       " ['Atlanta',\n",
       "  'Baltimore',\n",
       "  'Chicago',\n",
       "  'Denver',\n",
       "  'Los Angeles',\n",
       "  'Seattle',\n",
       "  'Karachi'])"
      ]
     },
     "execution_count": 58,
     "metadata": {},
     "output_type": "execute_result"
    }
   ],
   "source": [
    "cities_new1, cities_new"
   ]
  },
  {
   "cell_type": "code",
   "execution_count": 59,
   "id": "524b609a-a983-477b-94e7-e190712aa34f",
   "metadata": {},
   "outputs": [],
   "source": [
    "cities_new1.append(\"Quetta\")"
   ]
  },
  {
   "cell_type": "code",
   "execution_count": 60,
   "id": "88fab7f1-411e-422a-8b5f-77ebd570af43",
   "metadata": {},
   "outputs": [
    {
     "data": {
      "text/plain": [
       "['Lahore',\n",
       " 'Baltimore',\n",
       " 'Chicago',\n",
       " 'Denver',\n",
       " 'Los Angeles',\n",
       " 'Seattle',\n",
       " 'Karachi',\n",
       " 'Quetta']"
      ]
     },
     "execution_count": 60,
     "metadata": {},
     "output_type": "execute_result"
    }
   ],
   "source": [
    "cities_new1"
   ]
  },
  {
   "cell_type": "code",
   "execution_count": 61,
   "id": "7fc202d0-8fde-4daf-b7d4-9d6020b8d4d8",
   "metadata": {},
   "outputs": [
    {
     "data": {
      "text/plain": [
       "['Atlanta',\n",
       " 'Baltimore',\n",
       " 'Chicago',\n",
       " 'Denver',\n",
       " 'Los Angeles',\n",
       " 'Seattle',\n",
       " 'Karachi']"
      ]
     },
     "execution_count": 61,
     "metadata": {},
     "output_type": "execute_result"
    }
   ],
   "source": [
    "cities_new"
   ]
  },
  {
   "cell_type": "code",
   "execution_count": 62,
   "id": "9996e680-6b44-4fbc-b7ce-152dc15ad830",
   "metadata": {},
   "outputs": [],
   "source": [
    "cities_new1 = cities_new"
   ]
  },
  {
   "cell_type": "code",
   "execution_count": 63,
   "id": "a6fc6c19-274c-4fb3-a1f8-7757f34435d6",
   "metadata": {},
   "outputs": [
    {
     "data": {
      "text/plain": [
       "(['Atlanta',\n",
       "  'Baltimore',\n",
       "  'Chicago',\n",
       "  'Denver',\n",
       "  'Los Angeles',\n",
       "  'Seattle',\n",
       "  'Karachi'],\n",
       " ['Atlanta',\n",
       "  'Baltimore',\n",
       "  'Chicago',\n",
       "  'Denver',\n",
       "  'Los Angeles',\n",
       "  'Seattle',\n",
       "  'Karachi'])"
      ]
     },
     "execution_count": 63,
     "metadata": {},
     "output_type": "execute_result"
    }
   ],
   "source": [
    "cities_new1, cities_new"
   ]
  },
  {
   "cell_type": "code",
   "execution_count": 64,
   "id": "8471b61b-7efe-43cc-a477-fea56445d7c6",
   "metadata": {},
   "outputs": [],
   "source": [
    "cities_new.append(\"New York\")"
   ]
  },
  {
   "cell_type": "code",
   "execution_count": 65,
   "id": "eb4eb2af-f05f-4cf8-a3c7-6a9453cba40d",
   "metadata": {},
   "outputs": [
    {
     "data": {
      "text/plain": [
       "(['Atlanta',\n",
       "  'Baltimore',\n",
       "  'Chicago',\n",
       "  'Denver',\n",
       "  'Los Angeles',\n",
       "  'Seattle',\n",
       "  'Karachi',\n",
       "  'New York'],\n",
       " ['Atlanta',\n",
       "  'Baltimore',\n",
       "  'Chicago',\n",
       "  'Denver',\n",
       "  'Los Angeles',\n",
       "  'Seattle',\n",
       "  'Karachi',\n",
       "  'New York'])"
      ]
     },
     "execution_count": 65,
     "metadata": {},
     "output_type": "execute_result"
    }
   ],
   "source": [
    "cities_new1, cities_new"
   ]
  },
  {
   "cell_type": "markdown",
   "id": "d34e3dc1-5f20-4377-8fb7-f25762e18c89",
   "metadata": {},
   "source": [
    "### Slicing"
   ]
  },
  {
   "cell_type": "code",
   "execution_count": 67,
   "id": "1ece927f-208d-475b-a569-d969960573b3",
   "metadata": {},
   "outputs": [
    {
     "data": {
      "text/plain": [
       "['Atlanta',\n",
       " 'Baltimore',\n",
       " 'Chicago',\n",
       " 'Denver',\n",
       " 'Los Angeles',\n",
       " 'Seattle',\n",
       " 'Karachi',\n",
       " 'New York']"
      ]
     },
     "execution_count": 67,
     "metadata": {},
     "output_type": "execute_result"
    }
   ],
   "source": [
    "cities_new"
   ]
  },
  {
   "cell_type": "code",
   "execution_count": 70,
   "id": "2524fd72-1217-4b25-8657-6a4b3e8e6780",
   "metadata": {},
   "outputs": [
    {
     "data": {
      "text/plain": [
       "['Atlanta', 'Baltimore', 'Chicago', 'Denver', 'Los Angeles']"
      ]
     },
     "execution_count": 70,
     "metadata": {},
     "output_type": "execute_result"
    }
   ],
   "source": [
    "cities_new1[:5] # Note first included and last not included "
   ]
  },
  {
   "cell_type": "code",
   "execution_count": 71,
   "id": "45ba826a-3f41-4cbb-b066-300b7ec42f17",
   "metadata": {},
   "outputs": [
    {
     "data": {
      "text/plain": [
       "['Chicago', 'Denver', 'Los Angeles']"
      ]
     },
     "execution_count": 71,
     "metadata": {},
     "output_type": "execute_result"
    }
   ],
   "source": [
    "cities_new1[2:5]"
   ]
  },
  {
   "cell_type": "code",
   "execution_count": 72,
   "id": "98c36179-679a-4a0f-84f4-35244686e3f1",
   "metadata": {},
   "outputs": [
    {
     "data": {
      "text/plain": [
       "['Chicago', 'Denver', 'Los Angeles', 'Seattle', 'Karachi', 'New York']"
      ]
     },
     "execution_count": 72,
     "metadata": {},
     "output_type": "execute_result"
    }
   ],
   "source": [
    "cities_new1[2:]"
   ]
  },
  {
   "cell_type": "code",
   "execution_count": 74,
   "id": "8224685f-d888-4569-8f60-6f4b7118e48b",
   "metadata": {},
   "outputs": [
    {
     "data": {
      "text/plain": [
       "['New York',\n",
       " 'Karachi',\n",
       " 'Seattle',\n",
       " 'Los Angeles',\n",
       " 'Denver',\n",
       " 'Chicago',\n",
       " 'Baltimore',\n",
       " 'Atlanta']"
      ]
     },
     "execution_count": 74,
     "metadata": {},
     "output_type": "execute_result"
    }
   ],
   "source": [
    "cities_new1[::-1]"
   ]
  },
  {
   "cell_type": "code",
   "execution_count": 75,
   "id": "f54362de-e45c-40b1-881c-3abb95e3e233",
   "metadata": {},
   "outputs": [],
   "source": [
    "name = [\"taha\", \"owais\", \"saim\", \"ahmed\", \"bilal\"]"
   ]
  },
  {
   "cell_type": "code",
   "execution_count": 76,
   "id": "b5a649e7-603c-4bbf-a013-7db8f43f4024",
   "metadata": {},
   "outputs": [
    {
     "data": {
      "text/plain": [
       "['taha', 'owais', 'saim', 'ahmed', 'bilal']"
      ]
     },
     "execution_count": 76,
     "metadata": {},
     "output_type": "execute_result"
    }
   ],
   "source": [
    "name"
   ]
  },
  {
   "cell_type": "code",
   "execution_count": 77,
   "id": "f6de68a3-4bcc-4c83-9aab-f9450227deba",
   "metadata": {},
   "outputs": [],
   "source": [
    "name.append(\"Imran\")"
   ]
  },
  {
   "cell_type": "code",
   "execution_count": 78,
   "id": "dfacfd63-dc65-446d-882e-6cda3ebf0297",
   "metadata": {},
   "outputs": [
    {
     "data": {
      "text/plain": [
       "['taha', 'owais', 'saim', 'ahmed', 'bilal', 'Imran']"
      ]
     },
     "execution_count": 78,
     "metadata": {},
     "output_type": "execute_result"
    }
   ],
   "source": [
    "name"
   ]
  },
  {
   "cell_type": "code",
   "execution_count": 79,
   "id": "427ad0b8-17b0-4d42-a319-5a7de3fb4c61",
   "metadata": {},
   "outputs": [
    {
     "data": {
      "text/plain": [
       "['taha', 'owais', 'saim', 'ahmed', 'bilal', 'Imran']"
      ]
     },
     "execution_count": 79,
     "metadata": {},
     "output_type": "execute_result"
    }
   ],
   "source": [
    "name.copy()"
   ]
  },
  {
   "cell_type": "code",
   "execution_count": 87,
   "id": "02bb6fdc-20f0-4201-b055-4be5650742cc",
   "metadata": {},
   "outputs": [
    {
     "data": {
      "text/plain": [
       "1"
      ]
     },
     "execution_count": 87,
     "metadata": {},
     "output_type": "execute_result"
    }
   ],
   "source": [
    "name.count(\"saim\")"
   ]
  },
  {
   "cell_type": "code",
   "execution_count": 93,
   "id": "159caf43-bf09-4760-9a56-5ae2cd5090ac",
   "metadata": {},
   "outputs": [],
   "source": [
    "name.extend(\"taha\")"
   ]
  },
  {
   "cell_type": "code",
   "execution_count": 94,
   "id": "33522630-affe-49f4-b7dc-17c2cbe649ed",
   "metadata": {},
   "outputs": [
    {
     "data": {
      "text/plain": [
       "['taha',\n",
       " 'owais',\n",
       " 'saim',\n",
       " 'ahmed',\n",
       " 'bilal',\n",
       " 'Imran',\n",
       " 'u',\n",
       " 'z',\n",
       " 'a',\n",
       " 'i',\n",
       " 'r',\n",
       " 't',\n",
       " 'a',\n",
       " 'h',\n",
       " 'a',\n",
       " 't',\n",
       " 'a',\n",
       " 'h',\n",
       " 'a']"
      ]
     },
     "execution_count": 94,
     "metadata": {},
     "output_type": "execute_result"
    }
   ],
   "source": [
    "name"
   ]
  },
  {
   "cell_type": "code",
   "execution_count": 98,
   "id": "0a4ef5f6-ac41-407a-b43d-e9c695994e5d",
   "metadata": {},
   "outputs": [
    {
     "data": {
      "text/plain": [
       "5"
      ]
     },
     "execution_count": 98,
     "metadata": {},
     "output_type": "execute_result"
    }
   ],
   "source": [
    "name.index(\"Imran\")"
   ]
  },
  {
   "cell_type": "code",
   "execution_count": 102,
   "id": "c68ec76f-c04a-4a01-9fb4-f331d9f0c969",
   "metadata": {},
   "outputs": [],
   "source": [
    "name.insert(1, \"mohsin\")"
   ]
  },
  {
   "cell_type": "code",
   "execution_count": 103,
   "id": "df706306-72d6-42fe-8a1e-d5309a927403",
   "metadata": {},
   "outputs": [
    {
     "data": {
      "text/plain": [
       "['taha',\n",
       " 'mohsin',\n",
       " 'owais',\n",
       " 'saim',\n",
       " 'ahmed',\n",
       " 'bilal',\n",
       " 'Imran',\n",
       " 'u',\n",
       " 'z',\n",
       " 'a',\n",
       " 'i',\n",
       " 'r',\n",
       " 't',\n",
       " 'a',\n",
       " 'h',\n",
       " 'a',\n",
       " 't',\n",
       " 'a',\n",
       " 'h',\n",
       " 'a']"
      ]
     },
     "execution_count": 103,
     "metadata": {},
     "output_type": "execute_result"
    }
   ],
   "source": [
    "name"
   ]
  },
  {
   "cell_type": "code",
   "execution_count": 105,
   "id": "d293667f-8597-403f-b26f-7c960f84724f",
   "metadata": {},
   "outputs": [
    {
     "data": {
      "text/plain": [
       "'mohsin'"
      ]
     },
     "execution_count": 105,
     "metadata": {},
     "output_type": "execute_result"
    }
   ],
   "source": [
    "name.pop(1)"
   ]
  },
  {
   "cell_type": "code",
   "execution_count": 106,
   "id": "ca4e6a95-408f-4df1-af4e-33a47350d9a0",
   "metadata": {},
   "outputs": [
    {
     "data": {
      "text/plain": [
       "['taha',\n",
       " 'owais',\n",
       " 'saim',\n",
       " 'ahmed',\n",
       " 'bilal',\n",
       " 'Imran',\n",
       " 'u',\n",
       " 'z',\n",
       " 'a',\n",
       " 'i',\n",
       " 'r',\n",
       " 't',\n",
       " 'a',\n",
       " 'h',\n",
       " 'a',\n",
       " 't',\n",
       " 'a',\n",
       " 'h',\n",
       " 'a']"
      ]
     },
     "execution_count": 106,
     "metadata": {},
     "output_type": "execute_result"
    }
   ],
   "source": [
    "name"
   ]
  },
  {
   "cell_type": "code",
   "execution_count": 107,
   "id": "4b03ad57-bf5c-4600-80e4-df8cc8c1957e",
   "metadata": {},
   "outputs": [],
   "source": [
    "name.reverse()"
   ]
  },
  {
   "cell_type": "code",
   "execution_count": 108,
   "id": "41de7282-47ca-4b03-89ae-9da11c01ecce",
   "metadata": {},
   "outputs": [
    {
     "data": {
      "text/plain": [
       "['a',\n",
       " 'h',\n",
       " 'a',\n",
       " 't',\n",
       " 'a',\n",
       " 'h',\n",
       " 'a',\n",
       " 't',\n",
       " 'r',\n",
       " 'i',\n",
       " 'a',\n",
       " 'z',\n",
       " 'u',\n",
       " 'Imran',\n",
       " 'bilal',\n",
       " 'ahmed',\n",
       " 'saim',\n",
       " 'owais',\n",
       " 'taha']"
      ]
     },
     "execution_count": 108,
     "metadata": {},
     "output_type": "execute_result"
    }
   ],
   "source": [
    "name"
   ]
  },
  {
   "cell_type": "code",
   "execution_count": 109,
   "id": "f448dcf1-0996-481a-ae30-b04ede473396",
   "metadata": {},
   "outputs": [],
   "source": [
    "name.sort()"
   ]
  },
  {
   "cell_type": "code",
   "execution_count": 110,
   "id": "aabf90a7-fee8-4f97-87c3-b6b036e6ad60",
   "metadata": {},
   "outputs": [
    {
     "data": {
      "text/plain": [
       "['Imran',\n",
       " 'a',\n",
       " 'a',\n",
       " 'a',\n",
       " 'a',\n",
       " 'a',\n",
       " 'ahmed',\n",
       " 'bilal',\n",
       " 'h',\n",
       " 'h',\n",
       " 'i',\n",
       " 'owais',\n",
       " 'r',\n",
       " 'saim',\n",
       " 't',\n",
       " 't',\n",
       " 'taha',\n",
       " 'u',\n",
       " 'z']"
      ]
     },
     "execution_count": 110,
     "metadata": {},
     "output_type": "execute_result"
    }
   ],
   "source": [
    "name"
   ]
  },
  {
   "cell_type": "code",
   "execution_count": 111,
   "id": "89779575-e640-4761-beef-1d6c98ca3667",
   "metadata": {},
   "outputs": [],
   "source": [
    "name.sort()"
   ]
  },
  {
   "cell_type": "code",
   "execution_count": 112,
   "id": "f6bed88d-5dab-44cd-9a40-2c66af42c8ba",
   "metadata": {},
   "outputs": [
    {
     "data": {
      "text/plain": [
       "['Imran',\n",
       " 'a',\n",
       " 'a',\n",
       " 'a',\n",
       " 'a',\n",
       " 'a',\n",
       " 'ahmed',\n",
       " 'bilal',\n",
       " 'h',\n",
       " 'h',\n",
       " 'i',\n",
       " 'owais',\n",
       " 'r',\n",
       " 'saim',\n",
       " 't',\n",
       " 't',\n",
       " 'taha',\n",
       " 'u',\n",
       " 'z']"
      ]
     },
     "execution_count": 112,
     "metadata": {},
     "output_type": "execute_result"
    }
   ],
   "source": [
    "name"
   ]
  },
  {
   "cell_type": "code",
   "execution_count": 113,
   "id": "a39cd419-ca0e-4de1-bd21-e9adcb32386d",
   "metadata": {},
   "outputs": [],
   "source": [
    "name.clear()"
   ]
  },
  {
   "cell_type": "code",
   "execution_count": 114,
   "id": "302aa655-f7d2-48b1-827b-28b90547941a",
   "metadata": {},
   "outputs": [
    {
     "data": {
      "text/plain": [
       "[]"
      ]
     },
     "execution_count": 114,
     "metadata": {},
     "output_type": "execute_result"
    }
   ],
   "source": [
    "name"
   ]
  },
  {
   "cell_type": "code",
   "execution_count": 115,
   "id": "4b35d386-2561-4834-8e29-f8472d45e73f",
   "metadata": {},
   "outputs": [],
   "source": [
    "student = [\"taha\", \"owais\", \"saim\", \"ahmed\", \"bilal\"]"
   ]
  },
  {
   "cell_type": "code",
   "execution_count": 116,
   "id": "80739cf9-048c-462f-b8dd-441393bb72d9",
   "metadata": {},
   "outputs": [
    {
     "data": {
      "text/plain": [
       "['taha', 'owais', 'saim', 'ahmed', 'bilal']"
      ]
     },
     "execution_count": 116,
     "metadata": {},
     "output_type": "execute_result"
    }
   ],
   "source": [
    "student "
   ]
  },
  {
   "cell_type": "code",
   "execution_count": 117,
   "id": "233a9512-ce65-42eb-bff7-2f17034f2cdc",
   "metadata": {},
   "outputs": [],
   "source": [
    "name = student "
   ]
  },
  {
   "cell_type": "code",
   "execution_count": 118,
   "id": "8d029025-1de4-4abc-a897-0948f422ddd9",
   "metadata": {},
   "outputs": [
    {
     "data": {
      "text/plain": [
       "(['taha', 'owais', 'saim', 'ahmed', 'bilal'],\n",
       " ['taha', 'owais', 'saim', 'ahmed', 'bilal'])"
      ]
     },
     "execution_count": 118,
     "metadata": {},
     "output_type": "execute_result"
    }
   ],
   "source": [
    "name, student"
   ]
  },
  {
   "cell_type": "code",
   "execution_count": 119,
   "id": "f22064cb-b5a6-4b21-8cd7-8209b5ae938f",
   "metadata": {},
   "outputs": [],
   "source": [
    "student.append(\"uzair\")"
   ]
  },
  {
   "cell_type": "code",
   "execution_count": 120,
   "id": "97d0292c-23ad-4a9c-b8cc-aa975ac04de2",
   "metadata": {},
   "outputs": [
    {
     "data": {
      "text/plain": [
       "['taha', 'owais', 'saim', 'ahmed', 'bilal', 'uzair']"
      ]
     },
     "execution_count": 120,
     "metadata": {},
     "output_type": "execute_result"
    }
   ],
   "source": [
    "name"
   ]
  },
  {
   "cell_type": "code",
   "execution_count": 121,
   "id": "3576cd34-822a-4317-a589-055365213cce",
   "metadata": {},
   "outputs": [
    {
     "data": {
      "text/plain": [
       "(['taha', 'owais', 'saim', 'ahmed', 'bilal', 'uzair'],\n",
       " ['taha', 'owais', 'saim', 'ahmed', 'bilal', 'uzair'])"
      ]
     },
     "execution_count": 121,
     "metadata": {},
     "output_type": "execute_result"
    }
   ],
   "source": [
    "name, student "
   ]
  },
  {
   "cell_type": "code",
   "execution_count": 127,
   "id": "f2997d80-b96a-44df-970b-44d584d62bbd",
   "metadata": {},
   "outputs": [
    {
     "data": {
      "text/plain": [
       "0"
      ]
     },
     "execution_count": 127,
     "metadata": {},
     "output_type": "execute_result"
    }
   ],
   "source": [
    "name.index(\"taha\")"
   ]
  },
  {
   "cell_type": "markdown",
   "id": "8aa40174-46a9-4af0-817d-c3e69251f859",
   "metadata": {},
   "source": [
    "### Tuples \n"
   ]
  },
  {
   "cell_type": "code",
   "execution_count": 129,
   "id": "38e9277c-ccb5-4a97-bef3-39a591039170",
   "metadata": {},
   "outputs": [],
   "source": [
    "bio_data =  [\"Taha\", 22, 25.6, True ]"
   ]
  },
  {
   "cell_type": "code",
   "execution_count": 130,
   "id": "13c1e920-4b8d-4392-beed-cf14eb1f8d5f",
   "metadata": {},
   "outputs": [
    {
     "data": {
      "text/plain": [
       "['Taha', 22, 25.6, True]"
      ]
     },
     "execution_count": 130,
     "metadata": {},
     "output_type": "execute_result"
    }
   ],
   "source": [
    "bio_data"
   ]
  },
  {
   "cell_type": "code",
   "execution_count": 134,
   "id": "8231cc1b-dcfd-4298-9640-35e51cd154bc",
   "metadata": {},
   "outputs": [],
   "source": [
    "bio_data.append(\"Imran\")"
   ]
  },
  {
   "cell_type": "code",
   "execution_count": 135,
   "id": "85a9cd1d-cc3b-4914-bac8-7fd51f8f8aef",
   "metadata": {},
   "outputs": [
    {
     "data": {
      "text/plain": [
       "['Taha', 22, 25.6, True, 'Imran', 'Imran', 'Imran']"
      ]
     },
     "execution_count": 135,
     "metadata": {},
     "output_type": "execute_result"
    }
   ],
   "source": [
    "bio_data"
   ]
  },
  {
   "cell_type": "code",
   "execution_count": 136,
   "id": "b3831bde-d400-47fd-9c1b-e6658fa9a0e7",
   "metadata": {},
   "outputs": [
    {
     "data": {
      "text/plain": [
       "['Taha', 22, 25.6, True, 'Imran', 'Imran', 'Imran']"
      ]
     },
     "execution_count": 136,
     "metadata": {},
     "output_type": "execute_result"
    }
   ],
   "source": [
    "bio_data"
   ]
  },
  {
   "cell_type": "code",
   "execution_count": 138,
   "id": "a975a4bd-a9d7-475e-bac4-e1480f5a6696",
   "metadata": {},
   "outputs": [
    {
     "data": {
      "text/plain": [
       "['Taha', 22, 25.6, True, 'Imran', 'Imran', 'Imran']"
      ]
     },
     "execution_count": 138,
     "metadata": {},
     "output_type": "execute_result"
    }
   ],
   "source": [
    "bio_data"
   ]
  },
  {
   "cell_type": "code",
   "execution_count": 139,
   "id": "73078b94-ccbd-4ec0-8a42-35aaa1c18952",
   "metadata": {},
   "outputs": [
    {
     "data": {
      "text/plain": [
       "('Taha', 22, 25.6, True, 'Imran', 'Imran', 'Imran')"
      ]
     },
     "execution_count": 139,
     "metadata": {},
     "output_type": "execute_result"
    }
   ],
   "source": [
    "tuple(bio_data)"
   ]
  },
  {
   "cell_type": "code",
   "execution_count": 140,
   "id": "a7df8054-37cc-4812-b72c-2d4b7633ed18",
   "metadata": {},
   "outputs": [],
   "source": [
    "bio_data_t = tuple(bio_data)"
   ]
  },
  {
   "cell_type": "code",
   "execution_count": 141,
   "id": "b031335e-159d-4c9a-80ae-faab3f2c1020",
   "metadata": {},
   "outputs": [
    {
     "data": {
      "text/plain": [
       "('Taha', 22, 25.6, True, 'Imran', 'Imran', 'Imran')"
      ]
     },
     "execution_count": 141,
     "metadata": {},
     "output_type": "execute_result"
    }
   ],
   "source": [
    "bio_data_t"
   ]
  },
  {
   "cell_type": "code",
   "execution_count": 143,
   "id": "7dd6027e-69cc-482d-a134-e43596c37e79",
   "metadata": {},
   "outputs": [
    {
     "ename": "TypeError",
     "evalue": "'tuple' object does not support item assignment",
     "output_type": "error",
     "traceback": [
      "\u001b[1;31m---------------------------------------------------------------------------\u001b[0m",
      "\u001b[1;31mTypeError\u001b[0m                                 Traceback (most recent call last)",
      "Cell \u001b[1;32mIn[143], line 1\u001b[0m\n\u001b[1;32m----> 1\u001b[0m bio_data_t[\u001b[38;5;241m4\u001b[39m] \u001b[38;5;241m=\u001b[39m \u001b[38;5;124m'\u001b[39m\u001b[38;5;124m3245367\u001b[39m\u001b[38;5;124m'\u001b[39m\n",
      "\u001b[1;31mTypeError\u001b[0m: 'tuple' object does not support item assignment"
     ]
    }
   ],
   "source": [
    "bio_data_t[4] = '3245367'"
   ]
  },
  {
   "cell_type": "code",
   "execution_count": 144,
   "id": "39543a20-31e5-47a9-904c-db51fda7d6f4",
   "metadata": {},
   "outputs": [
    {
     "data": {
      "text/plain": [
       "3"
      ]
     },
     "execution_count": 144,
     "metadata": {},
     "output_type": "execute_result"
    }
   ],
   "source": [
    "bio_data_t.count(\"Imran\")"
   ]
  },
  {
   "cell_type": "code",
   "execution_count": 145,
   "id": "b6665408-6f33-4ded-a0af-4e1ad7f75a44",
   "metadata": {},
   "outputs": [
    {
     "data": {
      "text/plain": [
       "4"
      ]
     },
     "execution_count": 145,
     "metadata": {},
     "output_type": "execute_result"
    }
   ],
   "source": [
    "bio_data_t.index(\"Imran\")"
   ]
  },
  {
   "cell_type": "markdown",
   "id": "c0f76651-52d1-4930-8d0a-6f06cea20228",
   "metadata": {},
   "source": [
    "#### Sets "
   ]
  },
  {
   "cell_type": "code",
   "execution_count": 147,
   "id": "1549e97c-c9b2-4293-b8ca-e2f8c1a81b39",
   "metadata": {},
   "outputs": [],
   "source": [
    "name_list = [\"Taha\", \"Taha\", \"Taha\", \"Muhammad Taha \"]"
   ]
  },
  {
   "cell_type": "code",
   "execution_count": 148,
   "id": "eb63c98f-47f4-4fac-bb39-c8d62346ee42",
   "metadata": {},
   "outputs": [
    {
     "data": {
      "text/plain": [
       "['Taha', 'Taha', 'Taha', 'Muhammad Taha ']"
      ]
     },
     "execution_count": 148,
     "metadata": {},
     "output_type": "execute_result"
    }
   ],
   "source": [
    "name_list"
   ]
  },
  {
   "cell_type": "code",
   "execution_count": 149,
   "id": "c100e863-1858-4506-8e99-eedf1332a343",
   "metadata": {},
   "outputs": [],
   "source": [
    "name_set = set(name_list)"
   ]
  },
  {
   "cell_type": "code",
   "execution_count": 150,
   "id": "29231519-f9dc-40bf-92cd-ec825e965ea1",
   "metadata": {},
   "outputs": [
    {
     "data": {
      "text/plain": [
       "{'Muhammad Taha ', 'Taha'}"
      ]
     },
     "execution_count": 150,
     "metadata": {},
     "output_type": "execute_result"
    }
   ],
   "source": [
    "name_set"
   ]
  },
  {
   "cell_type": "code",
   "execution_count": 153,
   "id": "ad1d922a-2303-49cf-9868-b33c52e901e2",
   "metadata": {},
   "outputs": [],
   "source": [
    "set_a = {'a', 'b'}\n",
    "set_b = {'c','d'}\n",
    "universal_set = {'a', 'b', 'c' ,'d'}"
   ]
  },
  {
   "cell_type": "code",
   "execution_count": 154,
   "id": "b9fd1dd8-886f-4d28-8446-0afdaf695ae8",
   "metadata": {},
   "outputs": [],
   "source": [
    "universal_set.add('e')"
   ]
  },
  {
   "cell_type": "code",
   "execution_count": 155,
   "id": "22d76e6f-ef0e-4ef3-835d-97f6663726a5",
   "metadata": {},
   "outputs": [
    {
     "data": {
      "text/plain": [
       "{'a', 'b', 'c', 'd', 'e'}"
      ]
     },
     "execution_count": 155,
     "metadata": {},
     "output_type": "execute_result"
    }
   ],
   "source": [
    "universal_set"
   ]
  },
  {
   "cell_type": "code",
   "execution_count": 160,
   "id": "120bb701-2694-4cb5-b9e7-f62d46e4e7d1",
   "metadata": {},
   "outputs": [
    {
     "data": {
      "text/plain": [
       "{'a', 'b'}"
      ]
     },
     "execution_count": 160,
     "metadata": {},
     "output_type": "execute_result"
    }
   ],
   "source": [
    "universal_set.intersection(set_a)"
   ]
  },
  {
   "cell_type": "code",
   "execution_count": 163,
   "id": "3bc50f70-95d3-4ebc-a8fc-416dab86a85a",
   "metadata": {},
   "outputs": [],
   "source": [
    "universal_set.update('f')"
   ]
  },
  {
   "cell_type": "code",
   "execution_count": 164,
   "id": "ead425ad-90de-4bfc-b560-8eb99d439de7",
   "metadata": {},
   "outputs": [
    {
     "data": {
      "text/plain": [
       "{'a', 'b', 'c', 'd', 'e', 'f'}"
      ]
     },
     "execution_count": 164,
     "metadata": {},
     "output_type": "execute_result"
    }
   ],
   "source": [
    "universal_set"
   ]
  },
  {
   "cell_type": "markdown",
   "id": "6cf7a65d-0eb9-4224-b1ba-bb937fd0bfc3",
   "metadata": {},
   "source": [
    "#### Tuples Task "
   ]
  },
  {
   "cell_type": "code",
   "execution_count": 165,
   "id": "0ff16504-a148-4a82-8cbe-9c126bf8e327",
   "metadata": {},
   "outputs": [],
   "source": [
    "student_tuples = [\"Taha\", 22, 55.5, True]"
   ]
  },
  {
   "cell_type": "code",
   "execution_count": 166,
   "id": "df9374c2-348a-44b0-b996-ad2cb7ba55e0",
   "metadata": {},
   "outputs": [
    {
     "data": {
      "text/plain": [
       "['Taha', 22, 55.5, True]"
      ]
     },
     "execution_count": 166,
     "metadata": {},
     "output_type": "execute_result"
    }
   ],
   "source": [
    "student_tuples"
   ]
  },
  {
   "cell_type": "code",
   "execution_count": 167,
   "id": "f9d49842-451c-4034-b580-4a4483203ee3",
   "metadata": {},
   "outputs": [],
   "source": [
    "student_tuples.append(\"imran\")"
   ]
  },
  {
   "cell_type": "code",
   "execution_count": 168,
   "id": "a4bb173e-20e9-4d94-ab54-bcee3b578b76",
   "metadata": {},
   "outputs": [
    {
     "data": {
      "text/plain": [
       "['Taha', 22, 55.5, True, 'imran']"
      ]
     },
     "execution_count": 168,
     "metadata": {},
     "output_type": "execute_result"
    }
   ],
   "source": [
    "student_tuples"
   ]
  },
  {
   "cell_type": "code",
   "execution_count": 169,
   "id": "88764fed-66ba-4e1b-83a8-0889ee18cca9",
   "metadata": {},
   "outputs": [
    {
     "data": {
      "text/plain": [
       "'imran'"
      ]
     },
     "execution_count": 169,
     "metadata": {},
     "output_type": "execute_result"
    }
   ],
   "source": [
    "student_tuples.pop(4)"
   ]
  },
  {
   "cell_type": "code",
   "execution_count": 170,
   "id": "016f40e8-47ca-4df9-ab69-dc6c17b17162",
   "metadata": {},
   "outputs": [
    {
     "data": {
      "text/plain": [
       "['Taha', 22, 55.5, True]"
      ]
     },
     "execution_count": 170,
     "metadata": {},
     "output_type": "execute_result"
    }
   ],
   "source": [
    "student_tuples"
   ]
  },
  {
   "cell_type": "code",
   "execution_count": 171,
   "id": "216f6de4-881f-485f-825e-840b6e517cb7",
   "metadata": {},
   "outputs": [],
   "source": [
    "student_tuples.reverse()"
   ]
  },
  {
   "cell_type": "code",
   "execution_count": 172,
   "id": "9c114140-3749-4927-9c70-b038ceb0db5c",
   "metadata": {},
   "outputs": [
    {
     "data": {
      "text/plain": [
       "[True, 55.5, 22, 'Taha']"
      ]
     },
     "execution_count": 172,
     "metadata": {},
     "output_type": "execute_result"
    }
   ],
   "source": [
    "student_tuples"
   ]
  },
  {
   "cell_type": "markdown",
   "id": "050bc3ce-8e30-41c0-ae43-064ff12c0dc3",
   "metadata": {},
   "source": [
    "#### Sets"
   ]
  },
  {
   "cell_type": "code",
   "execution_count": 173,
   "id": "ce342856-8a1f-45b1-9e42-33f3c8162b31",
   "metadata": {},
   "outputs": [],
   "source": [
    "name = [\"taha\", \"taha\", \"syed taha\"]"
   ]
  },
  {
   "cell_type": "code",
   "execution_count": 174,
   "id": "c96fb3cb-fb2f-4955-bfd8-c3858c2dc410",
   "metadata": {},
   "outputs": [
    {
     "data": {
      "text/plain": [
       "['taha', 'taha', 'syed taha']"
      ]
     },
     "execution_count": 174,
     "metadata": {},
     "output_type": "execute_result"
    }
   ],
   "source": [
    "name"
   ]
  },
  {
   "cell_type": "code",
   "execution_count": 175,
   "id": "6683175d-3fc0-4db3-a617-f47e41ed6087",
   "metadata": {},
   "outputs": [],
   "source": [
    "name_set1 = set(name)"
   ]
  },
  {
   "cell_type": "code",
   "execution_count": 176,
   "id": "11e9410d-b061-4de3-b49d-836d4fd42b2a",
   "metadata": {},
   "outputs": [],
   "source": [
    "name_set1.add('owais')"
   ]
  },
  {
   "cell_type": "code",
   "execution_count": 177,
   "id": "c683c83f-2d7f-49b1-b02e-1c3d8f0af93a",
   "metadata": {},
   "outputs": [
    {
     "data": {
      "text/plain": [
       "{'owais', 'syed taha', 'taha'}"
      ]
     },
     "execution_count": 177,
     "metadata": {},
     "output_type": "execute_result"
    }
   ],
   "source": [
    "name_set1"
   ]
  },
  {
   "cell_type": "code",
   "execution_count": 183,
   "id": "12d82290-c7bd-4ce0-b6f7-c6dd9016e802",
   "metadata": {},
   "outputs": [
    {
     "data": {
      "text/plain": [
       "{'owais', 'syed taha', 'taha'}"
      ]
     },
     "execution_count": 183,
     "metadata": {},
     "output_type": "execute_result"
    }
   ],
   "source": [
    "name_set1.difference('ahmed')"
   ]
  },
  {
   "cell_type": "code",
   "execution_count": 186,
   "id": "46b478d7-7be5-4013-b2b0-e323c3de0383",
   "metadata": {},
   "outputs": [],
   "source": [
    "name_set1.difference_update('ahmed')"
   ]
  },
  {
   "cell_type": "code",
   "execution_count": 187,
   "id": "d7b0bdca-9113-4f00-8e74-cd8d0d0defe9",
   "metadata": {},
   "outputs": [
    {
     "data": {
      "text/plain": [
       "{'owais', 'syed taha', 'taha'}"
      ]
     },
     "execution_count": 187,
     "metadata": {},
     "output_type": "execute_result"
    }
   ],
   "source": [
    "name_set1"
   ]
  },
  {
   "cell_type": "code",
   "execution_count": 188,
   "id": "ed19b0b7-ecc5-4447-9cb8-9937bc4dab0c",
   "metadata": {},
   "outputs": [],
   "source": [
    "name_set1.remove('owais')"
   ]
  },
  {
   "cell_type": "code",
   "execution_count": 189,
   "id": "ec53d450-bd85-40cc-9d4f-3f543b9f5f78",
   "metadata": {},
   "outputs": [
    {
     "data": {
      "text/plain": [
       "{'syed taha', 'taha'}"
      ]
     },
     "execution_count": 189,
     "metadata": {},
     "output_type": "execute_result"
    }
   ],
   "source": [
    "name_set1"
   ]
  },
  {
   "cell_type": "code",
   "execution_count": 190,
   "id": "28a94d4d-92d0-45c4-ad2a-e2201fa52e6c",
   "metadata": {},
   "outputs": [],
   "source": [
    "name_set1.update('saim')"
   ]
  },
  {
   "cell_type": "code",
   "execution_count": 191,
   "id": "ac6c48b8-ede3-4376-84ba-011348751495",
   "metadata": {},
   "outputs": [
    {
     "data": {
      "text/plain": [
       "{'a', 'i', 'm', 's', 'syed taha', 'taha'}"
      ]
     },
     "execution_count": 191,
     "metadata": {},
     "output_type": "execute_result"
    }
   ],
   "source": [
    "name_set1"
   ]
  },
  {
   "cell_type": "code",
   "execution_count": 195,
   "id": "e8da4091-2abb-4d71-af64-72406a08a906",
   "metadata": {},
   "outputs": [],
   "source": [
    "name_set1.remove('taha')"
   ]
  },
  {
   "cell_type": "code",
   "execution_count": 196,
   "id": "19a15045-b2b8-461d-bb83-e37b71370ea2",
   "metadata": {},
   "outputs": [
    {
     "data": {
      "text/plain": [
       "{'a', 'i', 'm', 's', 'syed taha'}"
      ]
     },
     "execution_count": 196,
     "metadata": {},
     "output_type": "execute_result"
    }
   ],
   "source": [
    "name_set1"
   ]
  },
  {
   "cell_type": "code",
   "execution_count": 198,
   "id": "ecc09790-61b6-4844-aee1-eadb359fab0e",
   "metadata": {},
   "outputs": [],
   "source": [
    "name_set1.remove('a')"
   ]
  },
  {
   "cell_type": "code",
   "execution_count": 199,
   "id": "0ac31ec5-aeb7-42d7-a287-40e7ff8639e2",
   "metadata": {},
   "outputs": [
    {
     "data": {
      "text/plain": [
       "{'i', 'm', 's', 'syed taha'}"
      ]
     },
     "execution_count": 199,
     "metadata": {},
     "output_type": "execute_result"
    }
   ],
   "source": [
    "name_set1"
   ]
  },
  {
   "cell_type": "code",
   "execution_count": 200,
   "id": "77f21777-b6e6-457e-8ba4-07601a9ffa7d",
   "metadata": {},
   "outputs": [],
   "source": [
    "name_set1.remove('s')"
   ]
  },
  {
   "cell_type": "code",
   "execution_count": 201,
   "id": "0e15c504-459a-45d3-8066-6f028eb71ab8",
   "metadata": {},
   "outputs": [],
   "source": [
    "name_set1.remove('i')"
   ]
  },
  {
   "cell_type": "code",
   "execution_count": 202,
   "id": "255bd528-a395-4846-9724-ffdefe017c46",
   "metadata": {},
   "outputs": [],
   "source": [
    "name_set1.remove('m')"
   ]
  },
  {
   "cell_type": "code",
   "execution_count": 203,
   "id": "a4c1ca69-db3d-4839-b991-e90944337180",
   "metadata": {},
   "outputs": [
    {
     "data": {
      "text/plain": [
       "{'syed taha'}"
      ]
     },
     "execution_count": 203,
     "metadata": {},
     "output_type": "execute_result"
    }
   ],
   "source": [
    "name_set1"
   ]
  },
  {
   "cell_type": "code",
   "execution_count": null,
   "id": "ce341e3b-a3ea-4548-bcbb-43756561f44f",
   "metadata": {},
   "outputs": [],
   "source": []
  }
 ],
 "metadata": {
  "kernelspec": {
   "display_name": "Python [conda env:base] *",
   "language": "python",
   "name": "conda-base-py"
  },
  "language_info": {
   "codemirror_mode": {
    "name": "ipython",
    "version": 3
   },
   "file_extension": ".py",
   "mimetype": "text/x-python",
   "name": "python",
   "nbconvert_exporter": "python",
   "pygments_lexer": "ipython3",
   "version": "3.13.5"
  }
 },
 "nbformat": 4,
 "nbformat_minor": 5
}
