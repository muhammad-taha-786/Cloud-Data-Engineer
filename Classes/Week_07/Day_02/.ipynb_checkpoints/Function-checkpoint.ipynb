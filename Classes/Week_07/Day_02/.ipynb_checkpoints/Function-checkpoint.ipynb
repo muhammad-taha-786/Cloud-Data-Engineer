{
 "cells": [
  {
   "cell_type": "code",
   "execution_count": 3,
   "id": "13eab1ac-d8dc-418b-adb1-ce68a515dae2",
   "metadata": {},
   "outputs": [
    {
     "name": "stdin",
     "output_type": "stream",
     "text": [
      "Enter first number 5\n",
      "Enter Second number 5\n"
     ]
    },
    {
     "name": "stdout",
     "output_type": "stream",
     "text": [
      "10\n"
     ]
    }
   ],
   "source": [
    "def add():\n",
    "    num1 = int(input(\"Enter first number\"))\n",
    "    num2 = int(input(\"Enter Second number\"))\n",
    "    print(num1 + num2 )\n",
    "add()"
   ]
  },
  {
   "cell_type": "code",
   "execution_count": 6,
   "id": "04a1341a-9150-44ba-b359-e8acec509fd9",
   "metadata": {},
   "outputs": [
    {
     "name": "stdin",
     "output_type": "stream",
     "text": [
      "Enter First Number 4\n",
      "Enter Second Number 9\n"
     ]
    },
    {
     "name": "stdout",
     "output_type": "stream",
     "text": [
      "13\n"
     ]
    }
   ],
   "source": [
    "def add(a, b):\n",
    "    a = int(input(\"Enter First Number\"))\n",
    "    b = int(input(\"Enter Second Number\"))\n",
    "    print(a + b)\n",
    "add(5,6)"
   ]
  },
  {
   "cell_type": "code",
   "execution_count": 10,
   "id": "01fdc5ce-9f36-4a6a-a2b4-5ac83cdfdf9a",
   "metadata": {},
   "outputs": [
    {
     "name": "stdout",
     "output_type": "stream",
     "text": [
      "your name is Syed Taha your number total is 12\n"
     ]
    }
   ],
   "source": [
    "def bio(name, num1, num2):\n",
    "    sum= num1+num2\n",
    "    print(f\"your name is {name} your number total is {sum}\")\n",
    "\n",
    "bio(\"Syed Taha\", 5,7 )"
   ]
  },
  {
   "cell_type": "code",
   "execution_count": 17,
   "id": "f8b6b929-9f8d-494f-bd81-01f98fa5db45",
   "metadata": {},
   "outputs": [
    {
     "name": "stdin",
     "output_type": "stream",
     "text": [
      "Enter your name tahga\n",
      "Enter first number 6\n",
      "Enter Second number 5\n"
     ]
    },
    {
     "name": "stdout",
     "output_type": "stream",
     "text": [
      "11\n",
      "Your name is tahga your total marks is 11\n"
     ]
    }
   ],
   "source": [
    "def bio1(name, num1, num2):\n",
    "    name = input(\"Enter your name\")\n",
    "    num1 = int(input(\"Enter first number\"))\n",
    "    num2 = int(input(\"Enter Second number\"))\n",
    "    sum = num1 + num2\n",
    "    print(sum)\n",
    "    print(f\"Your name is {name} your total marks is {sum}\")\n",
    "bio1(\"Syed Taha\", 6, 7)"
   ]
  },
  {
   "cell_type": "code",
   "execution_count": 42,
   "id": "630f1399-7311-47e7-96ea-582a29209466",
   "metadata": {},
   "outputs": [
    {
     "name": "stdout",
     "output_type": "stream",
     "text": [
      "Syed Taha : 34\n"
     ]
    }
   ],
   "source": [
    "def task1(name,*nums):\n",
    "    result = 0\n",
    "    for num in nums:\n",
    "        result += num\n",
    "    print(f\"{name} : {result}\")\n",
    "\n",
    "task1(\"Syed Taha\", 5,6,7,8,8)"
   ]
  },
  {
   "cell_type": "code",
   "execution_count": 44,
   "id": "31310aa1-6663-4238-ad85-d92a3dfffeb5",
   "metadata": {},
   "outputs": [
    {
     "name": "stdout",
     "output_type": "stream",
     "text": [
      "Syed Taha : 16\n"
     ]
    }
   ],
   "source": [
    "def task2(name,**nums):\n",
    "    result = 0\n",
    "    for val in nums.values():\n",
    "        result += val\n",
    "    print(f\"{name} : {result}\")\n",
    "\n",
    "task2(\"Syed Taha\", num1=5, num2=4, num3=7)"
   ]
  },
  {
   "cell_type": "markdown",
   "id": "92ba1869-2fa1-4ed4-b646-946fee6d1c65",
   "metadata": {},
   "source": [
    "### Function with in funtions "
   ]
  },
  {
   "cell_type": "code",
   "execution_count": 51,
   "id": "ac1d9502-4c56-4b6a-a918-c74aa3fed867",
   "metadata": {},
   "outputs": [],
   "source": [
    "def factorial(n):\n",
    "    if num1==0 or num2==1:\n",
    "        return 1\n",
    "    else: \n",
    "        return n*factorial(n-1)\n",
    "\n",
    "    print(factorial(5))\n"
   ]
  },
  {
   "cell_type": "code",
   "execution_count": 54,
   "id": "355f2977-62ec-4e3c-af0b-8f6380418a8c",
   "metadata": {},
   "outputs": [],
   "source": [
    "factorial = 0\n",
    "while factorial < 5:\n",
    "    print(f\"factorial is: {factorial}\")\n",
    "    factorial += 1\n",
    "print(\"Loop finished.\")"
   ]
  },
  {
   "cell_type": "code",
   "execution_count": null,
   "id": "db8769ad-e6f9-4408-8997-8d4b8fb8000c",
   "metadata": {},
   "outputs": [],
   "source": []
  }
 ],
 "metadata": {
  "kernelspec": {
   "display_name": "Python [conda env:base] *",
   "language": "python",
   "name": "conda-base-py"
  },
  "language_info": {
   "codemirror_mode": {
    "name": "ipython",
    "version": 3
   },
   "file_extension": ".py",
   "mimetype": "text/x-python",
   "name": "python",
   "nbconvert_exporter": "python",
   "pygments_lexer": "ipython3",
   "version": "3.13.5"
  }
 },
 "nbformat": 4,
 "nbformat_minor": 5
}
