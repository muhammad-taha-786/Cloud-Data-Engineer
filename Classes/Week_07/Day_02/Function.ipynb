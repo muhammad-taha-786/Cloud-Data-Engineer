{
 "cells": [
  {
   "cell_type": "code",
   "execution_count": 3,
   "id": "13eab1ac-d8dc-418b-adb1-ce68a515dae2",
   "metadata": {},
   "outputs": [
    {
     "name": "stdin",
     "output_type": "stream",
     "text": [
      "Enter first number 5\n",
      "Enter Second number 5\n"
     ]
    },
    {
     "name": "stdout",
     "output_type": "stream",
     "text": [
      "10\n"
     ]
    }
   ],
   "source": [
    "def add():\n",
    "    num1 = int(input(\"Enter first number\"))\n",
    "    num2 = int(input(\"Enter Second number\"))\n",
    "    print(num1 + num2 )\n",
    "add()"
   ]
  },
  {
   "cell_type": "code",
   "execution_count": 6,
   "id": "04a1341a-9150-44ba-b359-e8acec509fd9",
   "metadata": {},
   "outputs": [
    {
     "name": "stdin",
     "output_type": "stream",
     "text": [
      "Enter First Number 4\n",
      "Enter Second Number 9\n"
     ]
    },
    {
     "name": "stdout",
     "output_type": "stream",
     "text": [
      "13\n"
     ]
    }
   ],
   "source": [
    "def add(a, b):\n",
    "    a = int(input(\"Enter First Number\"))\n",
    "    b = int(input(\"Enter Second Number\"))\n",
    "    print(a + b)\n",
    "add(5,6)"
   ]
  },
  {
   "cell_type": "code",
   "execution_count": 10,
   "id": "01fdc5ce-9f36-4a6a-a2b4-5ac83cdfdf9a",
   "metadata": {},
   "outputs": [
    {
     "name": "stdout",
     "output_type": "stream",
     "text": [
      "your name is Syed Taha your number total is 12\n"
     ]
    }
   ],
   "source": [
    "def bio(name, num1, num2):\n",
    "    sum= num1+num2\n",
    "    print(f\"your name is {name} your number total is {sum}\")\n",
    "\n",
    "bio(\"Syed Taha\", 5,7 )"
   ]
  },
  {
   "cell_type": "code",
   "execution_count": 17,
   "id": "f8b6b929-9f8d-494f-bd81-01f98fa5db45",
   "metadata": {},
   "outputs": [
    {
     "name": "stdin",
     "output_type": "stream",
     "text": [
      "Enter your name tahga\n",
      "Enter first number 6\n",
      "Enter Second number 5\n"
     ]
    },
    {
     "name": "stdout",
     "output_type": "stream",
     "text": [
      "11\n",
      "Your name is tahga your total marks is 11\n"
     ]
    }
   ],
   "source": [
    "def bio1(name, num1, num2):\n",
    "    name = input(\"Enter your name\")\n",
    "    num1 = int(input(\"Enter first number\"))\n",
    "    num2 = int(input(\"Enter Second number\"))\n",
    "    sum = num1 + num2\n",
    "    print(sum)\n",
    "    print(f\"Your name is {name} your total marks is {sum}\")\n",
    "bio1(\"Syed Taha\", 6, 7)"
   ]
  },
  {
   "cell_type": "code",
   "execution_count": 42,
   "id": "630f1399-7311-47e7-96ea-582a29209466",
   "metadata": {},
   "outputs": [
    {
     "name": "stdout",
     "output_type": "stream",
     "text": [
      "Syed Taha : 34\n"
     ]
    }
   ],
   "source": [
    "def task1(name,*nums):\n",
    "    result = 0\n",
    "    for num in nums:\n",
    "        result += num\n",
    "    print(f\"{name} : {result}\")\n",
    "\n",
    "task1(\"Syed Taha\", 5,6,7,8,8)"
   ]
  },
  {
   "cell_type": "code",
   "execution_count": 44,
   "id": "31310aa1-6663-4238-ad85-d92a3dfffeb5",
   "metadata": {},
   "outputs": [
    {
     "name": "stdout",
     "output_type": "stream",
     "text": [
      "Syed Taha : 16\n"
     ]
    }
   ],
   "source": [
    "def task2(name,**nums):\n",
    "    result = 0\n",
    "    for val in nums.values():\n",
    "        result += val\n",
    "    print(f\"{name} : {result}\")\n",
    "\n",
    "task2(\"Syed Taha\", num1=5, num2=4, num3=7)"
   ]
  },
  {
   "cell_type": "markdown",
   "id": "92ba1869-2fa1-4ed4-b646-946fee6d1c65",
   "metadata": {},
   "source": [
    "### Function with in funtions "
   ]
  },
  {
   "cell_type": "code",
   "execution_count": 51,
   "id": "ac1d9502-4c56-4b6a-a918-c74aa3fed867",
   "metadata": {},
   "outputs": [],
   "source": [
    "def factorial(n):\n",
    "    if num1==0 or num2==1:\n",
    "        return 1\n",
    "    else: \n",
    "        return n*factorial(n-1)\n",
    "\n",
    "    print(factorial(5))\n"
   ]
  },
  {
   "cell_type": "code",
   "execution_count": null,
   "id": "355f2977-62ec-4e3c-af0b-8f6380418a8c",
   "metadata": {},
   "outputs": [],
   "source": []
  },
  {
   "cell_type": "code",
   "execution_count": 58,
   "id": "db8769ad-e6f9-4408-8997-8d4b8fb8000c",
   "metadata": {},
   "outputs": [
    {
     "name": "stdout",
     "output_type": "stream",
     "text": [
      "The factorial of 5 is: 120\n"
     ]
    }
   ],
   "source": [
    "# google code \n",
    "def factorial_while(n):\n",
    "    if n < 0:\n",
    "        return \"Factorial is not defined for negative numbers.\"\n",
    "    elif n == 0:\n",
    "        return 1  # Factorial of 0 is 1\n",
    "    else:\n",
    "        result = 1\n",
    "        i = 1\n",
    "        while i <= n:\n",
    "            result *= i\n",
    "            i += 1\n",
    "        return result\n",
    "number = 5\n",
    "print(f\"The factorial of {number} is: {factorial_while(number)}\")"
   ]
  },
  {
   "cell_type": "code",
   "execution_count": 60,
   "id": "2eee0831-ea3b-46e8-80eb-c27ee6490f2d",
   "metadata": {},
   "outputs": [
    {
     "name": "stdin",
     "output_type": "stream",
     "text": [
      "Enter a numnber that u want to calculate the factorial 5\n"
     ]
    },
    {
     "data": {
      "text/plain": [
       "120"
      ]
     },
     "execution_count": 60,
     "metadata": {},
     "output_type": "execute_result"
    }
   ],
   "source": [
    "# Sir Code \n",
    "fact = 1\n",
    "n = int(input(\"Enter a numnber that u want to calculate the factorial\"))\n",
    "while(n>0):\n",
    "    fact*=n\n",
    "    n-=1\n",
    "fact"
   ]
  },
  {
   "cell_type": "code",
   "execution_count": 64,
   "id": "d1d2f5a5-e042-4b2b-ab1a-5d1efcdf721b",
   "metadata": {},
   "outputs": [
    {
     "name": "stdout",
     "output_type": "stream",
     "text": [
      "Taha\n"
     ]
    },
    {
     "name": "stdin",
     "output_type": "stream",
     "text": [
      "Enter input values :  taha\n"
     ]
    },
    {
     "name": "stdout",
     "output_type": "stream",
     "text": [
      "taha\n"
     ]
    },
    {
     "name": "stdin",
     "output_type": "stream",
     "text": [
      "Enter input values :  again\n"
     ]
    },
    {
     "name": "stdout",
     "output_type": "stream",
     "text": [
      "again\n"
     ]
    },
    {
     "name": "stdin",
     "output_type": "stream",
     "text": [
      "Enter input values :  quit\n"
     ]
    }
   ],
   "source": [
    "user_input = \"Taha\"\n",
    "while (user_input != \"quit\"):\n",
    "    print(user_input)\n",
    "    user_input = input(\"Enter input values : \")\n",
    "    "
   ]
  },
  {
   "cell_type": "markdown",
   "id": "f9080e50-7051-4583-ba9b-42257daef68f",
   "metadata": {},
   "source": [
    "## Classes"
   ]
  },
  {
   "cell_type": "code",
   "execution_count": 65,
   "id": "4fe63c36-def2-4620-b83e-f4c4c915746f",
   "metadata": {},
   "outputs": [],
   "source": [
    "name = \"Taha\""
   ]
  },
  {
   "cell_type": "code",
   "execution_count": 66,
   "id": "6164aa83-9929-4a06-931c-0900feba030b",
   "metadata": {},
   "outputs": [
    {
     "name": "stdout",
     "output_type": "stream",
     "text": [
      "<class 'str'>\n"
     ]
    }
   ],
   "source": [
    "print(type(name))"
   ]
  },
  {
   "cell_type": "code",
   "execution_count": 67,
   "id": "f401c64a-c572-4d4e-8c3f-d7c0d850af6c",
   "metadata": {},
   "outputs": [],
   "source": [
    "dic = {name: \"Taha\"}"
   ]
  },
  {
   "cell_type": "code",
   "execution_count": 68,
   "id": "842faf0e-c2d4-4aee-abab-607e51b2d39c",
   "metadata": {},
   "outputs": [
    {
     "name": "stdout",
     "output_type": "stream",
     "text": [
      "<class 'dict'>\n"
     ]
    }
   ],
   "source": [
    "print(type(dic))"
   ]
  },
  {
   "cell_type": "code",
   "execution_count": 69,
   "id": "73b037bc-31b4-4114-b2f8-fa3505ed128a",
   "metadata": {},
   "outputs": [],
   "source": [
    "lst = [1,2,3,4,5,6,6]"
   ]
  },
  {
   "cell_type": "code",
   "execution_count": 70,
   "id": "1f392292-b470-450f-9272-637c948c4e7a",
   "metadata": {},
   "outputs": [
    {
     "name": "stdout",
     "output_type": "stream",
     "text": [
      "<class 'list'>\n"
     ]
    }
   ],
   "source": [
    "print(type(lst))"
   ]
  },
  {
   "cell_type": "code",
   "execution_count": 71,
   "id": "a77f5408-3e21-4b38-a213-3037c8a848d5",
   "metadata": {},
   "outputs": [],
   "source": [
    "set1 = {\"taha\", \"owais\", \"saim\"}"
   ]
  },
  {
   "cell_type": "code",
   "execution_count": 72,
   "id": "a4c5ac08-72f6-435b-a2c0-79a4868717b5",
   "metadata": {},
   "outputs": [
    {
     "name": "stdout",
     "output_type": "stream",
     "text": [
      "<class 'set'>\n"
     ]
    }
   ],
   "source": [
    "print(type(set1))"
   ]
  },
  {
   "cell_type": "code",
   "execution_count": 87,
   "id": "d80fd81e-6ea6-4f24-9b31-69e8ef703d6d",
   "metadata": {},
   "outputs": [],
   "source": [
    "class cars():\n",
    "    def __init__(self, color, model, make_year): # -> Constructor\n",
    "        self.color = color\n",
    "        self.model = model\n",
    "        self.make_year = make_year\n",
    "    \n",
    "\n",
    "    def start(self):\n",
    "        print(\"Car can start\")\n",
    "\n",
    "    def stop(self):\n",
    "        print(\"Car can stop\")"
   ]
  },
  {
   "cell_type": "code",
   "execution_count": 88,
   "id": "9b0a0dca-85b5-4a79-a364-997f180732c4",
   "metadata": {},
   "outputs": [],
   "source": [
    "civic = cars(\"Black\", \"Honda\", 2025)"
   ]
  },
  {
   "cell_type": "code",
   "execution_count": 89,
   "id": "ec4089cd-9dc2-46e4-bbe6-63600b362ff9",
   "metadata": {},
   "outputs": [
    {
     "name": "stdout",
     "output_type": "stream",
     "text": [
      "<class '__main__.cars'>\n"
     ]
    }
   ],
   "source": [
    "print(type(civic))"
   ]
  },
  {
   "cell_type": "code",
   "execution_count": 90,
   "id": "b1ae946c-aa27-43e3-af19-5c18489f6812",
   "metadata": {},
   "outputs": [
    {
     "name": "stdout",
     "output_type": "stream",
     "text": [
      "Car can start\n"
     ]
    }
   ],
   "source": [
    "civic.start()"
   ]
  },
  {
   "cell_type": "code",
   "execution_count": 91,
   "id": "077f32cf-eb8f-4c21-b9d3-2aaa04510cab",
   "metadata": {},
   "outputs": [
    {
     "name": "stdout",
     "output_type": "stream",
     "text": [
      "Car can stop\n"
     ]
    }
   ],
   "source": [
    "civic.stop()"
   ]
  },
  {
   "cell_type": "code",
   "execution_count": 92,
   "id": "2d2e04ed-8a36-42d7-af48-d3701712cd18",
   "metadata": {},
   "outputs": [
    {
     "data": {
      "text/plain": [
       "('Black', 'Honda', 2025)"
      ]
     },
     "execution_count": 92,
     "metadata": {},
     "output_type": "execute_result"
    }
   ],
   "source": [
    "civic.color, civic.model, civic.make_year"
   ]
  },
  {
   "cell_type": "code",
   "execution_count": 94,
   "id": "aa297127-b8f1-4b81-a0ff-2ab30e49fc15",
   "metadata": {},
   "outputs": [],
   "source": [
    "class human():\n",
    "    def __init__(self, color, weight, lenght):\n",
    "        self.color = color\n",
    "        self.weight = weight\n",
    "        self.lenght = lenght\n",
    "\n",
    "    def prensent(self):\n",
    "        print(\"This human today is present\")\n",
    "\n",
    "    def absent(self):\n",
    "        print(\"This human today is absent\")"
   ]
  },
  {
   "cell_type": "code",
   "execution_count": 95,
   "id": "332ddbf9-4ced-458c-817a-b99ae6f55331",
   "metadata": {},
   "outputs": [],
   "source": [
    "taha = human(\"Cream\", 45, 5.7)"
   ]
  },
  {
   "cell_type": "code",
   "execution_count": 96,
   "id": "5d191284-001e-459d-a32b-a3408f8fb335",
   "metadata": {},
   "outputs": [
    {
     "name": "stdout",
     "output_type": "stream",
     "text": [
      "This human today is present\n"
     ]
    }
   ],
   "source": [
    "taha.prensent()"
   ]
  },
  {
   "cell_type": "code",
   "execution_count": 97,
   "id": "99660bb2-52ed-4be0-83f1-0a16c7aba319",
   "metadata": {},
   "outputs": [
    {
     "name": "stdout",
     "output_type": "stream",
     "text": [
      "This human today is absent\n"
     ]
    }
   ],
   "source": [
    "taha.absent()"
   ]
  },
  {
   "cell_type": "code",
   "execution_count": 99,
   "id": "e43c281b-be8f-4ca8-b302-fd0e4026e9bb",
   "metadata": {},
   "outputs": [
    {
     "data": {
      "text/plain": [
       "('Cream', 45, 5.7)"
      ]
     },
     "execution_count": 99,
     "metadata": {},
     "output_type": "execute_result"
    }
   ],
   "source": [
    "taha.color, taha.weight, taha.lenght"
   ]
  },
  {
   "cell_type": "code",
   "execution_count": 100,
   "id": "d2f11c12-48f6-45c4-9953-189989db6b0f",
   "metadata": {},
   "outputs": [],
   "source": [
    "class bankAccount():\n",
    "    def __init__(self, owner, balance):\n",
    "        self.owner = owner\n",
    "        self.balamce = balance\n",
    "\n",
    "    def bankName(self):\n",
    "        print(\"Your Bank account name Meezan\")\n",
    "\n",
    "    def bankbalance(self):\n",
    "        print(\"Your bank balance is out of limit\")\n",
    "        "
   ]
  },
  {
   "cell_type": "code",
   "execution_count": 103,
   "id": "52d80428-c552-447d-a88b-ff43fa0e09c0",
   "metadata": {},
   "outputs": [],
   "source": [
    "taha = bankAccount(\"Syed Taha\", 50000)"
   ]
  },
  {
   "cell_type": "code",
   "execution_count": 105,
   "id": "8418bc37-2ea8-450d-ba86-faca5ab2dde1",
   "metadata": {},
   "outputs": [
    {
     "name": "stdout",
     "output_type": "stream",
     "text": [
      "Your Bank account name Meezan\n"
     ]
    }
   ],
   "source": [
    "taha.bankName()"
   ]
  },
  {
   "cell_type": "code",
   "execution_count": 106,
   "id": "85212a0c-4fa0-4fd8-98bd-4e4a95fa5933",
   "metadata": {},
   "outputs": [
    {
     "name": "stdout",
     "output_type": "stream",
     "text": [
      "Your bank balance is out of limit\n"
     ]
    }
   ],
   "source": [
    "taha.bankbalance()"
   ]
  },
  {
   "cell_type": "code",
   "execution_count": 108,
   "id": "cc0364c6-de17-4ebd-891e-7fc0227fdbea",
   "metadata": {},
   "outputs": [
    {
     "data": {
      "text/plain": [
       "(50000, 'Syed Taha')"
      ]
     },
     "execution_count": 108,
     "metadata": {},
     "output_type": "execute_result"
    }
   ],
   "source": [
    "taha.balamce, taha.owner"
   ]
  },
  {
   "cell_type": "code",
   "execution_count": null,
   "id": "90e6b23c-3035-499e-81e2-ea1ed21c2086",
   "metadata": {},
   "outputs": [],
   "source": []
  }
 ],
 "metadata": {
  "kernelspec": {
   "display_name": "Python [conda env:base] *",
   "language": "python",
   "name": "conda-base-py"
  },
  "language_info": {
   "codemirror_mode": {
    "name": "ipython",
    "version": 3
   },
   "file_extension": ".py",
   "mimetype": "text/x-python",
   "name": "python",
   "nbconvert_exporter": "python",
   "pygments_lexer": "ipython3",
   "version": "3.13.5"
  }
 },
 "nbformat": 4,
 "nbformat_minor": 5
}
