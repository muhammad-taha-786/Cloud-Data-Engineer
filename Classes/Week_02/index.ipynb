{
 "cells": [
  {
   "cell_type": "code",
   "execution_count": 2,
   "id": "cb4e40ea-1e14-4b96-bc7d-0797bb4ddfad",
   "metadata": {},
   "outputs": [
    {
     "name": "stdout",
     "output_type": "stream",
     "text": [
      "Hello World...\n"
     ]
    }
   ],
   "source": [
    "print('Hello World...')\n"
   ]
  },
  {
   "cell_type": "code",
   "execution_count": null,
   "id": "d3666867-13b6-4ccf-b449-b434998b6d0b",
   "metadata": {},
   "outputs": [],
   "source": []
  },
  {
   "cell_type": "markdown",
   "id": "fc095966-fe18-4508-9b77-5672190ab863",
   "metadata": {},
   "source": [
    "### SHORTCUTS FOR JUPYTER NOTEBOOK\n",
    "\n",
    "ESC + R (TO CONVERT CELL INTO ROW), \n",
    "ESC + M (TO CONVERT CELL INTO MARKDOWN),\n",
    "ESC - Y (TO CONVERT CELL INTO CODE),\n",
    "\n",
    "#(For h1 ),\n",
    "##(For h2 ),\n",
    "###(For h3 ),\n",
    "\n",
    "ESC + A (TO CREATE CELL ABOVE THE PRESENT SELL)\n",
    "ESC + B (TO CREATE CELL BELOW THE PRESENT SELL)\n",
    "ESC + DD (TO DELETE THE CELL ON WHICH YOU'RE PRESENT),\n",
    "SHIFT + ENTER (TO RUN THE CELL AND GOTO NEXT CELL),\n",
    "CTRL + ENTER (TO RUN THE CELL AND NOT GOTO NEXT CELL),\n",
    "CTRL + SHIFT + H (TO GET ALL JUPYTER NOTEBOOK SHORTCUTS)\n",
    "\n"
   ]
  },
  {
   "cell_type": "markdown",
   "id": "5fdd5263-e133-483d-8204-e675ad56160a",
   "metadata": {},
   "source": [
    "### VARIABLES \n",
    "\n"
   ]
  },
  {
   "cell_type": "code",
   "execution_count": 7,
   "id": "1b215916-1855-4318-ba9d-5de863a61955",
   "metadata": {},
   "outputs": [
    {
     "name": "stdout",
     "output_type": "stream",
     "text": [
      "Muhammad Taha\n"
     ]
    }
   ],
   "source": [
    "name = ('Muhammad Taha')\n",
    "age = 20\n",
    "isPresent = True \n",
    "print(name)"
   ]
  },
  {
   "cell_type": "code",
   "execution_count": 8,
   "id": "57496eb7-95e5-4451-a11b-ad7af720bad5",
   "metadata": {},
   "outputs": [
    {
     "name": "stdout",
     "output_type": "stream",
     "text": [
      "True\n"
     ]
    }
   ],
   "source": [
    "print(isPresent)\n"
   ]
  },
  {
   "cell_type": "code",
   "execution_count": 16,
   "id": "c8f95ac1-b1d5-4703-8bfd-ced8409a8527",
   "metadata": {},
   "outputs": [
    {
     "name": "stdout",
     "output_type": "stream",
     "text": [
      "Muhammad Taha\n",
      "20\n",
      "True\n"
     ]
    }
   ],
   "source": [
    "print(name)\n",
    "print(age)\n",
    "print(isPresent)"
   ]
  },
  {
   "cell_type": "code",
   "execution_count": 26,
   "id": "bd17586c-cfe6-4c2d-8c91-2df96bbd406d",
   "metadata": {},
   "outputs": [
    {
     "name": "stdout",
     "output_type": "stream",
     "text": [
      "<class 'str'>\n",
      "<class 'int'>\n"
     ]
    },
    {
     "data": {
      "text/plain": [
       "bool"
      ]
     },
     "execution_count": 26,
     "metadata": {},
     "output_type": "execute_result"
    }
   ],
   "source": [
    "print(type(name))\n",
    "print(type(age))\n",
    "type(isPresent)"
   ]
  },
  {
   "cell_type": "code",
   "execution_count": 28,
   "id": "d31ebe15-1456-4e14-abd1-4c0d94dbaad8",
   "metadata": {},
   "outputs": [
    {
     "data": {
      "text/plain": [
       "140712141108744"
      ]
     },
     "execution_count": 28,
     "metadata": {},
     "output_type": "execute_result"
    }
   ],
   "source": [
    "id(age)"
   ]
  },
  {
   "cell_type": "markdown",
   "id": "ac4ad78f-2a2d-4312-bcdc-9d8175abe72c",
   "metadata": {},
   "source": [
    "### OPERATORS\n"
   ]
  },
  {
   "cell_type": "code",
   "execution_count": 39,
   "id": "8cb7f3e7-603c-464f-a573-2a87070a68e8",
   "metadata": {},
   "outputs": [
    {
     "data": {
      "text/plain": [
       "5"
      ]
     },
     "execution_count": 39,
     "metadata": {},
     "output_type": "execute_result"
    }
   ],
   "source": [
    "10 + 2\n",
    "10 - 2\n",
    "10 / 2\n",
    "10 * 2\n",
    "10 // 2"
   ]
  },
  {
   "cell_type": "markdown",
   "id": "5ea70d63-4fd0-408c-b413-18b9043a4053",
   "metadata": {},
   "source": [
    "### EXPRESSIONS\n"
   ]
  },
  {
   "cell_type": "markdown",
   "id": "8bd18606-416c-4771-b1f1-1ab940397143",
   "metadata": {},
   "source": [
    "#### PEMDAS\n",
    "(Parentheses, Exponents, Multiplication and Division, and Addition and Subtraction)"
   ]
  },
  {
   "cell_type": "markdown",
   "id": "0f9a8638-6700-4a10-9558-0ab6c7b6479a",
   "metadata": {},
   "source": [
    "### ADVANCED OPERATORS \n",
    "\n",
    "- +=\n",
    "- -+\n",
    "- /=\n",
    "- *="
   ]
  },
  {
   "cell_type": "code",
   "execution_count": 50,
   "id": "f5f427ce-8127-4fec-92aa-93541c6c7a4c",
   "metadata": {},
   "outputs": [],
   "source": [
    "num1 = 5\n",
    "num2 = 10\n",
    "num1 += num2"
   ]
  },
  {
   "cell_type": "code",
   "execution_count": 51,
   "id": "0606218d-8bff-409b-9ced-e6df45d42480",
   "metadata": {},
   "outputs": [
    {
     "data": {
      "text/plain": [
       "15"
      ]
     },
     "execution_count": 51,
     "metadata": {},
     "output_type": "execute_result"
    }
   ],
   "source": [
    "num1"
   ]
  },
  {
   "cell_type": "code",
   "execution_count": 52,
   "id": "967926d0-9f57-4630-b91f-7d293a7a593f",
   "metadata": {},
   "outputs": [
    {
     "data": {
      "text/plain": [
       "10"
      ]
     },
     "execution_count": 52,
     "metadata": {},
     "output_type": "execute_result"
    }
   ],
   "source": [
    "num2"
   ]
  },
  {
   "cell_type": "code",
   "execution_count": null,
   "id": "b15f69ae-5419-4b94-b4ab-809cc09a05cc",
   "metadata": {},
   "outputs": [],
   "source": []
  },
  {
   "cell_type": "code",
   "execution_count": null,
   "id": "08a13e8a-5bd6-4077-88d3-c3e24cdd0f3d",
   "metadata": {},
   "outputs": [],
   "source": []
  }
 ],
 "metadata": {
  "kernelspec": {
   "display_name": "Python [conda env:base] *",
   "language": "python",
   "name": "conda-base-py"
  },
  "language_info": {
   "codemirror_mode": {
    "name": "ipython",
    "version": 3
   },
   "file_extension": ".py",
   "mimetype": "text/x-python",
   "name": "python",
   "nbconvert_exporter": "python",
   "pygments_lexer": "ipython3",
   "version": "3.13.5"
  }
 },
 "nbformat": 4,
 "nbformat_minor": 5
}
