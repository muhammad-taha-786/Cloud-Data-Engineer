{
 "cells": [
  {
   "cell_type": "markdown",
   "id": "598e7e25-2089-4556-9cfd-ce7e6962e42c",
   "metadata": {},
   "source": [
    "### Lamda Function \n"
   ]
  },
  {
   "cell_type": "code",
   "execution_count": 1,
   "id": "54bcc7f0-e9dd-45e9-8c29-0faf1056e1b5",
   "metadata": {},
   "outputs": [],
   "source": [
    "critaria = lambda marks: \"Pass\" if marks > 50 else \"Fail\""
   ]
  },
  {
   "cell_type": "code",
   "execution_count": 2,
   "id": "79ff3a82-7314-456c-a4de-f5c608302507",
   "metadata": {},
   "outputs": [
    {
     "data": {
      "text/plain": [
       "'Pass'"
      ]
     },
     "execution_count": 2,
     "metadata": {},
     "output_type": "execute_result"
    }
   ],
   "source": [
    "critaria(52)"
   ]
  },
  {
   "cell_type": "code",
   "execution_count": 3,
   "id": "6033174a-8d59-4377-a48c-8a8a8db43294",
   "metadata": {},
   "outputs": [
    {
     "data": {
      "text/plain": [
       "'Fail'"
      ]
     },
     "execution_count": 3,
     "metadata": {},
     "output_type": "execute_result"
    }
   ],
   "source": [
    "critaria(49)"
   ]
  },
  {
   "cell_type": "code",
   "execution_count": 90,
   "id": "cfcca5e2-a7c9-43f0-948c-2dbb086df659",
   "metadata": {},
   "outputs": [],
   "source": [
    "class Saylani:\n",
    "    Helpline = \"0009009990\"\n",
    "    obj_count = 0\n",
    "    \n",
    "    def __init__(self, campus, staff_count, course):  # constructor\n",
    "        self.campus = campus     # Attributes\n",
    "        self.staff_count = staff_count\n",
    "        self.course = course\n",
    "        self.obj_count = 1\n",
    "\n",
    "    @staticmethod\n",
    "    def detail(self, courses):   # Method\n",
    "        print(f\"{self.campus} has {self.staff_count} staff and courses are {courses}\")\n"
   ]
  },
  {
   "cell_type": "code",
   "execution_count": 91,
   "id": "2b843ab3-4493-4f2f-a53b-4c38ba00b5cc",
   "metadata": {},
   "outputs": [],
   "source": [
    "za = Saylani(\"ZA IT Park\", 10, 5)\n"
   ]
  },
  {
   "cell_type": "code",
   "execution_count": 93,
   "id": "4a673457-bd0a-434e-99b4-f6533355441a",
   "metadata": {},
   "outputs": [
    {
     "ename": "NameError",
     "evalue": "name 'self' is not defined",
     "output_type": "error",
     "traceback": [
      "\u001b[1;31m---------------------------------------------------------------------------\u001b[0m",
      "\u001b[1;31mNameError\u001b[0m                                 Traceback (most recent call last)",
      "Cell \u001b[1;32mIn[93], line 1\u001b[0m\n\u001b[1;32m----> 1\u001b[0m za\u001b[38;5;241m.\u001b[39mdetail([\u001b[38;5;124m\"\u001b[39m\u001b[38;5;124mAI\u001b[39m\u001b[38;5;124m\"\u001b[39m, \u001b[38;5;124m\"\u001b[39m\u001b[38;5;124mDE\u001b[39m\u001b[38;5;124m\"\u001b[39m, \u001b[38;5;124m\"\u001b[39m\u001b[38;5;124mWEB\u001b[39m\u001b[38;5;124m\"\u001b[39m])\n",
      "Cell \u001b[1;32mIn[90], line 13\u001b[0m, in \u001b[0;36mSaylani.detail\u001b[1;34m(courses)\u001b[0m\n\u001b[0;32m     11\u001b[0m \u001b[38;5;129m@staticmethod\u001b[39m\n\u001b[0;32m     12\u001b[0m \u001b[38;5;28;01mdef\u001b[39;00m\u001b[38;5;250m \u001b[39m\u001b[38;5;21mdetail\u001b[39m(courses):   \u001b[38;5;66;03m# Method\u001b[39;00m\n\u001b[1;32m---> 13\u001b[0m     \u001b[38;5;28mprint\u001b[39m(\u001b[38;5;124mf\u001b[39m\u001b[38;5;124m\"\u001b[39m\u001b[38;5;132;01m{\u001b[39;00m\u001b[38;5;28mself\u001b[39m\u001b[38;5;241m.\u001b[39mcampus\u001b[38;5;132;01m}\u001b[39;00m\u001b[38;5;124m has \u001b[39m\u001b[38;5;132;01m{\u001b[39;00m\u001b[38;5;28mself\u001b[39m\u001b[38;5;241m.\u001b[39mstaff_count\u001b[38;5;132;01m}\u001b[39;00m\u001b[38;5;124m staff and courses are \u001b[39m\u001b[38;5;132;01m{\u001b[39;00mcourses\u001b[38;5;132;01m}\u001b[39;00m\u001b[38;5;124m\"\u001b[39m)\n",
      "\u001b[1;31mNameError\u001b[0m: name 'self' is not defined"
     ]
    }
   ],
   "source": [
    "za.detail([\"AI\", \"DE\", \"WEB\"])"
   ]
  },
  {
   "cell_type": "code",
   "execution_count": 61,
   "id": "8335f674-4520-423c-baed-5ecfec0f543f",
   "metadata": {},
   "outputs": [
    {
     "data": {
      "text/plain": [
       "1"
      ]
     },
     "execution_count": 61,
     "metadata": {},
     "output_type": "execute_result"
    }
   ],
   "source": [
    "za.obj_count"
   ]
  },
  {
   "cell_type": "code",
   "execution_count": 62,
   "id": "d2118fde-d55c-47c4-9291-aa0a3dbf26f1",
   "metadata": {},
   "outputs": [],
   "source": [
    "Bahudrabad = Saylani(\"Bahudrabad IT Park\", 10, 5)"
   ]
  },
  {
   "cell_type": "code",
   "execution_count": 63,
   "id": "0b7783be-e9d3-4b33-9487-08d523ac799d",
   "metadata": {},
   "outputs": [
    {
     "data": {
      "text/plain": [
       "1"
      ]
     },
     "execution_count": 63,
     "metadata": {},
     "output_type": "execute_result"
    }
   ],
   "source": [
    "za.obj_count"
   ]
  },
  {
   "cell_type": "code",
   "execution_count": 64,
   "id": "84e8bad6-440e-435a-8004-0fed61aabe71",
   "metadata": {},
   "outputs": [
    {
     "data": {
      "text/plain": [
       "1"
      ]
     },
     "execution_count": 64,
     "metadata": {},
     "output_type": "execute_result"
    }
   ],
   "source": [
    "Bahudrabad.obj_count"
   ]
  },
  {
   "cell_type": "code",
   "execution_count": 86,
   "id": "ce257fc8-31f7-4190-a1a7-f24162952388",
   "metadata": {},
   "outputs": [],
   "source": [
    "class cars():\n",
    "    def __init__(self, color, model, make_year): # -> Constructor\n",
    "        self.color = color\n",
    "        self.model = model\n",
    "        self.make_year = make_year\n",
    "    \n",
    "\n",
    "    @staticmethod\n",
    "    def start():\n",
    "        print(\"Car can start\")\n",
    "\n",
    "    def stop(self):\n",
    "        print(\"Car can stop\")"
   ]
  },
  {
   "cell_type": "code",
   "execution_count": 87,
   "id": "bc234bbe-ac60-4eee-8e48-34dcee0c8816",
   "metadata": {},
   "outputs": [],
   "source": [
    "civic = cars(\"Black\", \"Honda\", 2025)"
   ]
  },
  {
   "cell_type": "code",
   "execution_count": 88,
   "id": "a9da2cc1-7174-440a-9c4b-5c7160842a91",
   "metadata": {},
   "outputs": [
    {
     "name": "stdout",
     "output_type": "stream",
     "text": [
      "Car can start\n"
     ]
    }
   ],
   "source": [
    "civic.start()"
   ]
  },
  {
   "cell_type": "code",
   "execution_count": 89,
   "id": "661a16f8-3879-4cfa-95cb-cce9264fca27",
   "metadata": {},
   "outputs": [
    {
     "name": "stdout",
     "output_type": "stream",
     "text": [
      "Car can stop\n"
     ]
    }
   ],
   "source": [
    "civic.stop()"
   ]
  },
  {
   "cell_type": "code",
   "execution_count": null,
   "id": "2cf6de65-c88b-43c7-8103-d9119c4098d5",
   "metadata": {},
   "outputs": [],
   "source": []
  }
 ],
 "metadata": {
  "kernelspec": {
   "display_name": "Python [conda env:base] *",
   "language": "python",
   "name": "conda-base-py"
  },
  "language_info": {
   "codemirror_mode": {
    "name": "ipython",
    "version": 3
   },
   "file_extension": ".py",
   "mimetype": "text/x-python",
   "name": "python",
   "nbconvert_exporter": "python",
   "pygments_lexer": "ipython3",
   "version": "3.13.5"
  }
 },
 "nbformat": 4,
 "nbformat_minor": 5
}
