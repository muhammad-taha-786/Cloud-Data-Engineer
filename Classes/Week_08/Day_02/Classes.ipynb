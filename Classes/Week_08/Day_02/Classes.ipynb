{
 "cells": [
  {
   "cell_type": "markdown",
   "id": "ffa7a0c6-d252-4985-b5d0-4037f3e9b8bd",
   "metadata": {},
   "source": [
    "### Classes \n",
    "\n",
    "- Class initialize with proper name\n",
    "- Constructor\n",
    "  \n",
    "      - Attributes\n",
    "- Method\n",
    "\n",
    "### OOP (Object Oriented Programming)\n",
    "\n",
    "- Inheritence\n",
    "- Abstraction \n",
    "- Polymorpism\n",
    "- Encapsulation"
   ]
  },
  {
   "cell_type": "code",
   "execution_count": 6,
   "id": "635e6cfa-8e70-4036-aa7b-e2ccd4add879",
   "metadata": {},
   "outputs": [],
   "source": [
    "class Parents():\n",
    "    def __init__(self, eye_color, hair_color): #Constructor\n",
    "        self.eye_color = eye_color # Attributes \n",
    "        self.hair_color = hair_color\n",
    "\n",
    "    def can_paint(self): #Methods \n",
    "        print(f\"have abbility to drowpaint arts\")\n",
    "        "
   ]
  },
  {
   "cell_type": "code",
   "execution_count": 7,
   "id": "df7ea502-a143-4008-9b05-5de1726667cb",
   "metadata": {},
   "outputs": [],
   "source": [
    "par_obj = Parents(\"brown\", \"black\")"
   ]
  },
  {
   "cell_type": "code",
   "execution_count": 8,
   "id": "30a410fe-3001-4a4c-b8af-768837755193",
   "metadata": {},
   "outputs": [
    {
     "name": "stdout",
     "output_type": "stream",
     "text": [
      "brown\n",
      "black\n",
      "have abbility to drowpaint arts\n"
     ]
    }
   ],
   "source": [
    "print(par_obj.eye_color)\n",
    "print(par_obj.hair_color)\n",
    "par_obj.can_paint()"
   ]
  },
  {
   "cell_type": "code",
   "execution_count": 9,
   "id": "65027f5c-45dc-4e7a-8188-730890b85437",
   "metadata": {},
   "outputs": [],
   "source": [
    "class Child(Parents):\n",
    "    pass"
   ]
  },
  {
   "cell_type": "code",
   "execution_count": 10,
   "id": "c6f65cf4-f150-4625-afce-ab7c98e3bf2b",
   "metadata": {},
   "outputs": [
    {
     "ename": "NameError",
     "evalue": "name 'child' is not defined",
     "output_type": "error",
     "traceback": [
      "\u001b[1;31m---------------------------------------------------------------------------\u001b[0m",
      "\u001b[1;31mNameError\u001b[0m                                 Traceback (most recent call last)",
      "Cell \u001b[1;32mIn[10], line 1\u001b[0m\n\u001b[1;32m----> 1\u001b[0m child_obj \u001b[38;5;241m=\u001b[39m child()\n",
      "\u001b[1;31mNameError\u001b[0m: name 'child' is not defined"
     ]
    }
   ],
   "source": [
    "child_obj = child()"
   ]
  },
  {
   "cell_type": "code",
   "execution_count": 12,
   "id": "e92bc4a8-ec1a-462b-8d42-36863c1de391",
   "metadata": {},
   "outputs": [
    {
     "name": "stdout",
     "output_type": "stream",
     "text": [
      "brown\n",
      "black\n",
      "have abbility to drowpaint arts\n"
     ]
    }
   ],
   "source": [
    "child_obj = Child(\"brown\", \"black\")\n",
    "print(par_obj.eye_color)\n",
    "print(par_obj.hair_color)\n",
    "par_obj.can_paint()"
   ]
  },
  {
   "cell_type": "code",
   "execution_count": 22,
   "id": "d176a350-72e2-4d6f-a2be-0086d180a6c0",
   "metadata": {},
   "outputs": [],
   "source": [
    "class Child(Parents):\n",
    "    def __init__(self, eye_color, hair_color, skin_color):\n",
    "        'super'.__init__(eye_color, hair_color)\n",
    "        self.skin_color = skin_color\n",
    "\n",
    "    def can_drive(self):\n",
    "        print(f\"Child can drive as well\")"
   ]
  },
  {
   "cell_type": "code",
   "execution_count": 23,
   "id": "bb020f2d-f1ba-4585-919b-9d15577c6962",
   "metadata": {},
   "outputs": [
    {
     "name": "stdout",
     "output_type": "stream",
     "text": [
      "brown\n",
      "black\n",
      "have abbility to drowpaint arts\n"
     ]
    }
   ],
   "source": [
    "child_obj = Child(\"brown\", \"black\", \"Light Brown\")\n",
    "print(par_obj.eye_color)\n",
    "print(par_obj.hair_color)\n",
    "par_obj.can_paint()"
   ]
  },
  {
   "cell_type": "code",
   "execution_count": 24,
   "id": "58561e25-bcbf-4479-82cf-db4583511eb6",
   "metadata": {},
   "outputs": [],
   "source": [
    "class Father():\n",
    "    def __init__(self, eye_color, hair_color):\n",
    "        self.eye_color = eye_color\n",
    "        self.hair_color = hair_color\n",
    "\n",
    "    def can_paint(self):\n",
    "        print(f\"have abbility to drowpaint arts\")"
   ]
  },
  {
   "cell_type": "code",
   "execution_count": 25,
   "id": "92bf4bde-3f72-4ab6-9884-0c15371bdf11",
   "metadata": {},
   "outputs": [],
   "source": [
    "par_obj = Father(\"brown\", \"black\")"
   ]
  },
  {
   "cell_type": "code",
   "execution_count": 34,
   "id": "ccf0150f-0508-48c5-a07c-ee6be221944a",
   "metadata": {},
   "outputs": [
    {
     "name": "stdout",
     "output_type": "stream",
     "text": [
      "brown\n",
      "black\n",
      "have abbility to drowpaint arts\n",
      "None\n"
     ]
    }
   ],
   "source": [
    "print(par_obj.eye_color)\n",
    "print(par_obj.hair_color)\n",
    "print(par_obj.can_paint())"
   ]
  },
  {
   "cell_type": "code",
   "execution_count": 57,
   "id": "b556f333-879f-4499-99b5-d4af64529b53",
   "metadata": {},
   "outputs": [],
   "source": [
    "class Child(Father):\n",
    "    def __init__(self, eye_color, hair_color, height):\n",
    "        'super'.__init__(eye_color, hair_color)\n",
    "        self.height = height\n",
    "    def can_drive(self):\n",
    "        print(f\"Child can drive as well\")"
   ]
  },
  {
   "cell_type": "code",
   "execution_count": 58,
   "id": "fc56cec0-432d-42c3-beb5-478bdeba720e",
   "metadata": {},
   "outputs": [],
   "source": [
    "child_obj = Child(\"brown\", \"black\", 5.5)"
   ]
  },
  {
   "cell_type": "code",
   "execution_count": 59,
   "id": "bb258f64-acd9-4303-a843-a60e73f5632f",
   "metadata": {},
   "outputs": [
    {
     "name": "stdout",
     "output_type": "stream",
     "text": [
      "5.5\n",
      "brown\n",
      "black\n"
     ]
    }
   ],
   "source": [
    "print(child_obj.height)\n",
    "print(par_obj.eye_color)\n",
    "print(par_obj.hair_color)"
   ]
  },
  {
   "cell_type": "code",
   "execution_count": 65,
   "id": "4efbf13b-e679-4985-84c4-6935251350e2",
   "metadata": {},
   "outputs": [],
   "source": [
    "class Mother(Child):\n",
    "    def __init__(self, eye_color, hair_color, skin_color):\n",
    "        'super'.__init__(eye_color, hair_color)\n",
    "        self.skin_color = skin_color\n",
    "    def cooking(self):\n",
    "        print(f\"Yes child is cooking\")"
   ]
  },
  {
   "cell_type": "code",
   "execution_count": 66,
   "id": "50a8ba6f-1991-48e1-acca-1b4199c15d68",
   "metadata": {},
   "outputs": [],
   "source": [
    "mother_obj = Mother(\"brown\", \"black\", \"brown\")"
   ]
  },
  {
   "cell_type": "code",
   "execution_count": 67,
   "id": "2c330d7b-1cd2-4e33-a06c-998ff152eaeb",
   "metadata": {},
   "outputs": [
    {
     "name": "stdout",
     "output_type": "stream",
     "text": [
      "brown\n",
      "5.5\n",
      "brown\n"
     ]
    }
   ],
   "source": [
    "print(mother_obj.skin_color)\n",
    "print(child_obj.height)\n",
    "print(par_obj.eye_color)"
   ]
  },
  {
   "cell_type": "markdown",
   "id": "7565863d-526f-470b-b919-80405b40c094",
   "metadata": {},
   "source": [
    "### Overriding\n"
   ]
  },
  {
   "cell_type": "code",
   "execution_count": 70,
   "id": "2013291b-9f12-43f0-9bc9-a549428e5021",
   "metadata": {},
   "outputs": [],
   "source": [
    "class Animals():\n",
    "\n",
    "    def eating(self):\n",
    "        print(\"Animals are eating\")\n",
    "\n",
    "class Bids(Animals):\n",
    "    \n",
    "        def eating(self):\n",
    "            print(\"Birds are eating\")"
   ]
  },
  {
   "cell_type": "code",
   "execution_count": 79,
   "id": "632b68e4-3ae0-454e-8954-85c4e5439001",
   "metadata": {},
   "outputs": [],
   "source": [
    "ani_obj = Animals()\n",
    "ani_obj = Animals.eating"
   ]
  },
  {
   "cell_type": "code",
   "execution_count": 80,
   "id": "a821ccd2-cbc2-4250-8dcb-3a1ca4f731f0",
   "metadata": {},
   "outputs": [
    {
     "data": {
      "text/plain": [
       "<function __main__.Animals.eating(self)>"
      ]
     },
     "execution_count": 80,
     "metadata": {},
     "output_type": "execute_result"
    }
   ],
   "source": [
    "Animals.eating"
   ]
  },
  {
   "cell_type": "code",
   "execution_count": 82,
   "id": "a5fb6c9a-e66f-429c-af5a-eaabe3d00514",
   "metadata": {},
   "outputs": [],
   "source": [
    "birds_obj = Bids()\n",
    "birds_obj = Bids.eating"
   ]
  },
  {
   "cell_type": "markdown",
   "id": "42d42123-e119-4aeb-be8c-fbbfc1831725",
   "metadata": {},
   "source": [
    "### OVerloading\n"
   ]
  },
  {
   "cell_type": "code",
   "execution_count": 84,
   "id": "42be4fb1-ba92-4b78-ae68-b44ce451d331",
   "metadata": {},
   "outputs": [],
   "source": [
    "from typing import overload\n",
    "\n",
    "class adder():\n",
    "\n",
    "    @overload\n",
    "    def add(self, x:int, y:float): \n",
    "        ...\n",
    "\n",
    "    def add(self, x:int, y:str):\n",
    "        ...\n",
    "\n",
    "    def add(self, x,y):\n",
    "        ...\n",
    "        "
   ]
  },
  {
   "cell_type": "code",
   "execution_count": 90,
   "id": "77b42f94-33ff-44ef-9aba-9ee4b11ecd78",
   "metadata": {},
   "outputs": [
    {
     "ename": "TypeError",
     "evalue": "Points.__init__() missing 1 required positional argument: 'y'",
     "output_type": "error",
     "traceback": [
      "\u001b[1;31m---------------------------------------------------------------------------\u001b[0m",
      "\u001b[1;31mTypeError\u001b[0m                                 Traceback (most recent call last)",
      "Cell \u001b[1;32mIn[90], line 12\u001b[0m\n\u001b[0;32m     10\u001b[0m p1 \u001b[38;5;241m=\u001b[39m Points(\u001b[38;5;241m1\u001b[39m,\u001b[38;5;241m2\u001b[39m)\n\u001b[0;32m     11\u001b[0m p2 \u001b[38;5;241m=\u001b[39m Points(\u001b[38;5;241m3\u001b[39m,\u001b[38;5;241m2\u001b[39m)\n\u001b[1;32m---> 12\u001b[0m p3 \u001b[38;5;241m=\u001b[39m p1 \u001b[38;5;241m+\u001b[39m p2\n\u001b[0;32m     14\u001b[0m \u001b[38;5;28mprint\u001b[39m(\u001b[38;5;124mf\u001b[39m\u001b[38;5;124m\"\u001b[39m\u001b[38;5;124mNew Points (\u001b[39m\u001b[38;5;132;01m{\u001b[39;00mp3\u001b[38;5;241m.\u001b[39mx\u001b[38;5;132;01m}\u001b[39;00m\u001b[38;5;124m, \u001b[39m\u001b[38;5;132;01m{\u001b[39;00mp3\u001b[38;5;241m.\u001b[39my\u001b[38;5;132;01m}\u001b[39;00m\u001b[38;5;124m)\u001b[39m\u001b[38;5;124m\"\u001b[39m)\n",
      "Cell \u001b[1;32mIn[90], line 8\u001b[0m, in \u001b[0;36mPoints.__add__\u001b[1;34m(self, other)\u001b[0m\n\u001b[0;32m      7\u001b[0m \u001b[38;5;28;01mdef\u001b[39;00m\u001b[38;5;250m \u001b[39m\u001b[38;5;21m__add__\u001b[39m(\u001b[38;5;28mself\u001b[39m, other):\n\u001b[1;32m----> 8\u001b[0m     \u001b[38;5;28;01mreturn\u001b[39;00m Points(\u001b[38;5;28mself\u001b[39m\u001b[38;5;241m.\u001b[39mx \u001b[38;5;241m+\u001b[39m other\u001b[38;5;241m.\u001b[39mx \u001b[38;5;241m+\u001b[39m \u001b[38;5;28mself\u001b[39m\u001b[38;5;241m.\u001b[39my \u001b[38;5;241m+\u001b[39m other\u001b[38;5;241m.\u001b[39my)\n",
      "\u001b[1;31mTypeError\u001b[0m: Points.__init__() missing 1 required positional argument: 'y'"
     ]
    }
   ],
   "source": [
    "class Points():\n",
    "\n",
    "    def __init__(self, x, y):\n",
    "        self.x = x\n",
    "        self.y = y\n",
    "\n",
    "    def __add__(self, other):\n",
    "        return Points(self.x + other.x + self.y + other.y)\n",
    "\n",
    "p1 = Points(1,2)\n",
    "p2 = Points(3,2)\n",
    "p3 = p1 + p2\n",
    "\n",
    "print(f\"New Points ({p3.x}, {p3.y})\")"
   ]
  },
  {
   "cell_type": "code",
   "execution_count": 91,
   "id": "8e71e006-132a-48c5-984b-f27c41c29993",
   "metadata": {},
   "outputs": [
    {
     "name": "stdout",
     "output_type": "stream",
     "text": [
      "New point: (4, 6)\n"
     ]
    }
   ],
   "source": [
    "class Point:\n",
    "    def __init__(self, x, y):\n",
    "        self.x = x\n",
    "        self.y = y\n",
    "\n",
    "    def __add__(self, other):\n",
    "        return Point(self.x + other.x, self.y + other.y)\n",
    "\n",
    "p1 = Point(1, 2)\n",
    "p2 = Point(3, 4)\n",
    "p3 = p1 + p2  # Invokes __add__\n",
    "print(f\"New point: ({p3.x}, {p3.y})\")"
   ]
  },
  {
   "cell_type": "markdown",
   "id": "3ee8ea05-65a5-4432-9f59-d9a5cee48fb9",
   "metadata": {},
   "source": [
    "### Abstruction "
   ]
  },
  {
   "cell_type": "code",
   "execution_count": null,
   "id": "bf8700a3-45d7-4cfd-8dcc-991ff414737f",
   "metadata": {},
   "outputs": [],
   "source": []
  },
  {
   "cell_type": "code",
   "execution_count": null,
   "id": "ef44bc47-1ce8-485a-8206-2333d71668aa",
   "metadata": {},
   "outputs": [],
   "source": []
  }
 ],
 "metadata": {
  "kernelspec": {
   "display_name": "Python [conda env:base] *",
   "language": "python",
   "name": "conda-base-py"
  },
  "language_info": {
   "codemirror_mode": {
    "name": "ipython",
    "version": 3
   },
   "file_extension": ".py",
   "mimetype": "text/x-python",
   "name": "python",
   "nbconvert_exporter": "python",
   "pygments_lexer": "ipython3",
   "version": "3.13.5"
  }
 },
 "nbformat": 4,
 "nbformat_minor": 5
}
