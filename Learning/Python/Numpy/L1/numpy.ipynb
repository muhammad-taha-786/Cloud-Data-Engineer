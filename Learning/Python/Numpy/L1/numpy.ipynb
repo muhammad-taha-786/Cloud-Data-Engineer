{
 "cells": [
  {
   "cell_type": "markdown",
   "id": "1c53ea4d-9d5b-4215-adf2-2550a5064965",
   "metadata": {},
   "source": [
    "### Numpy Learning\n"
   ]
  },
  {
   "cell_type": "code",
   "execution_count": 1,
   "id": "508de943-64b5-404a-af53-f599c7d27edf",
   "metadata": {},
   "outputs": [],
   "source": [
    "import numpy as np"
   ]
  },
  {
   "cell_type": "code",
   "execution_count": 2,
   "id": "7ca7a3ac-9e59-4e1c-8af8-f23dde33c6ee",
   "metadata": {},
   "outputs": [],
   "source": [
    "myarr = np.array([1,23,33,45])"
   ]
  },
  {
   "cell_type": "code",
   "execution_count": 3,
   "id": "d03b8806-8d3a-4f9f-80df-9fcb16d7a9cb",
   "metadata": {},
   "outputs": [
    {
     "data": {
      "text/plain": [
       "array([ 1, 23, 33, 45])"
      ]
     },
     "execution_count": 3,
     "metadata": {},
     "output_type": "execute_result"
    }
   ],
   "source": [
    "myarr"
   ]
  },
  {
   "cell_type": "code",
   "execution_count": 16,
   "id": "8597732d-f9b0-430a-8a82-51e31ed9b7f3",
   "metadata": {},
   "outputs": [],
   "source": [
    "myarr = np.array([[1,23,33,45,90]])"
   ]
  },
  {
   "cell_type": "code",
   "execution_count": 17,
   "id": "15c75e03-c4e4-4b58-9a07-eef6662186dc",
   "metadata": {},
   "outputs": [
    {
     "data": {
      "text/plain": [
       "array([[ 1, 23, 33, 45, 90]])"
      ]
     },
     "execution_count": 17,
     "metadata": {},
     "output_type": "execute_result"
    }
   ],
   "source": [
    "myarr"
   ]
  },
  {
   "cell_type": "code",
   "execution_count": 18,
   "id": "2c7944e1-4c83-47b2-a7c7-7927c543fc5d",
   "metadata": {},
   "outputs": [
    {
     "data": {
      "text/plain": [
       "np.int64(23)"
      ]
     },
     "execution_count": 18,
     "metadata": {},
     "output_type": "execute_result"
    }
   ],
   "source": [
    "myarr[0,1]"
   ]
  },
  {
   "cell_type": "code",
   "execution_count": 19,
   "id": "d89ca10c-e1fa-47a4-93c6-753e34f5c625",
   "metadata": {},
   "outputs": [
    {
     "data": {
      "text/plain": [
       "(1, 5)"
      ]
     },
     "execution_count": 19,
     "metadata": {},
     "output_type": "execute_result"
    }
   ],
   "source": [
    "myarr.shape"
   ]
  },
  {
   "cell_type": "code",
   "execution_count": null,
   "id": "16b20840-ce8a-46d5-9fb4-388207660358",
   "metadata": {},
   "outputs": [],
   "source": []
  }
 ],
 "metadata": {
  "kernelspec": {
   "display_name": "Python [conda env:base] *",
   "language": "python",
   "name": "conda-base-py"
  },
  "language_info": {
   "codemirror_mode": {
    "name": "ipython",
    "version": 3
   },
   "file_extension": ".py",
   "mimetype": "text/x-python",
   "name": "python",
   "nbconvert_exporter": "python",
   "pygments_lexer": "ipython3",
   "version": "3.13.5"
  }
 },
 "nbformat": 4,
 "nbformat_minor": 5
}
