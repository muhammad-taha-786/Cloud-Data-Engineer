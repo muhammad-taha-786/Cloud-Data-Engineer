{
 "cells": [
  {
   "cell_type": "markdown",
   "id": "1c53ea4d-9d5b-4215-adf2-2550a5064965",
   "metadata": {},
   "source": [
    "### Numpy Learning\n"
   ]
  },
  {
   "cell_type": "code",
   "execution_count": 3,
   "id": "508de943-64b5-404a-af53-f599c7d27edf",
   "metadata": {},
   "outputs": [],
   "source": [
    "import numpy as np"
   ]
  },
  {
   "cell_type": "code",
   "execution_count": 4,
   "id": "7ca7a3ac-9e59-4e1c-8af8-f23dde33c6ee",
   "metadata": {},
   "outputs": [],
   "source": [
    "myarr = np.array([1,23,33,45])"
   ]
  },
  {
   "cell_type": "code",
   "execution_count": 5,
   "id": "d03b8806-8d3a-4f9f-80df-9fcb16d7a9cb",
   "metadata": {},
   "outputs": [
    {
     "data": {
      "text/plain": [
       "array([ 1, 23, 33, 45])"
      ]
     },
     "execution_count": 5,
     "metadata": {},
     "output_type": "execute_result"
    }
   ],
   "source": [
    "myarr"
   ]
  },
  {
   "cell_type": "code",
   "execution_count": 6,
   "id": "8597732d-f9b0-430a-8a82-51e31ed9b7f3",
   "metadata": {},
   "outputs": [],
   "source": [
    "myarr = np.array([[1,23,33,45,90]])"
   ]
  },
  {
   "cell_type": "code",
   "execution_count": 7,
   "id": "15c75e03-c4e4-4b58-9a07-eef6662186dc",
   "metadata": {},
   "outputs": [
    {
     "data": {
      "text/plain": [
       "array([[ 1, 23, 33, 45, 90]])"
      ]
     },
     "execution_count": 7,
     "metadata": {},
     "output_type": "execute_result"
    }
   ],
   "source": [
    "myarr"
   ]
  },
  {
   "cell_type": "code",
   "execution_count": 8,
   "id": "2c7944e1-4c83-47b2-a7c7-7927c543fc5d",
   "metadata": {},
   "outputs": [
    {
     "data": {
      "text/plain": [
       "np.int64(23)"
      ]
     },
     "execution_count": 8,
     "metadata": {},
     "output_type": "execute_result"
    }
   ],
   "source": [
    "myarr[0,1]"
   ]
  },
  {
   "cell_type": "code",
   "execution_count": 9,
   "id": "d89ca10c-e1fa-47a4-93c6-753e34f5c625",
   "metadata": {},
   "outputs": [
    {
     "data": {
      "text/plain": [
       "(1, 5)"
      ]
     },
     "execution_count": 9,
     "metadata": {},
     "output_type": "execute_result"
    }
   ],
   "source": [
    "myarr.shape"
   ]
  },
  {
   "cell_type": "code",
   "execution_count": 10,
   "id": "16b20840-ce8a-46d5-9fb4-388207660358",
   "metadata": {},
   "outputs": [
    {
     "data": {
      "text/plain": [
       "dtype('int64')"
      ]
     },
     "execution_count": 10,
     "metadata": {},
     "output_type": "execute_result"
    }
   ],
   "source": [
    "myarr.dtype"
   ]
  },
  {
   "cell_type": "code",
   "execution_count": 11,
   "id": "38130e42-dac8-46a1-8688-2916898b6f9f",
   "metadata": {},
   "outputs": [
    {
     "data": {
      "text/plain": [
       "array([[ 1, 23, 33, 45, 90]])"
      ]
     },
     "execution_count": 11,
     "metadata": {},
     "output_type": "execute_result"
    }
   ],
   "source": [
    "myarr"
   ]
  },
  {
   "cell_type": "code",
   "execution_count": 15,
   "id": "615616b0-45f5-4eb5-9733-c8d0c1b9fa03",
   "metadata": {},
   "outputs": [
    {
     "data": {
      "text/plain": [
       "np.int64(33)"
      ]
     },
     "execution_count": 15,
     "metadata": {},
     "output_type": "execute_result"
    }
   ],
   "source": [
    "myarr[0,2]"
   ]
  },
  {
   "cell_type": "code",
   "execution_count": 16,
   "id": "8299c7d1-2e5e-4a75-9df6-fc17b707458b",
   "metadata": {},
   "outputs": [],
   "source": [
    "myarr[0,2] = 40"
   ]
  },
  {
   "cell_type": "code",
   "execution_count": 17,
   "id": "d9922c09-23cf-4dfb-ad7b-011e0305debe",
   "metadata": {},
   "outputs": [
    {
     "data": {
      "text/plain": [
       "array([[ 1, 23, 40, 45, 90]])"
      ]
     },
     "execution_count": 17,
     "metadata": {},
     "output_type": "execute_result"
    }
   ],
   "source": [
    "myarr"
   ]
  },
  {
   "cell_type": "markdown",
   "id": "87196965-2152-494f-a170-8440cea17057",
   "metadata": {},
   "source": [
    "### Array Creation : Conversion from other python structure "
   ]
  },
  {
   "cell_type": "code",
   "execution_count": 18,
   "id": "d9d52ef0-444d-4314-bc0e-1132bcb0d896",
   "metadata": {},
   "outputs": [],
   "source": [
    "listarray = np.array([[1,2,3], [4,6,8]])"
   ]
  },
  {
   "cell_type": "code",
   "execution_count": 19,
   "id": "420c2fe4-7034-43c3-9d0e-d7027f583ade",
   "metadata": {},
   "outputs": [
    {
     "data": {
      "text/plain": [
       "array([[1, 2, 3],\n",
       "       [4, 6, 8]])"
      ]
     },
     "execution_count": 19,
     "metadata": {},
     "output_type": "execute_result"
    }
   ],
   "source": [
    "listarray"
   ]
  },
  {
   "cell_type": "code",
   "execution_count": 20,
   "id": "8e94ced8-7c14-4201-8c93-dc876e677589",
   "metadata": {},
   "outputs": [
    {
     "data": {
      "text/plain": [
       "(2, 3)"
      ]
     },
     "execution_count": 20,
     "metadata": {},
     "output_type": "execute_result"
    }
   ],
   "source": [
    "listarray.shape"
   ]
  },
  {
   "cell_type": "code",
   "execution_count": 21,
   "id": "4a67cf4f-4e09-4f64-b386-46986381c0cc",
   "metadata": {},
   "outputs": [
    {
     "data": {
      "text/plain": [
       "6"
      ]
     },
     "execution_count": 21,
     "metadata": {},
     "output_type": "execute_result"
    }
   ],
   "source": [
    "listarray.size"
   ]
  },
  {
   "cell_type": "code",
   "execution_count": 23,
   "id": "06d936ee-16d3-4ac2-979f-8e6af378ef94",
   "metadata": {},
   "outputs": [],
   "source": [
    "listarray[0,1] = 20"
   ]
  },
  {
   "cell_type": "code",
   "execution_count": 24,
   "id": "63e72899-2184-4573-8075-b88c3fcd5d2e",
   "metadata": {},
   "outputs": [
    {
     "data": {
      "text/plain": [
       "array([[ 1, 20,  3],\n",
       "       [ 4,  6,  8]])"
      ]
     },
     "execution_count": 24,
     "metadata": {},
     "output_type": "execute_result"
    }
   ],
   "source": [
    "listarray"
   ]
  },
  {
   "cell_type": "code",
   "execution_count": null,
   "id": "9fe5616f-5f87-4098-8f3d-4d525790160d",
   "metadata": {},
   "outputs": [],
   "source": []
  }
 ],
 "metadata": {
  "kernelspec": {
   "display_name": "Python [conda env:base] *",
   "language": "python",
   "name": "conda-base-py"
  },
  "language_info": {
   "codemirror_mode": {
    "name": "ipython",
    "version": 3
   },
   "file_extension": ".py",
   "mimetype": "text/x-python",
   "name": "python",
   "nbconvert_exporter": "python",
   "pygments_lexer": "ipython3",
   "version": "3.13.5"
  }
 },
 "nbformat": 4,
 "nbformat_minor": 5
}
