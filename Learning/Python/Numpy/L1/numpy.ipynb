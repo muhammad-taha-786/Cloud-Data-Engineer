{
 "cells": [
  {
   "cell_type": "markdown",
   "id": "1c53ea4d-9d5b-4215-adf2-2550a5064965",
   "metadata": {},
   "source": [
    "### Numpy Learning\n"
   ]
  },
  {
   "cell_type": "code",
   "execution_count": 2,
   "id": "508de943-64b5-404a-af53-f599c7d27edf",
   "metadata": {},
   "outputs": [],
   "source": [
    "import numpy as np"
   ]
  },
  {
   "cell_type": "code",
   "execution_count": 3,
   "id": "7ca7a3ac-9e59-4e1c-8af8-f23dde33c6ee",
   "metadata": {},
   "outputs": [],
   "source": [
    "myarr = np.array([1,23,33,45])"
   ]
  },
  {
   "cell_type": "code",
   "execution_count": 4,
   "id": "d03b8806-8d3a-4f9f-80df-9fcb16d7a9cb",
   "metadata": {},
   "outputs": [
    {
     "data": {
      "text/plain": [
       "array([ 1, 23, 33, 45])"
      ]
     },
     "execution_count": 4,
     "metadata": {},
     "output_type": "execute_result"
    }
   ],
   "source": [
    "myarr"
   ]
  },
  {
   "cell_type": "code",
   "execution_count": 5,
   "id": "8597732d-f9b0-430a-8a82-51e31ed9b7f3",
   "metadata": {},
   "outputs": [],
   "source": [
    "myarr = np.array([[1,23,33,45,90]])"
   ]
  },
  {
   "cell_type": "code",
   "execution_count": 6,
   "id": "15c75e03-c4e4-4b58-9a07-eef6662186dc",
   "metadata": {},
   "outputs": [
    {
     "data": {
      "text/plain": [
       "array([[ 1, 23, 33, 45, 90]])"
      ]
     },
     "execution_count": 6,
     "metadata": {},
     "output_type": "execute_result"
    }
   ],
   "source": [
    "myarr"
   ]
  },
  {
   "cell_type": "code",
   "execution_count": 7,
   "id": "2c7944e1-4c83-47b2-a7c7-7927c543fc5d",
   "metadata": {},
   "outputs": [
    {
     "data": {
      "text/plain": [
       "np.int64(23)"
      ]
     },
     "execution_count": 7,
     "metadata": {},
     "output_type": "execute_result"
    }
   ],
   "source": [
    "myarr[0,1]"
   ]
  },
  {
   "cell_type": "code",
   "execution_count": 8,
   "id": "d89ca10c-e1fa-47a4-93c6-753e34f5c625",
   "metadata": {},
   "outputs": [
    {
     "data": {
      "text/plain": [
       "(1, 5)"
      ]
     },
     "execution_count": 8,
     "metadata": {},
     "output_type": "execute_result"
    }
   ],
   "source": [
    "myarr.shape"
   ]
  },
  {
   "cell_type": "code",
   "execution_count": 9,
   "id": "16b20840-ce8a-46d5-9fb4-388207660358",
   "metadata": {},
   "outputs": [
    {
     "data": {
      "text/plain": [
       "dtype('int64')"
      ]
     },
     "execution_count": 9,
     "metadata": {},
     "output_type": "execute_result"
    }
   ],
   "source": [
    "myarr.dtype"
   ]
  },
  {
   "cell_type": "code",
   "execution_count": 10,
   "id": "38130e42-dac8-46a1-8688-2916898b6f9f",
   "metadata": {},
   "outputs": [
    {
     "data": {
      "text/plain": [
       "array([[ 1, 23, 33, 45, 90]])"
      ]
     },
     "execution_count": 10,
     "metadata": {},
     "output_type": "execute_result"
    }
   ],
   "source": [
    "myarr"
   ]
  },
  {
   "cell_type": "code",
   "execution_count": 11,
   "id": "615616b0-45f5-4eb5-9733-c8d0c1b9fa03",
   "metadata": {},
   "outputs": [
    {
     "data": {
      "text/plain": [
       "np.int64(33)"
      ]
     },
     "execution_count": 11,
     "metadata": {},
     "output_type": "execute_result"
    }
   ],
   "source": [
    "myarr[0,2]"
   ]
  },
  {
   "cell_type": "code",
   "execution_count": 12,
   "id": "8299c7d1-2e5e-4a75-9df6-fc17b707458b",
   "metadata": {},
   "outputs": [],
   "source": [
    "myarr[0,2] = 40"
   ]
  },
  {
   "cell_type": "code",
   "execution_count": 13,
   "id": "d9922c09-23cf-4dfb-ad7b-011e0305debe",
   "metadata": {},
   "outputs": [
    {
     "data": {
      "text/plain": [
       "array([[ 1, 23, 40, 45, 90]])"
      ]
     },
     "execution_count": 13,
     "metadata": {},
     "output_type": "execute_result"
    }
   ],
   "source": [
    "myarr"
   ]
  },
  {
   "cell_type": "markdown",
   "id": "87196965-2152-494f-a170-8440cea17057",
   "metadata": {},
   "source": [
    "### Array Creation : Conversion from other python structure "
   ]
  },
  {
   "cell_type": "code",
   "execution_count": 14,
   "id": "d9d52ef0-444d-4314-bc0e-1132bcb0d896",
   "metadata": {},
   "outputs": [],
   "source": [
    "listarray = np.array([[1,2,3], [4,6,8]])"
   ]
  },
  {
   "cell_type": "code",
   "execution_count": 15,
   "id": "420c2fe4-7034-43c3-9d0e-d7027f583ade",
   "metadata": {},
   "outputs": [
    {
     "data": {
      "text/plain": [
       "array([[1, 2, 3],\n",
       "       [4, 6, 8]])"
      ]
     },
     "execution_count": 15,
     "metadata": {},
     "output_type": "execute_result"
    }
   ],
   "source": [
    "listarray"
   ]
  },
  {
   "cell_type": "code",
   "execution_count": 16,
   "id": "8e94ced8-7c14-4201-8c93-dc876e677589",
   "metadata": {},
   "outputs": [
    {
     "data": {
      "text/plain": [
       "(2, 3)"
      ]
     },
     "execution_count": 16,
     "metadata": {},
     "output_type": "execute_result"
    }
   ],
   "source": [
    "listarray.shape"
   ]
  },
  {
   "cell_type": "code",
   "execution_count": 17,
   "id": "4a67cf4f-4e09-4f64-b386-46986381c0cc",
   "metadata": {},
   "outputs": [
    {
     "data": {
      "text/plain": [
       "6"
      ]
     },
     "execution_count": 17,
     "metadata": {},
     "output_type": "execute_result"
    }
   ],
   "source": [
    "listarray.size"
   ]
  },
  {
   "cell_type": "code",
   "execution_count": 18,
   "id": "06d936ee-16d3-4ac2-979f-8e6af378ef94",
   "metadata": {},
   "outputs": [],
   "source": [
    "listarray[0,1] = 20"
   ]
  },
  {
   "cell_type": "code",
   "execution_count": 19,
   "id": "63e72899-2184-4573-8075-b88c3fcd5d2e",
   "metadata": {},
   "outputs": [
    {
     "data": {
      "text/plain": [
       "array([[ 1, 20,  3],\n",
       "       [ 4,  6,  8]])"
      ]
     },
     "execution_count": 19,
     "metadata": {},
     "output_type": "execute_result"
    }
   ],
   "source": [
    "listarray"
   ]
  },
  {
   "cell_type": "markdown",
   "id": "2c30714c-c2d5-40d8-af68-36fb0bcd05b7",
   "metadata": {},
   "source": [
    "### Intrinsic Numpy Array Creation "
   ]
  },
  {
   "cell_type": "code",
   "execution_count": 23,
   "id": "73141d24-5c70-43fb-8188-07152ddf1b3a",
   "metadata": {},
   "outputs": [],
   "source": [
    "zero = np.zeros((2,4))"
   ]
  },
  {
   "cell_type": "code",
   "execution_count": 24,
   "id": "92d8a37c-6b70-4225-874a-e25f736681c0",
   "metadata": {},
   "outputs": [
    {
     "data": {
      "text/plain": [
       "array([[0., 0., 0., 0.],\n",
       "       [0., 0., 0., 0.]])"
      ]
     },
     "execution_count": 24,
     "metadata": {},
     "output_type": "execute_result"
    }
   ],
   "source": [
    "zero"
   ]
  },
  {
   "cell_type": "code",
   "execution_count": 25,
   "id": "9a6b8455-8b4c-43d1-ae83-5f56d007b621",
   "metadata": {},
   "outputs": [],
   "source": [
    "rng = np.arange(10)"
   ]
  },
  {
   "cell_type": "code",
   "execution_count": 26,
   "id": "5491b62a-55d2-4c7a-88f3-af00d3039794",
   "metadata": {},
   "outputs": [
    {
     "data": {
      "text/plain": [
       "array([0, 1, 2, 3, 4, 5, 6, 7, 8, 9])"
      ]
     },
     "execution_count": 26,
     "metadata": {},
     "output_type": "execute_result"
    }
   ],
   "source": [
    "rng"
   ]
  },
  {
   "cell_type": "code",
   "execution_count": 34,
   "id": "583c381d-e1ee-473b-8ec2-bc67aa1664b5",
   "metadata": {},
   "outputs": [],
   "source": [
    "lspace = np.linspace(1,40,10)"
   ]
  },
  {
   "cell_type": "code",
   "execution_count": 35,
   "id": "0db7a59a-6d98-40fe-a803-c75b8610fd81",
   "metadata": {},
   "outputs": [
    {
     "data": {
      "text/plain": [
       "array([ 1.        ,  5.33333333,  9.66666667, 14.        , 18.33333333,\n",
       "       22.66666667, 27.        , 31.33333333, 35.66666667, 40.        ])"
      ]
     },
     "execution_count": 35,
     "metadata": {},
     "output_type": "execute_result"
    }
   ],
   "source": [
    "lspace"
   ]
  },
  {
   "cell_type": "code",
   "execution_count": 39,
   "id": "f2329062-39fa-4aca-b47e-484e59a99e9a",
   "metadata": {},
   "outputs": [],
   "source": [
    "emp = np.empty((3,4))"
   ]
  },
  {
   "cell_type": "code",
   "execution_count": 40,
   "id": "e7e91c85-1d5b-4724-b6ce-f413f9bb02e5",
   "metadata": {},
   "outputs": [
    {
     "data": {
      "text/plain": [
       "array([[6.23042070e-307, 4.67296746e-307, 1.69121096e-306,\n",
       "        6.23047842e-307],\n",
       "       [8.45593934e-307, 7.56593017e-307, 1.11258854e-306,\n",
       "        1.33512376e-306],\n",
       "       [9.34609790e-307, 8.45590539e-307, 8.34445562e-308,\n",
       "        3.08148792e-033]])"
      ]
     },
     "execution_count": 40,
     "metadata": {},
     "output_type": "execute_result"
    }
   ],
   "source": [
    "emp"
   ]
  },
  {
   "cell_type": "code",
   "execution_count": 54,
   "id": "7a5d7228-1cbf-4471-93e6-caa052d7c24e",
   "metadata": {},
   "outputs": [],
   "source": [
    "rng1 = np.arange(99)"
   ]
  },
  {
   "cell_type": "code",
   "execution_count": 55,
   "id": "98f4484d-9f3a-4762-9dfa-11de5bcffc18",
   "metadata": {},
   "outputs": [
    {
     "data": {
      "text/plain": [
       "array([ 0,  1,  2,  3,  4,  5,  6,  7,  8,  9, 10, 11, 12, 13, 14, 15, 16,\n",
       "       17, 18, 19, 20, 21, 22, 23, 24, 25, 26, 27, 28, 29, 30, 31, 32, 33,\n",
       "       34, 35, 36, 37, 38, 39, 40, 41, 42, 43, 44, 45, 46, 47, 48, 49, 50,\n",
       "       51, 52, 53, 54, 55, 56, 57, 58, 59, 60, 61, 62, 63, 64, 65, 66, 67,\n",
       "       68, 69, 70, 71, 72, 73, 74, 75, 76, 77, 78, 79, 80, 81, 82, 83, 84,\n",
       "       85, 86, 87, 88, 89, 90, 91, 92, 93, 94, 95, 96, 97, 98])"
      ]
     },
     "execution_count": 55,
     "metadata": {},
     "output_type": "execute_result"
    }
   ],
   "source": [
    "rng1"
   ]
  },
  {
   "cell_type": "code",
   "execution_count": 56,
   "id": "de1da642-7967-4505-806e-87e21d300a10",
   "metadata": {},
   "outputs": [
    {
     "data": {
      "text/plain": [
       "array([[ 0,  1,  2,  3,  4,  5,  6,  7,  8,  9, 10, 11, 12, 13, 14, 15,\n",
       "        16, 17, 18, 19, 20, 21, 22, 23, 24, 25, 26, 27, 28, 29, 30, 31,\n",
       "        32],\n",
       "       [33, 34, 35, 36, 37, 38, 39, 40, 41, 42, 43, 44, 45, 46, 47, 48,\n",
       "        49, 50, 51, 52, 53, 54, 55, 56, 57, 58, 59, 60, 61, 62, 63, 64,\n",
       "        65],\n",
       "       [66, 67, 68, 69, 70, 71, 72, 73, 74, 75, 76, 77, 78, 79, 80, 81,\n",
       "        82, 83, 84, 85, 86, 87, 88, 89, 90, 91, 92, 93, 94, 95, 96, 97,\n",
       "        98]])"
      ]
     },
     "execution_count": 56,
     "metadata": {},
     "output_type": "execute_result"
    }
   ],
   "source": [
    "rng1.reshape(3, 33)"
   ]
  },
  {
   "cell_type": "code",
   "execution_count": 57,
   "id": "3bcc36a8-2f1c-4576-9797-10bfe45a3891",
   "metadata": {},
   "outputs": [
    {
     "data": {
      "text/plain": [
       "array([ 0,  1,  2,  3,  4,  5,  6,  7,  8,  9, 10, 11, 12, 13, 14, 15, 16,\n",
       "       17, 18, 19, 20, 21, 22, 23, 24, 25, 26, 27, 28, 29, 30, 31, 32, 33,\n",
       "       34, 35, 36, 37, 38, 39, 40, 41, 42, 43, 44, 45, 46, 47, 48, 49, 50,\n",
       "       51, 52, 53, 54, 55, 56, 57, 58, 59, 60, 61, 62, 63, 64, 65, 66, 67,\n",
       "       68, 69, 70, 71, 72, 73, 74, 75, 76, 77, 78, 79, 80, 81, 82, 83, 84,\n",
       "       85, 86, 87, 88, 89, 90, 91, 92, 93, 94, 95, 96, 97, 98])"
      ]
     },
     "execution_count": 57,
     "metadata": {},
     "output_type": "execute_result"
    }
   ],
   "source": [
    "rng1.ravel()"
   ]
  },
  {
   "cell_type": "code",
   "execution_count": null,
   "id": "e77b2bfc-ccdf-43bd-96dc-a199e63882e0",
   "metadata": {},
   "outputs": [],
   "source": [
    " "
   ]
  }
 ],
 "metadata": {
  "kernelspec": {
   "display_name": "Python [conda env:base] *",
   "language": "python",
   "name": "conda-base-py"
  },
  "language_info": {
   "codemirror_mode": {
    "name": "ipython",
    "version": 3
   },
   "file_extension": ".py",
   "mimetype": "text/x-python",
   "name": "python",
   "nbconvert_exporter": "python",
   "pygments_lexer": "ipython3",
   "version": "3.13.5"
  }
 },
 "nbformat": 4,
 "nbformat_minor": 5
}
